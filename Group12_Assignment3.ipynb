{
  "nbformat": 4,
  "nbformat_minor": 0,
  "metadata": {
    "colab": {
      "name": "Group12_Assignment3.ipynb",
      "provenance": [],
      "collapsed_sections": []
    },
    "kernelspec": {
      "name": "python3",
      "display_name": "Python 3"
    },
    "accelerator": "GPU"
  },
  "cells": [
    {
      "cell_type": "code",
      "metadata": {
        "id": "1bxaboHfKggB",
        "colab_type": "code",
        "colab": {}
      },
      "source": [
        "import nltk\n",
        "import numpy as np\n",
        "import scipy\n",
        "import sklearn\n",
        "import networkx\n",
        "import bs4 as bs"
      ],
      "execution_count": 0,
      "outputs": []
    },
    {
      "cell_type": "code",
      "metadata": {
        "id": "wd5rYRSGNNCM",
        "colab_type": "code",
        "outputId": "09c85708-029f-417d-edf7-b34fc51f9b19",
        "colab": {
          "base_uri": "https://localhost:8080/",
          "height": 187
        }
      },
      "source": [
        "!pip install parsel"
      ],
      "execution_count": 0,
      "outputs": [
        {
          "output_type": "stream",
          "text": [
            "Collecting parsel\n",
            "  Downloading https://files.pythonhosted.org/packages/86/c8/fc5a2f9376066905dfcca334da2a25842aedfda142c0424722e7c497798b/parsel-1.5.2-py2.py3-none-any.whl\n",
            "Collecting cssselect>=0.9\n",
            "  Downloading https://files.pythonhosted.org/packages/3b/d4/3b5c17f00cce85b9a1e6f91096e1cc8e8ede2e1be8e96b87ce1ed09e92c5/cssselect-1.1.0-py2.py3-none-any.whl\n",
            "Collecting w3lib>=1.19.0\n",
            "  Downloading https://files.pythonhosted.org/packages/6a/45/1ba17c50a0bb16bd950c9c2b92ec60d40c8ebda9f3371ae4230c437120b6/w3lib-1.21.0-py2.py3-none-any.whl\n",
            "Requirement already satisfied: lxml; python_version != \"3.4\" in /usr/local/lib/python3.6/dist-packages (from parsel) (4.2.6)\n",
            "Requirement already satisfied: six>=1.5.2 in /usr/local/lib/python3.6/dist-packages (from parsel) (1.12.0)\n",
            "Installing collected packages: cssselect, w3lib, parsel\n",
            "Successfully installed cssselect-1.1.0 parsel-1.5.2 w3lib-1.21.0\n"
          ],
          "name": "stdout"
        }
      ]
    },
    {
      "cell_type": "code",
      "metadata": {
        "id": "LvzFHcztLINq",
        "colab_type": "code",
        "colab": {}
      },
      "source": [
        "import urllib.request\n",
        "from html.parser import HTMLParser\n",
        "from urllib.parse import urlparse\n",
        "from parsel import Selector\n",
        "import networkx as nx"
      ],
      "execution_count": 0,
      "outputs": []
    },
    {
      "cell_type": "markdown",
      "metadata": {
        "id": "6tD9p6dPNzQZ",
        "colab_type": "text"
      },
      "source": [
        "# TASK 1: WEB CRAWLER"
      ]
    },
    {
      "cell_type": "markdown",
      "metadata": {
        "id": "Xjkos3ESZBrj",
        "colab_type": "text"
      },
      "source": [
        "a) 5 seed URLs\n",
        "\n",
        "b) Fetching webpages"
      ]
    },
    {
      "cell_type": "code",
      "metadata": {
        "id": "vb4C2xDiNFYu",
        "colab_type": "code",
        "colab": {}
      },
      "source": [
        "url_set = ['https://www.fatestaynightusa.com/','https://en.wikipedia.org/wiki/India','https://in.reuters.com/news/world','https://www.dronecode.org','https://wiki.ros.org']\n"
      ],
      "execution_count": 0,
      "outputs": []
    },
    {
      "cell_type": "code",
      "metadata": {
        "id": "pV7F95slel9k",
        "colab_type": "code",
        "colab": {}
      },
      "source": [
        "from bs4.element import Comment\n",
        "import re,string"
      ],
      "execution_count": 0,
      "outputs": []
    },
    {
      "cell_type": "code",
      "metadata": {
        "id": "WcNc2tpciWbl",
        "colab_type": "code",
        "colab": {}
      },
      "source": [
        "def clean(s_l):\n",
        "    cl_s = \"\"\n",
        "    for i in s_l:\n",
        "        if(i == ''):\n",
        "            continue\n",
        "        s = re.sub('[\\W_]+', ' ', i)\n",
        "        cl_s += s + \" \"\n",
        "    return cl_s"
      ],
      "execution_count": 0,
      "outputs": []
    },
    {
      "cell_type": "markdown",
      "metadata": {
        "id": "slaRUrWTboZ7",
        "colab_type": "text"
      },
      "source": [
        "c) Parsing content"
      ]
    },
    {
      "cell_type": "markdown",
      "metadata": {
        "id": "_qcAg_s2SscF",
        "colab_type": "text"
      },
      "source": [
        "Helper Functions"
      ]
    },
    {
      "cell_type": "code",
      "metadata": {
        "id": "YxqAVKdSrcOs",
        "colab_type": "code",
        "colab": {}
      },
      "source": [
        "def getText(html):\n",
        "    try:\n",
        "      soup = bs.BeautifulSoup(html,'html.parser')\n",
        "      st = []\n",
        "      for paragraph in soup.find_all('p'):\n",
        "          st.append(str(paragraph.text).strip())\n",
        "      return clean(st)\n",
        "    except:\n",
        "      print(\"ERROR IN TEXT FOR THE WEBSITE\")"
      ],
      "execution_count": 0,
      "outputs": []
    },
    {
      "cell_type": "code",
      "metadata": {
        "id": "lUI8dBZEOaGM",
        "colab_type": "code",
        "colab": {}
      },
      "source": [
        "def getDataFromURL(url):\n",
        "    try:\n",
        "        with urllib.request.urlopen(url) as response:\n",
        "            html = response.read()\n",
        "            return html\n",
        "    except urllib.error.HTTPError as err:\n",
        "        print(err.code)\n",
        "    except:\n",
        "        print(\"ERROR IN CONTENT OF THE WEBSITE WHICH IS NOT ACCESS ERROR\")\n",
        "\n",
        "    "
      ],
      "execution_count": 0,
      "outputs": []
    },
    {
      "cell_type": "code",
      "metadata": {
        "id": "bl59wsMNOwrz",
        "colab_type": "code",
        "colab": {}
      },
      "source": [
        "def getSelector(html):\n",
        "    try:\n",
        "        selector = Selector(text=html.decode(\"utf-8\").strip())\n",
        "        return selector\n",
        "    except:\n",
        "        print(\"ERROR IN SELECTOR FOR THE WEBSITE\")"
      ],
      "execution_count": 0,
      "outputs": []
    },
    {
      "cell_type": "code",
      "metadata": {
        "id": "vw_qZFIJPBdL",
        "colab_type": "code",
        "colab": {}
      },
      "source": [
        "def getBody(selector):\n",
        "    pol = selector.css('body').get()\n",
        "    return pol\n"
      ],
      "execution_count": 0,
      "outputs": []
    },
    {
      "cell_type": "code",
      "metadata": {
        "id": "z5swC7A1PMGc",
        "colab_type": "code",
        "colab": {}
      },
      "source": [
        "def getUrls(selector):\n",
        "    urls = selector.xpath('//a/@href').getall() \n",
        "    return urls"
      ],
      "execution_count": 0,
      "outputs": []
    },
    {
      "cell_type": "code",
      "metadata": {
        "id": "RwGyGtbVPsC8",
        "colab_type": "code",
        "colab": {}
      },
      "source": [
        "def processQueue(url):\n",
        "    parsedURL = urlparse(url)\n",
        "    \n",
        "    data = getDataFromURL(url)\n",
        "    if(data is None):\n",
        "        return 89,56\n",
        "    text = getText(data)\n",
        "    if(text is None):\n",
        "      return 89,56\n",
        "    selector = getSelector(data)\n",
        "    if(selector is None):\n",
        "        return 89,56\n",
        "    body = getBody(selector)\n",
        "    urls = getUrls(selector)\n",
        "    \n",
        "    for idx,i in enumerate(urls):\n",
        "        if i.startswith(\"/\"):\n",
        "            urls[idx] = parsedURL.scheme + '://' + parsedURL.netloc + i\n",
        "            #print(urls[idx])\n",
        "\n",
        "    return urls,text\n"
      ],
      "execution_count": 0,
      "outputs": []
    },
    {
      "cell_type": "markdown",
      "metadata": {
        "id": "ax99HUo_SvqK",
        "colab_type": "text"
      },
      "source": [
        "Actual Parsing and Making of the Graph"
      ]
    },
    {
      "cell_type": "code",
      "metadata": {
        "id": "aBY_Qrm-T7Hf",
        "colab_type": "code",
        "colab": {}
      },
      "source": [
        "comp_url_act = []\n",
        "for i in url_set:\n",
        "    urls_act,txt_act = processQueue(i)\n",
        "    comp_url_act.append(urls_act)"
      ],
      "execution_count": 0,
      "outputs": []
    },
    {
      "cell_type": "code",
      "metadata": {
        "id": "PjWcs03ccZ-n",
        "colab_type": "code",
        "colab": {}
      },
      "source": [
        ""
      ],
      "execution_count": 0,
      "outputs": []
    },
    {
      "cell_type": "code",
      "metadata": {
        "id": "QmjWnFIgUCXc",
        "colab_type": "code",
        "colab": {}
      },
      "source": [
        "graph = nx.DiGraph()\n",
        "c=0\n",
        "for j,urls_act in enumerate(comp_url_act):\n",
        "    for i in urls_act:\n",
        "        if not i.startswith(\"#\"):\n",
        "            c+=1\n",
        "            graph.add_edge(url_set[j],i)\n"
      ],
      "execution_count": 0,
      "outputs": []
    },
    {
      "cell_type": "markdown",
      "metadata": {
        "id": "YxCOJCUlbzzi",
        "colab_type": "text"
      },
      "source": [
        "d) Setting up URL frontier"
      ]
    },
    {
      "cell_type": "code",
      "metadata": {
        "id": "ZDK8r6DYbmnN",
        "colab_type": "code",
        "colab": {}
      },
      "source": [
        "url_frontier = []"
      ],
      "execution_count": 0,
      "outputs": []
    },
    {
      "cell_type": "code",
      "metadata": {
        "id": "LmxkirXndqhc",
        "colab_type": "code",
        "colab": {}
      },
      "source": [
        "for urls_act in comp_url_act:\n",
        "    ext_url = [i for i in urls_act if not i.startswith(\"#\")]\n",
        "    url_frontier = url_frontier + ext_url"
      ],
      "execution_count": 0,
      "outputs": []
    },
    {
      "cell_type": "code",
      "metadata": {
        "id": "YrV190QxpEWT",
        "colab_type": "code",
        "colab": {}
      },
      "source": [
        "import random\n",
        "import heapq\n",
        "from datetime import datetime, timedelta\n",
        "from random import randrange"
      ],
      "execution_count": 0,
      "outputs": []
    },
    {
      "cell_type": "code",
      "metadata": {
        "id": "TBLKoj7apOdv",
        "colab_type": "code",
        "colab": {}
      },
      "source": [
        "random.shuffle(url_frontier)"
      ],
      "execution_count": 0,
      "outputs": []
    },
    {
      "cell_type": "code",
      "metadata": {
        "id": "lUkfUOgO6lsc",
        "colab_type": "code",
        "outputId": "8447cb0c-a88c-409f-ae2f-ce8c2d6e6f7d",
        "colab": {
          "base_uri": "https://localhost:8080/",
          "height": 34
        }
      },
      "source": [
        "back_q = {}\n",
        "now = datetime.now()\n",
        "start = now.strftime(\"%H:%M:%S\")\n",
        "start"
      ],
      "execution_count": 0,
      "outputs": [
        {
          "output_type": "execute_result",
          "data": {
            "text/plain": [
              "'07:24:57'"
            ]
          },
          "metadata": {
            "tags": []
          },
          "execution_count": 19
        }
      ]
    },
    {
      "cell_type": "markdown",
      "metadata": {
        "id": "9IOi4Mqob3qY",
        "colab_type": "text"
      },
      "source": [
        "d) back queue implementation for URL frontier\n",
        "\n",
        "e) discarding if already fetched"
      ]
    },
    {
      "cell_type": "code",
      "metadata": {
        "id": "YJGIqWttqWhR",
        "colab_type": "code",
        "colab": {}
      },
      "source": [
        "for url in url_frontier:\n",
        "    parsed_uri = urlparse(url)\n",
        "    result = '{uri.scheme}://{uri.netloc}/'.format(uri=parsed_uri) #Find the host domain\n",
        "    \n",
        "    if(result not in back_q):\n",
        "        back_q[result] = []\n",
        "        back_q[result].append(url)\n",
        "        \n",
        "    else:\n",
        "        back_q[result].append(url)\n",
        "            \n",
        "    "
      ],
      "execution_count": 0,
      "outputs": []
    },
    {
      "cell_type": "code",
      "metadata": {
        "id": "Er_7Y-0S2tBw",
        "colab_type": "code",
        "colab": {}
      },
      "source": [
        "back_q_keys = list(back_q.keys())"
      ],
      "execution_count": 0,
      "outputs": []
    },
    {
      "cell_type": "code",
      "metadata": {
        "id": "1pCWT9B97I9d",
        "colab_type": "code",
        "colab": {}
      },
      "source": [
        "random.shuffle(back_q_keys)"
      ],
      "execution_count": 0,
      "outputs": []
    },
    {
      "cell_type": "markdown",
      "metadata": {
        "id": "xhrTXFqJzmIO",
        "colab_type": "text"
      },
      "source": [
        "Function for adding to back queue"
      ]
    },
    {
      "cell_type": "code",
      "metadata": {
        "id": "dOWf6Nyh7w8v",
        "colab_type": "code",
        "colab": {}
      },
      "source": [
        "def add_to_back(urls,back_q,m_heap):\n",
        "    ext_url = [i for i in urls if not i.startswith(\"#\")]\n",
        "    for url in ext_url:\n",
        "        parsed_uri = urlparse(url)\n",
        "        result = '{uri.scheme}://{uri.netloc}/'.format(uri=parsed_uri) #Find the host domain\n",
        "        if('https' not in result and 'http' not in result):\n",
        "            continue  \n",
        "        if(result not in back_q):\n",
        "            back_q[result] = []\n",
        "            back_q[result].append(url)\n",
        "            now = datetime.now()\n",
        "            start = now + timedelta(minutes=randrange(60))\n",
        "            m_heap.append((start,result))\n",
        "        else:\n",
        "            back_q[result].append(url)\n",
        "\n",
        "    back_q_keys = list(back_q.keys())\n",
        "    random.shuffle(back_q_keys)\n",
        "    heapq.heapify(m_heap)\n",
        "    return back_q, m_heap\n"
      ],
      "execution_count": 0,
      "outputs": []
    },
    {
      "cell_type": "code",
      "metadata": {
        "id": "fA5A3-7U8uTB",
        "colab_type": "code",
        "colab": {}
      },
      "source": [
        "doc_list = []\n",
        "m_heap = []"
      ],
      "execution_count": 0,
      "outputs": []
    },
    {
      "cell_type": "code",
      "metadata": {
        "id": "uwLW4etm2chh",
        "colab_type": "code",
        "colab": {}
      },
      "source": [
        ""
      ],
      "execution_count": 0,
      "outputs": []
    },
    {
      "cell_type": "code",
      "metadata": {
        "id": "VNlFPNqw-TYU",
        "colab_type": "code",
        "colab": {}
      },
      "source": [
        "for key in back_q_keys:\n",
        "    now = datetime.now()\n",
        "    \n",
        "    start = now + timedelta(minutes=randrange(60))\n",
        "    \n",
        "    m_heap.append((start,key))"
      ],
      "execution_count": 0,
      "outputs": []
    },
    {
      "cell_type": "code",
      "metadata": {
        "id": "V5hMJkAR-bQi",
        "colab_type": "code",
        "colab": {}
      },
      "source": [
        "heapq.heapify(m_heap)"
      ],
      "execution_count": 0,
      "outputs": []
    },
    {
      "cell_type": "code",
      "metadata": {
        "id": "BOosAR7TAV31",
        "colab_type": "code",
        "colab": {}
      },
      "source": [
        ""
      ],
      "execution_count": 0,
      "outputs": []
    },
    {
      "cell_type": "code",
      "metadata": {
        "id": "yBGhMyCx-is_",
        "colab_type": "code",
        "colab": {}
      },
      "source": [
        ""
      ],
      "execution_count": 0,
      "outputs": []
    },
    {
      "cell_type": "markdown",
      "metadata": {
        "id": "_ITWp2mUcSZ4",
        "colab_type": "text"
      },
      "source": [
        "f) collecting till 100 documents collected"
      ]
    },
    {
      "cell_type": "code",
      "metadata": {
        "id": "r7DD0WcP93fQ",
        "colab_type": "code",
        "outputId": "54b77534-3b5b-4f68-e8ba-d09a8bdfaea7",
        "colab": {
          "base_uri": "https://localhost:8080/",
          "height": 1000
        }
      },
      "source": [
        "while(len(doc_list) < 100):\n",
        "    root = m_heap[0]\n",
        "    \n",
        "    print('root ', root)\n",
        "    if(len(back_q[root[1]]) == 0):\n",
        "        heapq.heappop(m_heap)\n",
        "        continue\n",
        "    needed_url = back_q[root[1]][0]\n",
        "    urls_act,txt_act = processQueue(needed_url)\n",
        "    \n",
        "    #if(len(back_q[root[1]]) == 0):\n",
        "    \n",
        "    back_q[root[1]].remove(needed_url)\n",
        "    m_heap[0] = (m_heap[0][0]+timedelta(2),m_heap[0][1])\n",
        "    \n",
        "    if(type(urls_act) == int):\n",
        "        heapq.heapify(m_heap)\n",
        "        continue\n",
        "    \n",
        "    if(not any(i.isalnum() for i in txt_act)):\n",
        "        print(\"Cant take no alphanumeric character strings\")\n",
        "        heapq.heapify(m_heap)\n",
        "        continue\n",
        "\n",
        "    if(txt_act in doc_list):\n",
        "        print(\"SEEN THIS\")\n",
        "        heapq.heapify(m_heap)\n",
        "        continue\n",
        "    \n",
        "    #print(needed_url)\n",
        "    \n",
        "    doc_list.append(txt_act)\n",
        "    back_q, m_heap = add_to_back(urls_act,back_q,m_heap)\n",
        "    \n",
        "    for i in urls_act:\n",
        "        if not i.startswith(\"#\"):\n",
        "                \n",
        "            graph.add_edge(needed_url,i)\n",
        "    \n",
        "    heapq.heapify(m_heap)\n",
        "    \n",
        "    print(len(doc_list))\n",
        "\n",
        "\n"
      ],
      "execution_count": 0,
      "outputs": [
        {
          "output_type": "stream",
          "text": [
            "root  (datetime.datetime(2019, 11, 18, 7, 25, 14, 917917), 'http://thebulletin.org/')\n",
            "403\n",
            "root  (datetime.datetime(2019, 11, 18, 7, 25, 14, 918011), 'https://www.sportskeeda.com/')\n",
            "1\n",
            "root  (datetime.datetime(2019, 11, 18, 7, 25, 14, 918103), 'https://curlie.org/')\n",
            "2\n",
            "root  (datetime.datetime(2019, 11, 18, 7, 25, 14, 919483), 'https://arz.wikipedia.org/')\n",
            "3\n",
            "root  (datetime.datetime(2019, 11, 18, 7, 25, 14, 919544), 'https://su.wikipedia.org/')\n",
            "4\n",
            "root  (datetime.datetime(2019, 11, 18, 7, 26, 14, 917863), 'http://www.defencereviewasia.com/')\n",
            "404\n",
            "root  (datetime.datetime(2019, 11, 18, 7, 26, 14, 918070), 'https://da.wikipedia.org/')\n",
            "5\n",
            "root  (datetime.datetime(2019, 11, 18, 7, 26, 14, 918125), 'http://www.thecommonwealth.org/')\n",
            "403\n",
            "root  (datetime.datetime(2019, 11, 18, 7, 26, 14, 918377), 'http://timesofindia.indiatimes.com/')\n",
            "ERROR IN CONTENT OF THE WEBSITE WHICH IS NOT ACCESS ERROR\n",
            "root  (datetime.datetime(2019, 11, 18, 7, 26, 14, 919101), 'https://pnb.wikipedia.org/')\n",
            "6\n",
            "root  (datetime.datetime(2019, 11, 18, 7, 26, 14, 919134), 'https://cdo.wikipedia.org/')\n",
            "7\n",
            "root  (datetime.datetime(2019, 11, 18, 7, 26, 14, 919466), 'https://kg.wikipedia.org/')\n",
            "8\n",
            "root  (datetime.datetime(2019, 11, 18, 7, 26, 14, 919647), 'https://www.fatestaynightusa.com/')\n",
            "9\n",
            "root  (datetime.datetime(2019, 11, 18, 7, 26, 14, 919680), 'http://europa.eu/')\n",
            "10\n",
            "root  (datetime.datetime(2019, 11, 18, 7, 26, 14, 919793), 'https://ka.wikipedia.org/')\n",
            "11\n",
            "root  (datetime.datetime(2019, 11, 18, 7, 26, 25, 4698), 'http://zeenews.india.com/')\n",
            "403\n",
            "root  (datetime.datetime(2019, 11, 18, 7, 27, 14, 918003), 'http://transparencyindia.org/')\n",
            "404\n",
            "root  (datetime.datetime(2019, 11, 18, 7, 27, 14, 918222), 'http://catalogo.bne.es/')\n",
            "12\n",
            "root  (datetime.datetime(2019, 11, 18, 7, 27, 14, 919078), 'http://mrobotics.io/')\n",
            "13\n",
            "root  (datetime.datetime(2019, 11, 18, 7, 27, 14, 919320), 'https://vo.wikipedia.org/')\n",
            "14\n",
            "root  (datetime.datetime(2019, 11, 18, 7, 27, 14, 919340), 'https://cs.wikipedia.org/')\n",
            "15\n",
            "root  (datetime.datetime(2019, 11, 18, 7, 26, 34, 213359), 'https://magazin.centrum.sk/')\n",
            "16\n",
            "root  (datetime.datetime(2019, 11, 18, 7, 27, 14, 919348), 'https://en.wikiversity.org/')\n",
            "17\n",
            "root  (datetime.datetime(2019, 11, 18, 7, 27, 14, 919634), 'https://nah.wikipedia.org/')\n",
            "18\n",
            "root  (datetime.datetime(2019, 11, 18, 7, 27, 21, 624062), 'http://www.state.gov/')\n",
            "19\n",
            "root  (datetime.datetime(2019, 11, 18, 7, 25, 38, 266178), 'https://travel.state.gov/')\n",
            "20\n",
            "root  (datetime.datetime(2019, 11, 18, 7, 27, 38, 265374), 'https://diplomacy.state.gov/')\n",
            "21\n",
            "root  (datetime.datetime(2019, 11, 18, 7, 27, 38, 265386), 'https://art.state.gov/')\n",
            "22\n",
            "root  (datetime.datetime(2019, 11, 18, 7, 28, 14, 918129), 'https://si.wikipedia.org/')\n",
            "23\n",
            "root  (datetime.datetime(2019, 11, 18, 7, 28, 14, 918217), 'https://zh-classical.wikipedia.org/')\n",
            "24\n",
            "root  (datetime.datetime(2019, 11, 18, 7, 28, 14, 918284), 'https://www.thomsonreuters.com/')\n",
            "25\n",
            "root  (datetime.datetime(2019, 11, 18, 7, 25, 42, 483632), 'http://www.aboutcookies.org/')\n",
            "26\n",
            "root  (datetime.datetime(2019, 11, 18, 7, 28, 14, 918329), 'https://got.wikipedia.org/')\n",
            "27\n",
            "root  (datetime.datetime(2019, 11, 18, 7, 28, 14, 918933), 'https://data.worldbank.org/')\n",
            "28\n",
            "root  (datetime.datetime(2019, 11, 18, 7, 25, 46, 360326), 'https://datos.bancomundial.org/')\n",
            "29\n",
            "root  (datetime.datetime(2019, 11, 18, 7, 28, 14, 919113), 'https://tpi.wikipedia.org/')\n",
            "30\n",
            "root  (datetime.datetime(2019, 11, 18, 7, 28, 14, 919138), 'http://eci.nic.in/')\n",
            "ERROR IN CONTENT OF THE WEBSITE WHICH IS NOT ACCESS ERROR\n",
            "root  (datetime.datetime(2019, 11, 18, 7, 28, 14, 919303), 'https://sn.wikipedia.org/')\n",
            "31\n",
            "root  (datetime.datetime(2019, 11, 18, 7, 28, 14, 919542), 'https://nn.wikipedia.org/')\n",
            "32\n",
            "root  (datetime.datetime(2019, 11, 18, 7, 28, 25, 4857), 'http://www.nature.com/')\n",
            "33\n",
            "root  (datetime.datetime(2019, 11, 18, 7, 25, 55, 359006), 'https://authorservices.springernature.com/')\n",
            "34\n",
            "root  (datetime.datetime(2019, 11, 18, 7, 26, 55, 358079), 'https://doi.org/')\n",
            "403\n",
            "root  (datetime.datetime(2019, 11, 18, 7, 28, 25, 5828), 'http://www.jstor.org/')\n",
            "403\n",
            "root  (datetime.datetime(2019, 11, 18, 7, 28, 25, 11681), 'http://www.hls-dhs-dss.ch/')\n",
            "403\n",
            "root  (datetime.datetime(2019, 11, 18, 7, 28, 34, 213522), 'https://www.dezeen.com/')\n",
            "35\n",
            "root  (datetime.datetime(2019, 11, 18, 7, 26, 58, 830228), 'http://legorretalegorreta.com/')\n",
            "403\n",
            "root  (datetime.datetime(2019, 11, 18, 7, 28, 34, 213750), 'https://cs.wikiquote.org/')\n",
            "36\n",
            "root  (datetime.datetime(2019, 11, 18, 7, 25, 59, 548365), 'https://de.wikiquote.org/')\n",
            "Cant take no alphanumeric character strings\n",
            "root  (datetime.datetime(2019, 11, 18, 7, 28, 39, 970301), 'http://State.gov/')\n",
            "37\n",
            "root  (datetime.datetime(2019, 11, 18, 7, 28, 0, 409933), 'https://eca.state.gov/')\n",
            "38\n",
            "root  (datetime.datetime(2019, 11, 18, 7, 29, 14, 917931), 'https://ta.wikipedia.org/')\n",
            "39\n",
            "root  (datetime.datetime(2019, 11, 18, 7, 26, 2, 448041), 'https://ta.wikiquote.org/')\n",
            "40\n",
            "root  (datetime.datetime(2019, 11, 18, 7, 26, 3, 271748), 'https://zh.wikiquote.org/')\n",
            "41\n",
            "root  (datetime.datetime(2019, 11, 18, 7, 27, 2, 444379), 'http://www.tourismofindia.com/')\n",
            "404\n",
            "root  (datetime.datetime(2019, 11, 18, 7, 27, 3, 777546), 'https://zh.wikibooks.org/')\n",
            "42\n",
            "root  (datetime.datetime(2019, 11, 18, 7, 27, 5, 126602), 'https://ku.wikibooks.org/')\n",
            "43\n",
            "root  (datetime.datetime(2019, 11, 18, 7, 26, 5, 554716), 'https://kn.wikibooks.org/')\n",
            "44\n",
            "root  (datetime.datetime(2019, 11, 18, 7, 27, 5, 555229), 'https://tk.wikibooks.org/')\n",
            "45\n",
            "root  (datetime.datetime(2019, 11, 18, 7, 28, 3, 271382), 'https://mr.wikiquote.org/')\n",
            "46\n",
            "root  (datetime.datetime(2019, 11, 18, 7, 28, 3, 777591), 'https://zh.wikivoyage.org/')\n",
            "47\n",
            "root  (datetime.datetime(2019, 11, 18, 7, 28, 5, 126477), 'https://id.wikibooks.org/')\n",
            "48\n",
            "root  (datetime.datetime(2019, 11, 18, 7, 28, 5, 553769), 'https://ku.wikinews.org/')\n",
            "49\n",
            "root  (datetime.datetime(2019, 11, 18, 7, 28, 5, 554384), 'https://co.wikibooks.org/')\n",
            "50\n",
            "root  (datetime.datetime(2019, 11, 18, 7, 29, 3, 270756), 'https://am.wikiquote.org/')\n",
            "51\n",
            "root  (datetime.datetime(2019, 11, 18, 7, 26, 11, 215613), 'https://bo.wikiquote.org/')\n",
            "52\n",
            "root  (datetime.datetime(2019, 11, 18, 7, 29, 5, 126661), 'https://lv.wikibooks.org/')\n",
            "53\n",
            "root  (datetime.datetime(2019, 11, 18, 7, 29, 8, 521565), 'https://hi.wikivoyage.org/')\n",
            "54\n",
            "root  (datetime.datetime(2019, 11, 18, 7, 29, 10, 803295), 'https://www.wikipedia.org/')\n",
            "55\n",
            "root  (datetime.datetime(2019, 11, 18, 7, 29, 11, 216665), 'https://zu.wikiquote.org/')\n",
            "SEEN THIS\n",
            "root  (datetime.datetime(2019, 11, 18, 7, 29, 14, 918048), 'https://tg.wikipedia.org/')\n",
            "56\n",
            "root  (datetime.datetime(2019, 11, 18, 7, 29, 14, 918066), 'https://as.wikipedia.org/')\n",
            "57\n",
            "root  (datetime.datetime(2019, 11, 18, 7, 29, 14, 918246), 'https://libris.kb.se/')\n",
            "500\n",
            "root  (datetime.datetime(2019, 11, 18, 7, 29, 14, 918340), 'https://auterion.com/')\n",
            "58\n",
            "root  (datetime.datetime(2019, 11, 18, 7, 29, 14, 918385), 'https://mr.wikipedia.org/')\n",
            "59\n",
            "root  (datetime.datetime(2019, 11, 18, 7, 29, 14, 919029), 'http://archive.india.gov.in/')\n",
            "60\n",
            "root  (datetime.datetime(2019, 11, 18, 7, 29, 14, 919038), 'https://als.wikipedia.org/')\n",
            "61\n",
            "root  (datetime.datetime(2019, 11, 18, 7, 28, 23, 36510), 'http://www.gaebler.info/')\n",
            "62\n",
            "root  (datetime.datetime(2019, 11, 18, 7, 28, 23, 37031), 'http://www.bpb.de/')\n",
            "63\n",
            "root  (datetime.datetime(2019, 11, 18, 7, 29, 14, 919058), 'http://www.thehindubusinessline.com/')\n",
            "403\n",
            "root  (datetime.datetime(2019, 11, 18, 7, 29, 14, 919063), 'https://rn.wikipedia.org/')\n",
            "64\n",
            "root  (datetime.datetime(2019, 11, 18, 7, 29, 14, 919629), 'https://www.dronedeploy.com/')\n",
            "65\n",
            "root  (datetime.datetime(2019, 11, 18, 7, 29, 19, 931553), 'https://search.aol.com/')\n",
            "66\n",
            "root  (datetime.datetime(2019, 11, 18, 7, 29, 19, 931594), 'https://duckduckgo.com/')\n",
            "67\n",
            "root  (datetime.datetime(2019, 11, 18, 7, 29, 23, 36660), 'http://www.princeton.edu/')\n"
          ],
          "name": "stdout"
        },
        {
          "output_type": "stream",
          "text": [
            "Some characters could not be decoded, and were replaced with REPLACEMENT CHARACTER.\n"
          ],
          "name": "stderr"
        },
        {
          "output_type": "stream",
          "text": [
            "ERROR IN SELECTOR FOR THE WEBSITE\n",
            "root  (datetime.datetime(2019, 11, 18, 7, 29, 25, 4472), 'http://beta.thehindu.com/')\n",
            "68\n",
            "root  (datetime.datetime(2019, 11, 18, 7, 29, 25, 5602), 'http://www.gardenvisit.com/')\n",
            "404\n",
            "root  (datetime.datetime(2019, 11, 18, 7, 29, 29, 277953), 'http://data.europa.eu/')\n",
            "69\n",
            "root  (datetime.datetime(2019, 11, 18, 7, 29, 42, 483698), 'https://support.apple.com/')\n",
            "70\n",
            "root  (datetime.datetime(2019, 11, 18, 7, 28, 38, 120188), 'https://discussions.apple.com/')\n",
            "71\n",
            "root  (datetime.datetime(2019, 11, 18, 7, 29, 42, 483710), 'http://www.macromedia.com/')\n",
            "72\n",
            "root  (datetime.datetime(2019, 11, 18, 7, 27, 39, 951874), 'http://adobe.com/')\n"
          ],
          "name": "stdout"
        },
        {
          "output_type": "stream",
          "text": [
            "Some characters could not be decoded, and were replaced with REPLACEMENT CHARACTER.\n"
          ],
          "name": "stderr"
        },
        {
          "output_type": "stream",
          "text": [
            "ERROR IN SELECTOR FOR THE WEBSITE\n",
            "root  (datetime.datetime(2019, 11, 18, 7, 30, 1, 513014), 'https://instagram.com/')\n",
            "Cant take no alphanumeric character strings\n",
            "root  (datetime.datetime(2019, 11, 18, 7, 30, 1, 513366), 'https://get.adobe.com/')\n",
            "73\n",
            "root  (datetime.datetime(2019, 11, 18, 7, 30, 3, 271306), 'https://ky.wikiquote.org/')\n",
            "74\n",
            "root  (datetime.datetime(2019, 11, 18, 7, 30, 5, 126999), 'https://te.wikibooks.org/')\n",
            "75\n",
            "root  (datetime.datetime(2019, 11, 18, 7, 30, 5, 555333), 'https://xh.wikibooks.org/')\n",
            "76\n",
            "root  (datetime.datetime(2019, 11, 18, 7, 30, 10, 803705), 'https://fur.wikibooks.org/')\n",
            "77\n",
            "root  (datetime.datetime(2019, 11, 18, 7, 30, 11, 216309), 'https://om.wikiquote.org/')\n",
            "SEEN THIS\n",
            "root  (datetime.datetime(2019, 11, 18, 7, 30, 14, 918088), 'https://hls-dhs-dss.ch/')\n",
            "403\n",
            "root  (datetime.datetime(2019, 11, 18, 7, 30, 14, 918883), 'http://www.holybro.com/')\n",
            "78\n",
            "root  (datetime.datetime(2019, 11, 18, 7, 29, 48, 933565), 'https://shop.holybro.com/')\n",
            "79\n",
            "root  (datetime.datetime(2019, 11, 18, 7, 30, 14, 918984), 'https://inh.wikipedia.org/')\n",
            "80\n",
            "root  (datetime.datetime(2019, 11, 18, 7, 30, 14, 919073), 'https://ky.wikipedia.org/')\n",
            "81\n",
            "root  (datetime.datetime(2019, 11, 18, 7, 30, 14, 919190), 'https://roa-rup.wikipedia.org/')\n",
            "82\n",
            "root  (datetime.datetime(2019, 11, 18, 7, 30, 14, 919328), 'https://bg.wikipedia.org/')\n",
            "83\n",
            "root  (datetime.datetime(2019, 11, 18, 7, 27, 51, 831700), 'http://world-gazetteer.com/')\n",
            "403\n",
            "root  (datetime.datetime(2019, 11, 18, 7, 28, 51, 831886), 'http://www.csis.org/')\n",
            "404\n",
            "root  (datetime.datetime(2019, 11, 18, 7, 30, 16, 109887), 'http://www.nytimes.com/')\n",
            "84\n",
            "root  (datetime.datetime(2019, 11, 18, 7, 30, 24, 994915), 'http://www.imd.gov.in/')\n",
            "85\n",
            "root  (datetime.datetime(2019, 11, 18, 7, 30, 25, 6252), 'https://rsf.org/')\n",
            "403\n",
            "root  (datetime.datetime(2019, 11, 18, 7, 30, 25, 593417), 'https://www.gaebler.info/')\n",
            "86\n",
            "root  (datetime.datetime(2019, 11, 18, 7, 30, 34, 213055), 'https://www.armadninoviny.cz/')\n",
            "87\n",
            "root  (datetime.datetime(2019, 11, 18, 7, 27, 59, 240481), 'http://thediplomat.com/')\n",
            "403\n",
            "root  (datetime.datetime(2019, 11, 18, 7, 30, 38, 264824), 'https://www.state.gov/')\n",
            "88\n",
            "root  (datetime.datetime(2019, 11, 18, 7, 30, 38, 266098), 'http://www.cdc.gov/')\n",
            "89\n",
            "root  (datetime.datetime(2019, 11, 18, 7, 27, 0, 658564), 'https://oig.hhs.gov/')\n",
            "90\n",
            "root  (datetime.datetime(2019, 11, 18, 7, 30, 39, 951400), 'http://get.stage.adobe.com/')\n",
            "SEEN THIS\n",
            "root  (datetime.datetime(2019, 11, 18, 7, 30, 54, 484631), 'https://myaccount.nytimes.com/')\n",
            "Cant take no alphanumeric character strings\n",
            "root  (datetime.datetime(2019, 11, 18, 7, 30, 59, 548348), 'https://ca.wikiquote.org/')\n",
            "91\n",
            "root  (datetime.datetime(2019, 11, 18, 7, 29, 6, 500948), 'http://dcvb.iec.cat/')\n",
            "ERROR IN CONTENT OF THE WEBSITE WHICH IS NOT ACCESS ERROR\n",
            "root  (datetime.datetime(2019, 11, 18, 7, 30, 6, 501268), 'https://ca.wikinews.org/')\n",
            "92\n",
            "root  (datetime.datetime(2019, 11, 18, 7, 27, 7, 19104), 'https://eo.wikinews.org/')\n",
            "93\n",
            "root  (datetime.datetime(2019, 11, 18, 7, 31, 1, 512795), 'https://alumni.state.gov/')\n",
            "94\n",
            "root  (datetime.datetime(2019, 11, 18, 7, 31, 3, 271148), 'https://hu.wikiquote.org/')\n",
            "95\n",
            "root  (datetime.datetime(2019, 11, 18, 7, 31, 5, 126819), 'https://pt.wikibooks.org/')\n",
            "96\n",
            "root  (datetime.datetime(2019, 11, 18, 7, 28, 10, 21325), 'https://pt.wiktionary.org/')\n",
            "97\n",
            "root  (datetime.datetime(2019, 11, 18, 7, 27, 10, 877547), 'https://mg.wiktionary.org/')\n",
            "98\n",
            "root  (datetime.datetime(2019, 11, 18, 7, 27, 10, 877605), 'https://es.wiktionary.org/')\n",
            "99\n",
            "root  (datetime.datetime(2019, 11, 18, 7, 27, 10, 879356), 'https://kl.wiktionary.org/')\n",
            "100\n"
          ],
          "name": "stdout"
        }
      ]
    },
    {
      "cell_type": "markdown",
      "metadata": {
        "id": "8wq43c7wzfb3",
        "colab_type": "text"
      },
      "source": [
        "Saving network in csv file"
      ]
    },
    {
      "cell_type": "code",
      "metadata": {
        "id": "UmFrpjR3kacA",
        "colab_type": "code",
        "colab": {}
      },
      "source": [
        "import pandas as pd\n",
        "df = pd.DataFrame(nx.edges(graph))\n",
        "df.to_csv('network.csv')"
      ],
      "execution_count": 0,
      "outputs": []
    },
    {
      "cell_type": "code",
      "metadata": {
        "id": "K3_j23SxBuzd",
        "colab_type": "code",
        "colab": {}
      },
      "source": [
        "from google.colab import files\n",
        "files.download('network.csv')"
      ],
      "execution_count": 0,
      "outputs": []
    },
    {
      "cell_type": "markdown",
      "metadata": {
        "id": "Cti5nyYqhg8C",
        "colab_type": "text"
      },
      "source": [
        "#Task 2: Nearly Duplicate Detection"
      ]
    },
    {
      "cell_type": "code",
      "metadata": {
        "id": "_ltuRvS-IB8d",
        "colab_type": "code",
        "colab": {}
      },
      "source": [
        "#Part 1\n",
        "\n",
        "import pandas as pd"
      ],
      "execution_count": 0,
      "outputs": []
    },
    {
      "cell_type": "code",
      "metadata": {
        "id": "NnsIild9iQKW",
        "colab_type": "code",
        "colab": {}
      },
      "source": [
        "df_temp = pd.DataFrame({'docs':doc_list})"
      ],
      "execution_count": 0,
      "outputs": []
    },
    {
      "cell_type": "code",
      "metadata": {
        "id": "MMRk53g0e4L4",
        "colab_type": "code",
        "outputId": "b65b42eb-a349-47a4-b74b-ee57e614cc88",
        "colab": {
          "base_uri": "https://localhost:8080/",
          "height": 34
        }
      },
      "source": [
        "df_temp.shape"
      ],
      "execution_count": 0,
      "outputs": [
        {
          "output_type": "execute_result",
          "data": {
            "text/plain": [
              "(100, 1)"
            ]
          },
          "metadata": {
            "tags": []
          },
          "execution_count": 32
        }
      ]
    },
    {
      "cell_type": "code",
      "metadata": {
        "id": "kVu-xNdUiRHa",
        "colab_type": "code",
        "outputId": "fb15ecfd-a2dc-455a-9e98-bbf0a76a9c05",
        "colab": {
          "base_uri": "https://localhost:8080/",
          "height": 204
        }
      },
      "source": [
        "df_temp.head()"
      ],
      "execution_count": 0,
      "outputs": [
        {
          "output_type": "execute_result",
          "data": {
            "text/html": [
              "<div>\n",
              "<style scoped>\n",
              "    .dataframe tbody tr th:only-of-type {\n",
              "        vertical-align: middle;\n",
              "    }\n",
              "\n",
              "    .dataframe tbody tr th {\n",
              "        vertical-align: top;\n",
              "    }\n",
              "\n",
              "    .dataframe thead th {\n",
              "        text-align: right;\n",
              "    }\n",
              "</style>\n",
              "<table border=\"1\" class=\"dataframe\">\n",
              "  <thead>\n",
              "    <tr style=\"text-align: right;\">\n",
              "      <th></th>\n",
              "      <th>docs</th>\n",
              "    </tr>\n",
              "  </thead>\n",
              "  <tbody>\n",
              "    <tr>\n",
              "      <th>0</th>\n",
              "      <td>Attendance is a good measure of popularity of ...</td>\n",
              "    </tr>\n",
              "    <tr>\n",
              "      <th>1</th>\n",
              "      <td>Visit Curlie on Facebook Visit Curlie on Twitter</td>\n",
              "    </tr>\n",
              "    <tr>\n",
              "      <th>2</th>\n",
              "      <td>مجموع 3 287 590 كلم²  مجموع 1 120 000 000  ال...</td>\n",
              "    </tr>\n",
              "    <tr>\n",
              "      <th>3</th>\n",
              "      <td>India भ रत resmina Républik India mangrupa sal...</td>\n",
              "    </tr>\n",
              "    <tr>\n",
              "      <th>4</th>\n",
              "      <td>Indien officielt Republikken Indien भ रत गणर ज...</td>\n",
              "    </tr>\n",
              "  </tbody>\n",
              "</table>\n",
              "</div>"
            ],
            "text/plain": [
              "                                                docs\n",
              "0  Attendance is a good measure of popularity of ...\n",
              "1  Visit Curlie on Facebook Visit Curlie on Twitter \n",
              "2   مجموع 3 287 590 كلم²  مجموع 1 120 000 000  ال...\n",
              "3  India भ रत resmina Républik India mangrupa sal...\n",
              "4  Indien officielt Republikken Indien भ रत गणर ज..."
            ]
          },
          "metadata": {
            "tags": []
          },
          "execution_count": 33
        }
      ]
    },
    {
      "cell_type": "code",
      "metadata": {
        "id": "lAWklqECe51W",
        "colab_type": "code",
        "outputId": "21c604da-8a3f-49c9-d6b3-cd22ac789e36",
        "colab": {
          "base_uri": "https://localhost:8080/",
          "height": 119
        }
      },
      "source": [
        "df_temp.info()"
      ],
      "execution_count": 0,
      "outputs": [
        {
          "output_type": "stream",
          "text": [
            "<class 'pandas.core.frame.DataFrame'>\n",
            "RangeIndex: 100 entries, 0 to 99\n",
            "Data columns (total 1 columns):\n",
            "docs    100 non-null object\n",
            "dtypes: object(1)\n",
            "memory usage: 928.0+ bytes\n"
          ],
          "name": "stdout"
        }
      ]
    },
    {
      "cell_type": "code",
      "metadata": {
        "id": "N7kS5LENmLAQ",
        "colab_type": "code",
        "colab": {}
      },
      "source": [
        "def clean_data_dl(hd_df,col_name):\n",
        "  #removing multiple spaces\n",
        "  hd_df[col_name]=hd_df[col_name].str.replace(' +',' ')\n",
        "  return hd_df\n",
        "\n",
        "def_temp = clean_data_dl(df_temp,'docs')\n",
        "df_temp = df_temp[df_temp['docs'] != '']\n",
        "df_temp = df_temp[df_temp['docs'] != ' ']\n"
      ],
      "execution_count": 0,
      "outputs": []
    },
    {
      "cell_type": "code",
      "metadata": {
        "id": "1_zLEmEPmtlw",
        "colab_type": "code",
        "colab": {}
      },
      "source": [
        ""
      ],
      "execution_count": 0,
      "outputs": []
    },
    {
      "cell_type": "code",
      "metadata": {
        "id": "qmxRoG_Ji3gn",
        "colab_type": "code",
        "colab": {}
      },
      "source": [
        "doc_list_new = df_temp.iloc[:,:].values"
      ],
      "execution_count": 0,
      "outputs": []
    },
    {
      "cell_type": "markdown",
      "metadata": {
        "id": "CMCVOIP-z0NX",
        "colab_type": "text"
      },
      "source": [
        "The TfidfVectorizer from sklearn is used to get the tf-idf vector of the documents"
      ]
    },
    {
      "cell_type": "code",
      "metadata": {
        "id": "b-iDKH8Bl9I8",
        "colab_type": "code",
        "colab": {}
      },
      "source": [
        "def jaccard_similarity(document1, document2):\n",
        "    intersection = set(document1).intersection(set(document2))\n",
        "    union = set(document1).union(set(document2))\n",
        "    return len(intersection)/len(union)"
      ],
      "execution_count": 0,
      "outputs": []
    },
    {
      "cell_type": "markdown",
      "metadata": {
        "id": "nA04ig3Hzxqv",
        "colab_type": "text"
      },
      "source": [
        "a) Computing Jaccard similarity"
      ]
    },
    {
      "cell_type": "code",
      "metadata": {
        "id": "woiyo_Kiow8W",
        "colab_type": "code",
        "colab": {}
      },
      "source": [
        "jaccard_similarity_list = []\n",
        "\n",
        "for i in range(len(doc_list_new)):\n",
        "  document1 = doc_list_new[i][0]\n",
        "  vector_for_each_doc = []\n",
        "  for j in range(len(doc_list_new)):\n",
        "    document2 = doc_list_new[j][0]\n",
        "    vector_for_each_doc.append(jaccard_similarity(document1,document2))\n",
        "  jaccard_similarity_list.append(vector_for_each_doc)\n"
      ],
      "execution_count": 0,
      "outputs": []
    },
    {
      "cell_type": "code",
      "metadata": {
        "id": "yV7gWRl0pwAg",
        "colab_type": "code",
        "colab": {}
      },
      "source": [
        ""
      ],
      "execution_count": 0,
      "outputs": []
    },
    {
      "cell_type": "code",
      "metadata": {
        "id": "hKylR7Acqpou",
        "colab_type": "code",
        "outputId": "c8087e7f-a8e1-4aab-e5bc-0d853e60e7fe",
        "colab": {
          "base_uri": "https://localhost:8080/",
          "height": 1000
        }
      },
      "source": [
        "for i in range(len(jaccard_similarity_list)):\n",
        "  print(jaccard_similarity_list[i])\n",
        "  print()\n"
      ],
      "execution_count": 0,
      "outputs": [
        {
          "output_type": "stream",
          "text": [
            "[1.0, 0.37777777777777777, 0.18947368421052632, 0.6056338028169014, 0.5308641975308642, 0.07526881720430108, 0.25, 0.5178571428571429, 0.3829787234042553, 0.7678571428571429, 0.21951219512195122, 0.45652173913043476, 0.65625, 0.6, 0.4174757281553398, 0.5797101449275363, 0.7288135593220338, 0.49295774647887325, 0.7241379310344828, 0.5833333333333334, 0.7090909090909091, 0.6607142857142857, 0.23529411764705882, 0.00641025641025641, 0.47619047619047616, 0.6444444444444445, 0.014084507042253521, 0.6530612244897959, 0.6530612244897959, 0.6458333333333334, 0.6521739130434783, 0.5584415584415584, 0.7413793103448276, 0.7037037037037037, 0.7241379310344828, 0.21739130434782608, 0.6833333333333333, 0.7222222222222222, 0.40476190476190477, 0.013157894736842105, 0.10723860589812333, 0.09191176470588236, 0.45098039215686275, 0.013157894736842105, 0.56, 0.2875, 0.009345794392523364, 0.4588235294117647, 0.5319148936170213, 0.6415094339622641, 0.19444444444444445, 0.5102040816326531, 0.41509433962264153, 0.0136986301369863, 0.6888888888888889, 0.17142857142857143, 0.30392156862745096, 0.6551724137931034, 0.25925925925925924, 0.7551020408163265, 0.5657894736842105, 0.6231884057971014, 0.6129032258064516, 0.3181818181818182, 0.6333333333333333, 0.711864406779661, 0.4318181818181818, 0.7049180327868853, 0.7916666666666666, 0.717391304347826, 0.5116279069767442, 0.7407407407407407, 0.7843137254901961, 0.021505376344086023, 0.07894736842105263, 0.52, 0.5208333333333334, 0.673469387755102, 0.6785714285714286, 0.22727272727272727, 0.05982905982905983, 0.6346153846153846, 0.2, 0.7288135593220338, 0.6949152542372882, 0.6515151515151515, 0.5, 0.6170212765957447, 0.7192982456140351, 0.7692307692307693, 0.423728813559322, 0.49056603773584906, 0.44, 0.7636363636363637, 0.5675675675675675, 0.5606060606060606, 0.29411764705882354, 0.6271186440677966, 0.37037037037037035, 0.6268656716417911]\n",
            "\n",
            "[0.37777777777777777, 1.0, 0.09876543209876543, 0.2676056338028169, 0.2345679012345679, 0.013333333333333334, 0.24324324324324326, 0.2978723404255319, 0.5185185185185185, 0.3157894736842105, 0.16923076923076924, 0.3870967741935484, 0.30158730158730157, 0.3584905660377358, 0.18446601941747573, 0.26865671641791045, 0.3220338983050847, 0.26153846153846155, 0.3333333333333333, 0.4444444444444444, 0.34615384615384615, 0.38, 0.15714285714285714, 0.007575757575757576, 0.21951219512195122, 0.5151515151515151, 0.02127659574468085, 0.425, 0.3902439024390244, 0.375, 0.4444444444444444, 0.24675324675324675, 0.3275862068965517, 0.36, 0.3333333333333333, 0.3333333333333333, 0.3275862068965517, 0.3269230769230769, 0.175, 0.019230769230769232, 0.04851752021563342, 0.0622568093385214, 0.42857142857142855, 0.019230769230769232, 0.5, 0.2153846153846154, 0.001941747572815534, 0.2345679012345679, 0.45454545454545453, 0.4, 0.09142857142857143, 0.47058823529411764, 0.5, 0.02040816326530612, 0.4857142857142857, 0.1, 0.17204301075268819, 0.3333333333333333, 0.17894736842105263, 0.37777777777777777, 0.25, 0.2753623188405797, 0.3103448275862069, 0.25925925925925924, 0.34545454545454546, 0.3275862068965517, 0.4444444444444444, 0.3114754098360656, 0.37777777777777777, 0.4473684210526316, 0.5185185185185185, 0.37254901960784315, 0.3673469387755102, 0.014285714285714285, 0.05319148936170213, 0.5294117647058824, 0.48484848484848486, 0.38095238095238093, 0.37254901960784315, 0.13513513513513514, 0.010101010101010102, 0.35555555555555557, 0.11764705882352941, 0.3220338983050847, 0.3103448275862069, 0.2878787878787879, 0.2222222222222222, 0.40540540540540543, 0.34545454545454546, 0.36, 0.30434782608695654, 0.34146341463414637, 0.4117647058823529, 0.35185185185185186, 0.2602739726027397, 0.31666666666666665, 0.16129032258064516, 0.3584905660377358, 0.18095238095238095, 0.2878787878787879]\n",
            "\n",
            "[0.18947368421052632, 0.09876543209876543, 1.0, 0.23684210526315788, 0.2905982905982906, 0.45977011494252873, 0.06593406593406594, 0.16666666666666666, 0.08235294117647059, 0.23529411764705882, 0.15454545454545454, 0.09302325581395349, 0.1875, 0.24242424242424243, 0.22695035460992907, 0.15254237288135594, 0.22857142857142856, 0.33, 0.22115384615384615, 0.13186813186813187, 0.21, 0.22448979591836735, 0.14782608695652175, 0.00546448087431694, 0.1984126984126984, 0.12222222222222222, 0.08791208791208792, 0.16129032258064516, 0.14893617021276595, 0.1276595744680851, 0.13186813186813187, 0.3008849557522124, 0.23076923076923078, 0.20202020202020202, 0.18691588785046728, 0.09210526315789473, 0.21904761904761905, 0.21212121212121213, 0.17886178861788618, 0.009708737864077669, 0.08374384236453201, 0.03514376996805112, 0.16091954022988506, 0.009708737864077669, 0.14130434782608695, 0.1504424778761062, 0.016129032258064516, 0.16153846153846155, 0.13793103448275862, 0.17525773195876287, 0.07079646017699115, 0.1348314606741573, 0.13333333333333333, 0.07446808510638298, 0.11956521739130435, 0.1111111111111111, 0.1111111111111111, 0.20588235294117646, 0.13986013986013987, 0.18947368421052632, 0.24786324786324787, 0.23008849557522124, 0.1651376146788991, 0.1038961038961039, 0.20192307692307693, 0.23076923076923078, 0.0975609756097561, 0.22429906542056074, 0.18947368421052632, 0.1276595744680851, 0.10843373493975904, 0.18627450980392157, 0.16831683168316833, 0.016666666666666666, 0.1111111111111111, 0.13186813186813187, 0.13636363636363635, 0.18478260869565216, 0.19801980198019803, 0.20535714285714285, 0.08633093525179857, 0.14285714285714285, 0.17857142857142858, 0.22857142857142856, 0.20952380952380953, 0.21428571428571427, 0.18110236220472442, 0.11956521739130435, 0.21359223300970873, 0.16666666666666666, 0.15625, 0.10416666666666667, 0.16470588235294117, 0.22772277227722773, 0.18181818181818182, 0.16071428571428573, 0.1357142857142857, 0.12844036697247707, 0.1437908496732026, 0.1826086956521739]\n",
            "\n",
            "[0.6056338028169014, 0.2676056338028169, 0.23684210526315788, 1.0, 0.8095238095238095, 0.12280701754385964, 0.1951219512195122, 0.5066666666666667, 0.30985915492957744, 0.7887323943661971, 0.21904761904761905, 0.3013698630136986, 0.8356164383561644, 0.6533333333333333, 0.6571428571428571, 0.6506024096385542, 0.8309859154929577, 0.5952380952380952, 0.8028169014084507, 0.4647887323943662, 0.7183098591549296, 0.704225352112676, 0.25471698113207547, 0.005434782608695652, 0.5670103092783505, 0.43661971830985913, 0.041666666666666664, 0.5138888888888888, 0.5138888888888888, 0.5070422535211268, 0.4647887323943662, 0.7411764705882353, 0.8169014084507042, 0.6901408450704225, 0.8028169014084507, 0.16666666666666666, 0.8169014084507042, 0.6805555555555556, 0.40384615384615385, 0.009615384615384616, 0.13659793814432988, 0.08333333333333333, 0.36, 0.009615384615384616, 0.49295774647887325, 0.297029702970297, 0.016100178890876567, 0.504950495049505, 0.4084507042253521, 0.5540540540540541, 0.22110552763819097, 0.43661971830985913, 0.35526315789473684, 0.04081632653061224, 0.4647887323943662, 0.1796875, 0.3089430894308943, 0.7222222222222222, 0.30158730158730157, 0.6056338028169014, 0.8148148148148148, 0.75, 0.6842105263157895, 0.2112676056338028, 0.7746478873239436, 0.8169014084507042, 0.28169014084507044, 0.8333333333333334, 0.6056338028169014, 0.5070422535211268, 0.30985915492957744, 0.7183098591549296, 0.676056338028169, 0.01652892561983471, 0.08633093525179857, 0.4647887323943662, 0.4225352112676056, 0.5492957746478874, 0.6944444444444444, 0.25925925925925924, 0.07801418439716312, 0.4675324675324675, 0.24812030075187969, 0.8309859154929577, 0.7777777777777778, 0.7792207792207793, 0.6413043478260869, 0.4647887323943662, 0.7746478873239436, 0.6901408450704225, 0.4177215189873418, 0.3717948717948718, 0.3333333333333333, 0.7605633802816901, 0.7349397590361446, 0.6794871794871795, 0.3559322033898305, 0.7222222222222222, 0.5042735042735043, 0.7564102564102564]\n",
            "\n",
            "[0.5308641975308642, 0.2345679012345679, 0.2905982905982906, 0.8095238095238095, 1.0, 0.11290322580645161, 0.16129032258064516, 0.43023255813953487, 0.2716049382716049, 0.691358024691358, 0.2, 0.26506024096385544, 0.7349397590361446, 0.5952380952380952, 0.6428571428571429, 0.5806451612903226, 0.7283950617283951, 0.6551724137931034, 0.7037037037037037, 0.4074074074074074, 0.6296296296296297, 0.6172839506172839, 0.23275862068965517, 0.005154639175257732, 0.514018691588785, 0.38271604938271603, 0.0784313725490196, 0.45121951219512196, 0.45121951219512196, 0.4444444444444444, 0.4074074074074074, 0.8809523809523809, 0.7160493827160493, 0.6049382716049383, 0.7037037037037037, 0.14634146341463414, 0.7160493827160493, 0.5975609756097561, 0.3684210526315789, 0.008771929824561403, 0.13316582914572864, 0.08064516129032258, 0.3176470588235294, 0.008771929824561403, 0.43209876543209874, 0.3055555555555556, 0.015817223198594025, 0.4594594594594595, 0.35802469135802467, 0.4880952380952381, 0.21052631578947367, 0.38271604938271603, 0.32941176470588235, 0.06666666666666667, 0.4074074074074074, 0.16666666666666666, 0.2857142857142857, 0.6341463414634146, 0.3181818181818182, 0.5308641975308642, 0.7640449438202247, 0.7045454545454546, 0.6046511627906976, 0.18518518518518517, 0.6790123456790124, 0.7160493827160493, 0.24691358024691357, 0.7317073170731707, 0.5308641975308642, 0.4444444444444444, 0.2716049382716049, 0.6296296296296297, 0.5925925925925926, 0.015267175572519083, 0.08053691275167785, 0.4074074074074074, 0.37037037037037035, 0.48148148148148145, 0.6097560975609756, 0.2920353982300885, 0.08, 0.41379310344827586, 0.26618705035971224, 0.7283950617283951, 0.6829268292682927, 0.6896551724137931, 0.5784313725490197, 0.4074074074074074, 0.6790123456790124, 0.6049382716049383, 0.3707865168539326, 0.32954545454545453, 0.29411764705882354, 0.6666666666666666, 0.6382978723404256, 0.5842696629213483, 0.328125, 0.6341463414634146, 0.4645669291338583, 0.7710843373493976]\n",
            "\n",
            "[0.07526881720430108, 0.013333333333333334, 0.45977011494252873, 0.12280701754385964, 0.11290322580645161, 1.0, 0.012048192771084338, 0.042105263157894736, 0.01282051282051282, 0.10784313725490197, 0.10679611650485436, 0.0125, 0.07142857142857142, 0.1, 0.0958904109589041, 0.0423728813559322, 0.10476190476190476, 0.12149532710280374, 0.09615384615384616, 0.011235955056179775, 0.08, 0.11458333333333333, 0.09174311926605505, 0.0058823529411764705, 0.08661417322834646, 0.011494252873563218, 0.04878048780487805, 0.05555555555555555, 0.05555555555555555, 0.010869565217391304, 0.011235955056179775, 0.11666666666666667, 0.10576923076923077, 0.08163265306122448, 0.07547169811320754, 0.014492753623188406, 0.09523809523809523, 0.10309278350515463, 0.09090909090909091, 0.011111111111111112, 0.04914004914004914, 0.0032258064516129032, 0.03529411764705882, 0.011111111111111112, 0.022222222222222223, 0.035398230088495575, 0.01651376146788991, 0.06976744186046512, 0.011764705882352941, 0.052083333333333336, 0.022321428571428572, 0.011494252873563218, 0.011363636363636364, 0.047619047619047616, 0.011235955056179775, 0.0873015873015873, 0.035211267605633804, 0.1, 0.041666666666666664, 0.08695652173913043, 0.11764705882352941, 0.09565217391304348, 0.045871559633027525, 0.014084507042253521, 0.07692307692307693, 0.10576923076923077, 0.013157894736842105, 0.102803738317757, 0.07526881720430108, 0.010869565217391304, 0.01282051282051282, 0.058823529411764705, 0.06060606060606061, 0.018691588785046728, 0.0873015873015873, 0.011235955056179775, 0.011627906976744186, 0.06666666666666667, 0.08, 0.12962962962962962, 0.08661417322834646, 0.03125, 0.10144927536231885, 0.10476190476190476, 0.10679611650485436, 0.09821428571428571, 0.07874015748031496, 0.011235955056179775, 0.08737864077669903, 0.0392156862745098, 0.0425531914893617, 0.03333333333333333, 0.04878048780487805, 0.09900990099009901, 0.0743801652892562, 0.06363636363636363, 0.057971014492753624, 0.009174311926605505, 0.05194805194805195, 0.06956521739130435]\n",
            "\n",
            "[0.25, 0.24324324324324326, 0.06593406593406594, 0.1951219512195122, 0.16129032258064516, 0.012048192771084338, 1.0, 0.23214285714285715, 0.16666666666666666, 0.2028985507246377, 0.09090909090909091, 0.3076923076923077, 0.2, 0.19402985074626866, 0.1504424778761062, 0.2077922077922078, 0.19444444444444445, 0.18421052631578946, 0.2, 0.2765957446808511, 0.21875, 0.2222222222222222, 0.07228915662650602, 0.021739130434782608, 0.16129032258064516, 0.28888888888888886, 0.01818181818181818, 0.2037037037037037, 0.27450980392156865, 0.26, 0.2765957446808511, 0.18181818181818182, 0.19718309859154928, 0.22580645161290322, 0.2, 0.2903225806451613, 0.19718309859154928, 0.203125, 0.13333333333333333, 0.016666666666666666, 0.04199475065616798, 0.048507462686567165, 0.28888888888888886, 0.016666666666666666, 0.2653061224489796, 0.16, 0.0019120458891013384, 0.17391304347826086, 0.3023255813953488, 0.26785714285714285, 0.06989247311827956, 0.28888888888888886, 0.22916666666666666, 0.017543859649122806, 0.25, 0.08080808080808081, 0.125, 0.21212121212121213, 0.1320754716981132, 0.25, 0.1839080459770115, 0.18518518518518517, 0.2, 0.2727272727272727, 0.18840579710144928, 0.19718309859154928, 0.3055555555555556, 0.1891891891891892, 0.25, 0.26, 0.2894736842105263, 0.21875, 0.22950819672131148, 0.01282051282051282, 0.0594059405940594, 0.2765957446808511, 0.29545454545454547, 0.24528301886792453, 0.21875, 0.10843373493975904, 0.009345794392523364, 0.2545454545454545, 0.0990990990990991, 0.19444444444444445, 0.18309859154929578, 0.17721518987341772, 0.18888888888888888, 0.25, 0.20588235294117646, 0.22580645161290322, 0.3076923076923077, 0.26, 0.21739130434782608, 0.208955223880597, 0.20481927710843373, 0.2608695652173913, 0.1485148514851485, 0.21212121212121213, 0.17857142857142858, 0.17721518987341772]\n",
            "\n",
            "[0.5178571428571429, 0.2978723404255319, 0.16666666666666666, 0.5066666666666667, 0.43023255813953487, 0.042105263157894736, 0.23214285714285715, 1.0, 0.3617021276595745, 0.53125, 0.13793103448275862, 0.43478260869565216, 0.4788732394366197, 0.5079365079365079, 0.36792452830188677, 0.44, 0.4852941176470588, 0.4383561643835616, 0.5, 0.5306122448979592, 0.5245901639344263, 0.4603174603174603, 0.15555555555555556, 0.0064516129032258064, 0.38202247191011235, 0.5208333333333334, 0.05970149253731343, 0.45454545454545453, 0.45454545454545453, 0.625, 0.5957446808510638, 0.45121951219512196, 0.5151515151515151, 0.4918032786885246, 0.5, 0.25, 0.4925373134328358, 0.4603174603174603, 0.2857142857142857, 0.013333333333333334, 0.08136482939632546, 0.08424908424908426, 0.43137254901960786, 0.013333333333333334, 0.4807692307692308, 0.36, 0.0018587360594795538, 0.38202247191011235, 0.5434782608695652, 0.4827586206896552, 0.16304347826086957, 0.5208333333333334, 0.39622641509433965, 0.057971014492753624, 0.5306122448979592, 0.10909090909090909, 0.2571428571428571, 0.46153846153846156, 0.27358490566037735, 0.5454545454545454, 0.4567901234567901, 0.44155844155844154, 0.5, 0.32558139534883723, 0.49230769230769234, 0.4925373134328358, 0.4090909090909091, 0.4927536231884058, 0.5178571428571429, 0.56, 0.45454545454545453, 0.5, 0.5789473684210527, 0.010752688172043012, 0.07964601769911504, 0.47058823529411764, 0.5319148936170213, 0.5, 0.5245901639344263, 0.18888888888888888, 0.00819672131147541, 0.5272727272727272, 0.17094017094017094, 0.4852941176470588, 0.45588235294117646, 0.4594594594594595, 0.35555555555555557, 0.5625, 0.515625, 0.5689655172413793, 0.509090909090909, 0.39285714285714285, 0.36538461538461536, 0.5238095238095238, 0.4024390243902439, 0.43661971830985913, 0.2358490566037736, 0.5573770491803278, 0.3008849557522124, 0.4594594594594595]\n",
            "\n",
            "[0.3829787234042553, 0.5185185185185185, 0.08235294117647059, 0.30985915492957744, 0.2716049382716049, 0.01282051282051282, 0.16666666666666666, 0.3617021276595745, 1.0, 0.39285714285714285, 0.12857142857142856, 0.3142857142857143, 0.3492063492063492, 0.36363636363636365, 0.21359223300970873, 0.31343283582089554, 0.35, 0.26865671641791045, 0.3620689655172414, 0.41025641025641024, 0.37735849056603776, 0.38461538461538464, 0.1506849315068493, 0.007407407407407408, 0.2716049382716049, 0.4722222222222222, 0.02, 0.42857142857142855, 0.3953488372093023, 0.45, 0.41025641025641024, 0.2857142857142857, 0.3559322033898305, 0.36538461538461536, 0.38596491228070173, 0.20689655172413793, 0.3793103448275862, 0.3584905660377358, 0.19753086419753085, 0.01818181818181818, 0.05093833780160858, 0.049429657794676805, 0.2619047619047619, 0.01818181818181818, 0.46153846153846156, 0.15492957746478872, 0.0019305019305019305, 0.2716049382716049, 0.3783783783783784, 0.375, 0.096045197740113, 0.39473684210526316, 0.35, 0.019230769230769232, 0.41025641025641024, 0.0851063829787234, 0.19148936170212766, 0.36363636363636365, 0.18556701030927836, 0.41304347826086957, 0.2894736842105263, 0.3188405797101449, 0.3389830508474576, 0.1935483870967742, 0.375, 0.3559322033898305, 0.4, 0.36065573770491804, 0.41304347826086957, 0.4146341463414634, 0.375, 0.43137254901960786, 0.42857142857142855, 0.0136986301369863, 0.05154639175257732, 0.4473684210526316, 0.40540540540540543, 0.2978723404255319, 0.40384615384615385, 0.11538461538461539, 0.00980392156862745, 0.3617021276595745, 0.08333333333333333, 0.35, 0.38596491228070173, 0.3333333333333333, 0.25925925925925924, 0.4473684210526316, 0.375, 0.42, 0.2857142857142857, 0.3488372093023256, 0.3076923076923077, 0.35714285714285715, 0.28378378378378377, 0.3225806451612903, 0.18085106382978725, 0.41509433962264153, 0.20952380952380953, 0.3333333333333333]\n",
            "\n",
            "[0.7678571428571429, 0.3157894736842105, 0.23529411764705882, 0.7887323943661971, 0.691358024691358, 0.10784313725490197, 0.2028985507246377, 0.53125, 0.39285714285714285, 1.0, 0.24175824175824176, 0.3559322033898305, 0.803030303030303, 0.7580645161290323, 0.5436893203883495, 0.6266666666666667, 0.9166666666666666, 0.6081081081081081, 0.9152542372881356, 0.5892857142857143, 0.8448275862068966, 0.8275862068965517, 0.2826086956521739, 0.005917159763313609, 0.611764705882353, 0.5535714285714286, 0.011904761904761904, 0.5932203389830508, 0.5666666666666667, 0.5862068965517241, 0.5892857142857143, 0.7272727272727273, 0.9, 0.8103448275862069, 0.8524590163934426, 0.1896551724137931, 0.9, 0.7966101694915254, 0.47191011235955055, 0.011235955056179775, 0.129973474801061, 0.08771929824561403, 0.4262295081967213, 0.011235955056179775, 0.5423728813559322, 0.27472527472527475, 0.016544117647058824, 0.5222222222222223, 0.46551724137931033, 0.639344262295082, 0.2127659574468085, 0.5, 0.3968253968253968, 0.011627906976744186, 0.5614035087719298, 0.20353982300884957, 0.35185185185185186, 0.7580645161290323, 0.2956521739130435, 0.7678571428571429, 0.7368421052631579, 0.8115942028985508, 0.7384615384615385, 0.26785714285714285, 0.819672131147541, 0.9, 0.35714285714285715, 0.9180327868852459, 0.7678571428571429, 0.6140350877192983, 0.39285714285714285, 0.8135593220338984, 0.8245614035087719, 0.018867924528301886, 0.07936507936507936, 0.5084745762711864, 0.5087719298245614, 0.6101694915254238, 0.7833333333333333, 0.2604166666666667, 0.0873015873015873, 0.5806451612903226, 0.22764227642276422, 0.9166666666666666, 0.8833333333333333, 0.8484848484848485, 0.6190476190476191, 0.5614035087719298, 0.8813559322033898, 0.8421052631578947, 0.38571428571428573, 0.4153846153846154, 0.39344262295081966, 0.896551724137931, 0.6973684210526315, 0.6338028169014085, 0.3302752293577982, 0.7301587301587301, 0.4375, 0.7681159420289855]\n",
            "\n",
            "[0.21951219512195122, 0.16923076923076924, 0.15454545454545454, 0.21904761904761905, 0.2, 0.10679611650485436, 0.09090909090909091, 0.13793103448275862, 0.12857142857142856, 0.24175824175824176, 1.0, 0.15714285714285714, 0.21212121212121213, 0.23595505617977527, 0.1678832116788321, 0.14953271028037382, 0.24731182795698925, 0.21212121212121213, 0.2391304347826087, 0.15384615384615385, 0.21348314606741572, 0.27380952380952384, 0.19, 0.0058823529411764705, 0.15966386554621848, 0.15789473684210525, 0.011764705882352941, 0.23376623376623376, 0.21794871794871795, 0.14814814814814814, 0.15384615384615385, 0.2072072072072072, 0.25, 0.21839080459770116, 0.2127659574468085, 0.12903225806451613, 0.23655913978494625, 0.25882352941176473, 0.2, 0.011111111111111112, 0.05432098765432099, 0.04013377926421405, 0.15789473684210525, 0.011111111111111112, 0.1794871794871795, 0.11428571428571428, 0.01651376146788991, 0.13114754098360656, 0.16216216216216217, 0.18823529411764706, 0.08018867924528301, 0.15789473684210525, 0.14102564102564102, 0.011494252873563218, 0.13924050632911392, 0.17094017094017094, 0.12213740458015267, 0.25, 0.10294117647058823, 0.2345679012345679, 0.20909090909090908, 0.22330097087378642, 0.17525773195876287, 0.1076923076923077, 0.21739130434782608, 0.25, 0.14925373134328357, 0.2553191489361702, 0.21951219512195122, 0.14814814814814814, 0.16176470588235295, 0.2, 0.19318181818181818, 0.018691588785046728, 0.04580152671755725, 0.16883116883116883, 0.16, 0.23076923076923078, 0.2413793103448276, 0.17307692307692307, 0.09523809523809523, 0.16470588235294117, 0.15151515151515152, 0.24731182795698925, 0.26666666666666666, 0.24242424242424243, 0.20175438596491227, 0.16883116883116883, 0.23076923076923078, 0.16483516483516483, 0.12643678160919541, 0.14814814814814814, 0.19444444444444445, 0.24719101123595505, 0.2037037037037037, 0.18181818181818182, 0.11450381679389313, 0.14583333333333334, 0.11724137931034483, 0.20588235294117646]\n",
            "\n",
            "[0.45652173913043476, 0.3870967741935484, 0.09302325581395349, 0.3013698630136986, 0.26506024096385544, 0.0125, 0.3076923076923077, 0.43478260869565216, 0.3142857142857143, 0.3559322033898305, 0.15714285714285714, 1.0, 0.359375, 0.3275862068965517, 0.22115384615384615, 0.3235294117647059, 0.3387096774193548, 0.29850746268656714, 0.35, 0.425, 0.36363636363636365, 0.32142857142857145, 0.16216216216216217, 0.0072992700729927005, 0.26506024096385544, 0.4864864864864865, 0.019230769230769232, 0.37777777777777777, 0.4090909090909091, 0.42857142857142855, 0.5405405405405406, 0.2625, 0.3442622950819672, 0.35185185185185186, 0.35, 0.37037037037037035, 0.3225806451612903, 0.39622641509433965, 0.2375, 0.017543859649122806, 0.05913978494623656, 0.06513409961685823, 0.41025641025641024, 0.017543859649122806, 0.40476190476190477, 0.2537313432835821, 0.0019230769230769232, 0.26506024096385544, 0.4722222222222222, 0.3877551020408163, 0.11363636363636363, 0.4864864864864865, 0.4358974358974359, 0.018518518518518517, 0.5, 0.11827956989247312, 0.2, 0.3508771929824561, 0.18181818181818182, 0.3958333333333333, 0.26582278481012656, 0.2916666666666667, 0.35, 0.39285714285714285, 0.3389830508474576, 0.3442622950819672, 0.4666666666666667, 0.328125, 0.3958333333333333, 0.5, 0.5333333333333333, 0.36363636363636365, 0.4117647058823529, 0.013333333333333334, 0.061224489795918366, 0.425, 0.5, 0.4318181818181818, 0.36363636363636365, 0.15584415584415584, 0.009615384615384616, 0.4666666666666667, 0.12264150943396226, 0.3387096774193548, 0.32786885245901637, 0.30434782608695654, 0.2839506172839506, 0.5405405405405406, 0.3620689655172414, 0.40384615384615385, 0.4444444444444444, 0.4634146341463415, 0.358974358974359, 0.3684210526315789, 0.3108108108108108, 0.3770491803278688, 0.20212765957446807, 0.375, 0.22857142857142856, 0.30434782608695654]\n",
            "\n",
            "[0.65625, 0.30158730158730157, 0.1875, 0.8356164383561644, 0.7349397590361446, 0.07142857142857142, 0.2, 0.4788732394366197, 0.3492063492063492, 0.803030303030303, 0.21212121212121213, 0.359375, 1.0, 0.6811594202898551, 0.5660377358490566, 0.6973684210526315, 0.8484848484848485, 0.5365853658536586, 0.8461538461538461, 0.5238095238095238, 0.78125, 0.7121212121212122, 0.2376237623762376, 0.005681818181818182, 0.5824175824175825, 0.49206349206349204, 0.01098901098901099, 0.6031746031746031, 0.6031746031746031, 0.5714285714285714, 0.5238095238095238, 0.6666666666666666, 0.8333333333333334, 0.7230769230769231, 0.8461538461538461, 0.1875, 0.8615384615384616, 0.7121212121212122, 0.3939393939393939, 0.010416666666666666, 0.13648293963254593, 0.08561643835616438, 0.36231884057971014, 0.010416666666666666, 0.5555555555555556, 0.28125, 0.010830324909747292, 0.5652173913043478, 0.4603174603174603, 0.5735294117647058, 0.22395833333333334, 0.49206349206349204, 0.39705882352941174, 0.010752688172043012, 0.5238095238095238, 0.1721311475409836, 0.31896551724137934, 0.7313432835820896, 0.2682926829268293, 0.6060606060606061, 0.759493670886076, 0.76, 0.7647058823529411, 0.23809523809523808, 0.8153846153846154, 0.8333333333333334, 0.31746031746031744, 0.8787878787878788, 0.65625, 0.5714285714285714, 0.3492063492063492, 0.8095238095238095, 0.7619047619047619, 0.017699115044247787, 0.07518796992481203, 0.5238095238095238, 0.47619047619047616, 0.59375, 0.7272727272727273, 0.20754716981132076, 0.06666666666666667, 0.5217391304347826, 0.2153846153846154, 0.8484848484848485, 0.8181818181818182, 0.8169014084507042, 0.6627906976744186, 0.5238095238095238, 0.7878787878787878, 0.7777777777777778, 0.38666666666666666, 0.39436619718309857, 0.373134328358209, 0.7727272727272727, 0.7435897435897436, 0.6621621621621622, 0.36936936936936937, 0.8412698412698413, 0.5272727272727272, 0.8169014084507042]\n",
            "\n",
            "[0.6, 0.3584905660377358, 0.24242424242424243, 0.6533333333333333, 0.5952380952380952, 0.1, 0.19402985074626866, 0.5079365079365079, 0.36363636363636365, 0.7580645161290323, 0.23595505617977527, 0.3275862068965517, 0.6811594202898551, 1.0, 0.45794392523364486, 0.5657894736842105, 0.75, 0.589041095890411, 0.7741935483870968, 0.5087719298245614, 0.7333333333333333, 0.6885245901639344, 0.25, 0.006024096385542169, 0.5227272727272727, 0.5, 0.012345679012345678, 0.5689655172413793, 0.5423728813559322, 0.5614035087719298, 0.5636363636363636, 0.625, 0.7903225806451613, 0.6451612903225806, 0.6923076923076923, 0.17857142857142858, 0.7619047619047619, 0.6349206349206349, 0.3763440860215054, 0.011627906976744186, 0.1220159151193634, 0.08480565371024736, 0.4, 0.011627906976744186, 0.5172413793103449, 0.2696629213483146, 0.014760147601476014, 0.4888888888888889, 0.43859649122807015, 0.5901639344262295, 0.18421052631578946, 0.4482758620689655, 0.4406779661016949, 0.012048192771084338, 0.5087719298245614, 0.1875, 0.3119266055045872, 0.6825396825396826, 0.24786324786324787, 0.6551724137931034, 0.6973684210526315, 0.7428571428571429, 0.6923076923076923, 0.23636363636363636, 0.6875, 0.7619047619047619, 0.35185185185185186, 0.7538461538461538, 0.6, 0.5084745762711864, 0.41509433962264153, 0.6507936507936508, 0.6833333333333333, 0.019417475728155338, 0.07258064516129033, 0.4827586206896552, 0.45614035087719296, 0.5333333333333333, 0.6774193548387096, 0.2553191489361702, 0.08943089430894309, 0.5079365079365079, 0.2231404958677686, 0.7230769230769231, 0.6923076923076923, 0.7761194029850746, 0.5465116279069767, 0.5087719298245614, 0.7142857142857143, 0.6451612903225806, 0.38235294117647056, 0.4126984126984127, 0.41379310344827586, 0.7540983606557377, 0.6363636363636364, 0.5694444444444444, 0.30275229357798167, 0.6060606060606061, 0.38596491228070173, 0.6301369863013698]\n",
            "\n",
            "[0.4174757281553398, 0.18446601941747573, 0.22695035460992907, 0.6571428571428571, 0.6428571428571429, 0.0958904109589041, 0.1504424778761062, 0.36792452830188677, 0.21359223300970873, 0.5436893203883495, 0.1678832116788321, 0.22115384615384615, 0.5660377358490566, 0.45794392523364486, 1.0, 0.5943396226415094, 0.5728155339805825, 0.5229357798165137, 0.5533980582524272, 0.32038834951456313, 0.49514563106796117, 0.4854368932038835, 0.1956521739130435, 0.004629629629629629, 0.4263565891472868, 0.30097087378640774, 0.06451612903225806, 0.3557692307692308, 0.3557692307692308, 0.34951456310679613, 0.32038834951456313, 0.6071428571428571, 0.5480769230769231, 0.47572815533980584, 0.5533980582524272, 0.1262135922330097, 0.5631067961165048, 0.47115384615384615, 0.3088235294117647, 0.007352941176470588, 0.14251207729468598, 0.07530120481927711, 0.2523364485981308, 0.007352941176470588, 0.33980582524271846, 0.31451612903225806, 0.015228426395939087, 0.40458015267175573, 0.2815533980582524, 0.3867924528301887, 0.19047619047619047, 0.30097087378640774, 0.2980769230769231, 0.10743801652892562, 0.32038834951456313, 0.14375, 0.24516129032258063, 0.5, 0.32432432432432434, 0.4174757281553398, 0.5982142857142857, 0.5636363636363636, 0.48148148148148145, 0.14563106796116504, 0.5192307692307693, 0.5631067961165048, 0.1941747572815534, 0.5769230769230769, 0.4174757281553398, 0.34951456310679613, 0.21359223300970873, 0.49514563106796117, 0.46601941747572817, 0.013071895424836602, 0.10909090909090909, 0.32038834951456313, 0.2912621359223301, 0.3786407766990291, 0.4807692307692308, 0.23529411764705882, 0.06358381502890173, 0.3302752293577982, 0.22981366459627328, 0.5576923076923077, 0.5238095238095238, 0.5504587155963303, 0.6788990825688074, 0.32038834951456313, 0.5339805825242718, 0.47572815533980584, 0.34579439252336447, 0.29906542056074764, 0.2336448598130841, 0.5242718446601942, 0.6, 0.5092592592592593, 0.28859060402684567, 0.4857142857142857, 0.4444444444444444, 0.5225225225225225]\n",
            "\n",
            "[0.5797101449275363, 0.26865671641791045, 0.15254237288135594, 0.6506024096385542, 0.5806451612903226, 0.0423728813559322, 0.2077922077922078, 0.44, 0.31343283582089554, 0.6266666666666667, 0.14953271028037382, 0.3235294117647059, 0.6973684210526315, 0.5657894736842105, 0.5943396226415094, 1.0, 0.6447368421052632, 0.43333333333333335, 0.6621621621621622, 0.45588235294117646, 0.625, 0.5466666666666666, 0.18518518518518517, 0.00558659217877095, 0.47, 0.44776119402985076, 0.010638297872340425, 0.5294117647058824, 0.5294117647058824, 0.5223880597014925, 0.47761194029850745, 0.5543478260869565, 0.6533333333333333, 0.5540540540540541, 0.684931506849315, 0.1791044776119403, 0.6533333333333333, 0.5064935064935064, 0.330188679245283, 0.010101010101010102, 0.11794871794871795, 0.08108108108108109, 0.3472222222222222, 0.010101010101010102, 0.463768115942029, 0.24752475247524752, 0.007155635062611807, 0.5154639175257731, 0.39705882352941174, 0.4666666666666667, 0.20202020202020202, 0.4057971014492754, 0.4, 0.010416666666666666, 0.47761194029850745, 0.12307692307692308, 0.2786885245901639, 0.5657894736842105, 0.23255813953488372, 0.5352112676056338, 0.6136363636363636, 0.6071428571428571, 0.618421052631579, 0.208955223880597, 0.6133333333333333, 0.631578947368421, 0.30303030303030304, 0.6493506493506493, 0.5571428571428572, 0.5223880597014925, 0.3333333333333333, 0.647887323943662, 0.6056338028169014, 0.017241379310344827, 0.06569343065693431, 0.43478260869565216, 0.4117647058823529, 0.5, 0.56, 0.1592920353982301, 0.035211267605633804, 0.4594594594594595, 0.16666666666666666, 0.6233766233766234, 0.5974025974025974, 0.6296296296296297, 0.7380952380952381, 0.47761194029850745, 0.6351351351351351, 0.6428571428571429, 0.40789473684210525, 0.4166666666666667, 0.3194444444444444, 0.6216216216216216, 0.6547619047619048, 0.5949367088607594, 0.34782608695652173, 0.6527777777777778, 0.46153846153846156, 0.6296296296296297]\n",
            "\n",
            "[0.7288135593220338, 0.3220338983050847, 0.22857142857142856, 0.8309859154929577, 0.7283950617283951, 0.10476190476190476, 0.19444444444444445, 0.4852941176470588, 0.35, 0.9166666666666666, 0.24731182795698925, 0.3387096774193548, 0.8484848484848485, 0.75, 0.5728155339805825, 0.6447368421052632, 1.0, 0.5844155844155844, 0.9661016949152542, 0.5333333333333333, 0.864406779661017, 0.8166666666666667, 0.2736842105263158, 0.005813953488372093, 0.627906976744186, 0.5254237288135594, 0.011494252873563218, 0.6166666666666667, 0.5901639344262295, 0.5833333333333334, 0.559322033898305, 0.7435897435897436, 0.9180327868852459, 0.8305084745762712, 0.9016393442622951, 0.18032786885245902, 0.95, 0.8166666666666667, 0.45652173913043476, 0.010869565217391304, 0.14095744680851063, 0.08680555555555555, 0.42857142857142855, 0.010869565217391304, 0.5932203389830508, 0.29347826086956524, 0.016453382084095063, 0.5555555555555556, 0.4666666666666667, 0.6612903225806451, 0.23529411764705882, 0.5, 0.421875, 0.011235955056179775, 0.559322033898305, 0.19827586206896552, 0.34234234234234234, 0.8360655737704918, 0.29914529914529914, 0.7288135593220338, 0.7763157894736842, 0.8285714285714286, 0.7846153846153846, 0.2542372881355932, 0.8688524590163934, 0.9830508474576272, 0.31666666666666665, 0.9672131147540983, 0.7, 0.6101694915254238, 0.3728813559322034, 0.8333333333333334, 0.7833333333333333, 0.01834862385321101, 0.07751937984496124, 0.559322033898305, 0.48333333333333334, 0.6610169491525424, 0.8333333333333334, 0.25252525252525254, 0.08527131782945736, 0.5538461538461539, 0.24193548387096775, 0.9666666666666667, 0.8709677419354839, 0.8656716417910447, 0.6547619047619048, 0.559322033898305, 0.9322033898305084, 0.8305084745762712, 0.3698630136986301, 0.417910447761194, 0.3968253968253968, 0.9152542372881356, 0.7368421052631579, 0.7, 0.3577981651376147, 0.7777777777777778, 0.4642857142857143, 0.8115942028985508]\n",
            "\n",
            "[0.49295774647887325, 0.26153846153846155, 0.33, 0.5952380952380952, 0.6551724137931034, 0.12149532710280374, 0.18421052631578946, 0.4383561643835616, 0.26865671641791045, 0.6081081081081081, 0.21212121212121213, 0.29850746268656714, 0.5365853658536586, 0.589041095890411, 0.5229357798165137, 0.43333333333333335, 0.5844155844155844, 1.0, 0.5584415584415584, 0.43283582089552236, 0.5405405405405406, 0.527027027027027, 0.22549019607843138, 0.005681818181818182, 0.44, 0.42424242424242425, 0.09523809523809523, 0.4225352112676056, 0.463768115942029, 0.39436619718309857, 0.45454545454545453, 0.6470588235294118, 0.5921052631578947, 0.5342465753424658, 0.5384615384615384, 0.16923076923076924, 0.5714285714285714, 0.5694444444444444, 0.33980582524271846, 0.010416666666666666, 0.10459183673469388, 0.0782312925170068, 0.34285714285714286, 0.010416666666666666, 0.42028985507246375, 0.3225806451612903, 0.016333938294010888, 0.37142857142857144, 0.373134328358209, 0.5070422535211268, 0.16336633663366337, 0.40298507462686567, 0.417910447761194, 0.08045977011494253, 0.4117647058823529, 0.1721311475409836, 0.2540983606557377, 0.5064935064935064, 0.2892561983471074, 0.49295774647887325, 0.5977011494252874, 0.5903614457831325, 0.4634146341463415, 0.2, 0.5733333333333334, 0.5921052631578947, 0.296875, 0.5897435897435898, 0.4722222222222222, 0.4142857142857143, 0.328125, 0.52, 0.5416666666666666, 0.017699115044247787, 0.08333333333333333, 0.391304347826087, 0.3880597014925373, 0.43661971830985913, 0.5405405405405406, 0.30612244897959184, 0.09090909090909091, 0.3815789473684211, 0.25396825396825395, 0.5844155844155844, 0.5384615384615384, 0.5357142857142857, 0.4444444444444444, 0.4117647058823529, 0.5733333333333334, 0.5135135135135135, 0.38666666666666666, 0.3561643835616438, 0.3333333333333333, 0.581081081081081, 0.4782608695652174, 0.5185185185185185, 0.288135593220339, 0.46835443037974683, 0.344, 0.5]\n",
            "\n",
            "[0.7241379310344828, 0.3333333333333333, 0.22115384615384615, 0.8028169014084507, 0.7037037037037037, 0.09615384615384616, 0.2, 0.5, 0.3620689655172414, 0.9152542372881356, 0.2391304347826087, 0.35, 0.8461538461538461, 0.7741935483870968, 0.5533980582524272, 0.6621621621621622, 0.9661016949152542, 0.5584415584415584, 1.0, 0.5517241379310345, 0.8947368421052632, 0.8135593220338984, 0.26595744680851063, 0.0058823529411764705, 0.6046511627906976, 0.543859649122807, 0.011764705882352941, 0.6379310344827587, 0.6101694915254238, 0.603448275862069, 0.5789473684210527, 0.7402597402597403, 0.9166666666666666, 0.8275862068965517, 0.8688524590163934, 0.1864406779661017, 0.9491525423728814, 0.7833333333333333, 0.45054945054945056, 0.011111111111111112, 0.1356382978723404, 0.08741258741258741, 0.41935483870967744, 0.011111111111111112, 0.5862068965517241, 0.2857142857142857, 0.014652014652014652, 0.550561797752809, 0.4576271186440678, 0.6290322580645161, 0.22459893048128343, 0.4915254237288136, 0.43548387096774194, 0.011494252873563218, 0.5789473684210527, 0.19130434782608696, 0.3486238532110092, 0.8032786885245902, 0.29310344827586204, 0.7241379310344828, 0.75, 0.8260869565217391, 0.8095238095238095, 0.2631578947368421, 0.8360655737704918, 0.9491525423728814, 0.3275862068965517, 0.9344262295081968, 0.6949152542372882, 0.631578947368421, 0.38596491228070173, 0.8305084745762712, 0.7796610169491526, 0.018691588785046728, 0.07874015748031496, 0.5517241379310345, 0.5, 0.6551724137931034, 0.8, 0.24489795918367346, 0.078125, 0.5714285714285714, 0.23577235772357724, 0.9333333333333333, 0.8688524590163934, 0.8636363636363636, 0.6506024096385542, 0.5789473684210527, 0.8983050847457628, 0.8596491228070176, 0.38028169014084506, 0.4090909090909091, 0.4098360655737705, 0.9137931034482759, 0.7567567567567568, 0.6714285714285714, 0.3394495412844037, 0.7741935483870968, 0.44642857142857145, 0.782608695652174]\n",
            "\n",
            "[0.5833333333333334, 0.4444444444444444, 0.13186813186813187, 0.4647887323943662, 0.4074074074074074, 0.011235955056179775, 0.2765957446808511, 0.5306122448979592, 0.41025641025641024, 0.5892857142857143, 0.15384615384615385, 0.425, 0.5238095238095238, 0.5087719298245614, 0.32038834951456313, 0.45588235294117646, 0.5333333333333333, 0.43283582089552236, 0.5517241379310345, 1.0, 0.5849056603773585, 0.6274509803921569, 0.1728395061728395, 0.00684931506849315, 0.4074074074074074, 0.7777777777777778, 0.01639344262295082, 0.5777777777777777, 0.5434782608695652, 0.6428571428571429, 0.6923076923076923, 0.42857142857142855, 0.5166666666666667, 0.5769230769230769, 0.5789473684210527, 0.2777777777777778, 0.5689655172413793, 0.5370370370370371, 0.30120481927710846, 0.015151515151515152, 0.07754010695187166, 0.09125475285171103, 0.4883720930232558, 0.015151515151515152, 0.6585365853658537, 0.34782608695652173, 0.001890359168241966, 0.37349397590361444, 0.6756756756756757, 0.6041666666666666, 0.15168539325842698, 0.6, 0.4772727272727273, 0.015873015873015872, 0.7368421052631579, 0.13, 0.28125, 0.5357142857142857, 0.26, 0.6170212765957447, 0.4342105263157895, 0.4782608695652174, 0.5254237288135594, 0.37142857142857144, 0.6, 0.5423728813559322, 0.5588235294117647, 0.5409836065573771, 0.5833333333333334, 0.725, 0.6176470588235294, 0.6153846153846154, 0.62, 0.011904761904761904, 0.0660377358490566, 0.65, 0.6153846153846154, 0.6, 0.5555555555555556, 0.16666666666666666, 0.008849557522123894, 0.5306122448979592, 0.15315315315315314, 0.5333333333333333, 0.5517241379310345, 0.5, 0.3614457831325301, 0.6923076923076923, 0.5714285714285714, 0.64, 0.4230769230769231, 0.4375, 0.4090909090909091, 0.5535714285714286, 0.43243243243243246, 0.453125, 0.2978723404255319, 0.6226415094339622, 0.3142857142857143, 0.5]\n",
            "\n",
            "[0.7090909090909091, 0.34615384615384615, 0.21, 0.7183098591549296, 0.6296296296296297, 0.08, 0.21875, 0.5245901639344263, 0.37735849056603776, 0.8448275862068966, 0.21348314606741572, 0.36363636363636365, 0.78125, 0.7333333333333333, 0.49514563106796117, 0.625, 0.864406779661017, 0.5405405405405406, 0.8947368421052632, 0.5849056603773585, 1.0, 0.7719298245614035, 0.2696629213483146, 0.006097560975609756, 0.5903614457831325, 0.5769230769230769, 0.012658227848101266, 0.6181818181818182, 0.6481481481481481, 0.6730769230769231, 0.6470588235294118, 0.6623376623376623, 0.847457627118644, 0.8181818181818182, 0.8, 0.20754716981132076, 0.8793103448275862, 0.7413793103448276, 0.4318181818181818, 0.011904761904761904, 0.128686327077748, 0.08540925266903915, 0.4642857142857143, 0.011904761904761904, 0.5925925925925926, 0.3058823529411765, 0.012939001848428836, 0.5172413793103449, 0.5094339622641509, 0.6666666666666666, 0.20540540540540542, 0.5471698113207547, 0.43103448275862066, 0.012345679012345678, 0.6153846153846154, 0.18018018018018017, 0.34285714285714286, 0.7333333333333333, 0.2972972972972973, 0.7735849056603774, 0.6710526315789473, 0.7391304347826086, 0.7704918032786885, 0.2692307692307692, 0.7966101694915254, 0.8793103448275862, 0.33962264150943394, 0.8360655737704918, 0.7407407407407407, 0.6730769230769231, 0.43137254901960786, 0.8214285714285714, 0.8, 0.019801980198019802, 0.08264462809917356, 0.5555555555555556, 0.5576923076923077, 0.6981132075471698, 0.7586206896551724, 0.23404255319148937, 0.06451612903225806, 0.603448275862069, 0.21666666666666667, 0.8333333333333334, 0.8, 0.7727272727272727, 0.5975609756097561, 0.5849056603773585, 0.8596491228070176, 0.8181818181818182, 0.4153846153846154, 0.45, 0.40350877192982454, 0.8421052631578947, 0.6756756756756757, 0.6323529411764706, 0.3333333333333333, 0.7333333333333333, 0.41818181818181815, 0.746268656716418]\n",
            "\n",
            "[0.6607142857142857, 0.38, 0.22448979591836735, 0.704225352112676, 0.6172839506172839, 0.11458333333333333, 0.2222222222222222, 0.4603174603174603, 0.38461538461538464, 0.8275862068965517, 0.27380952380952384, 0.32142857142857145, 0.7121212121212122, 0.6885245901639344, 0.4854368932038835, 0.5466666666666666, 0.8166666666666667, 0.527027027027027, 0.8135593220338984, 0.6274509803921569, 0.7719298245614035, 1.0, 0.28735632183908044, 0.006134969325153374, 0.5411764705882353, 0.5283018867924528, 0.01282051282051282, 0.6, 0.5714285714285714, 0.5636363636363636, 0.5370370370370371, 0.6493506493506493, 0.8, 0.8, 0.7833333333333333, 0.18867924528301888, 0.8305084745762712, 0.7857142857142857, 0.45348837209302323, 0.012048192771084338, 0.12, 0.08571428571428572, 0.4727272727272727, 0.012048192771084338, 0.6346153846153846, 0.29411764705882354, 0.016728624535315983, 0.45555555555555555, 0.5192307692307693, 0.6206896551724138, 0.18716577540106952, 0.5576923076923077, 0.41379310344827586, 0.0125, 0.5660377358490566, 0.21495327102803738, 0.3333333333333333, 0.7758620689655172, 0.3119266055045872, 0.7547169811320755, 0.6578947368421053, 0.7246376811594203, 0.6461538461538462, 0.27450980392156865, 0.7796610169491526, 0.8305084745762712, 0.37254901960784315, 0.819672131147541, 0.7547169811320755, 0.5925925925925926, 0.38461538461538464, 0.7413793103448276, 0.7192982456140351, 0.02, 0.08333333333333333, 0.5961538461538461, 0.5686274509803921, 0.6481481481481481, 0.7719298245614035, 0.2777777777777778, 0.09166666666666666, 0.5333333333333333, 0.2608695652173913, 0.8166666666666667, 0.8448275862068966, 0.7575757575757576, 0.5476190476190477, 0.509090909090909, 0.8103448275862069, 0.7068965517241379, 0.3582089552238806, 0.4098360655737705, 0.38596491228070173, 0.8245614035087719, 0.618421052631579, 0.5942028985507246, 0.3238095238095238, 0.6349206349206349, 0.38392857142857145, 0.6811594202898551]\n",
            "\n",
            "[0.23529411764705882, 0.15714285714285714, 0.14782608695652175, 0.25471698113207547, 0.23275862068965517, 0.09174311926605505, 0.07228915662650602, 0.15555555555555556, 0.1506849315068493, 0.2826086956521739, 0.19, 0.16216216216216217, 0.2376237623762376, 0.25, 0.1956521739130435, 0.18518518518518517, 0.2736842105263158, 0.22549019607843138, 0.26595744680851063, 0.1728395061728395, 0.2696629213483146, 0.28735632183908044, 1.0, 0.005714285714285714, 0.20168067226890757, 0.1625, 0.011111111111111112, 0.2345679012345679, 0.20481927710843373, 0.18072289156626506, 0.1875, 0.23008849557522124, 0.2631578947368421, 0.24719101123595505, 0.26595744680851063, 0.11940298507462686, 0.2631578947368421, 0.2727272727272727, 0.21238938053097345, 0.010526315789473684, 0.06142506142506143, 0.039473684210526314, 0.14814814814814814, 0.010526315789473684, 0.1686746987951807, 0.0990990990990991, 0.016363636363636365, 0.1532258064516129, 0.1375, 0.21839080459770116, 0.07834101382488479, 0.1625, 0.14634146341463414, 0.010869565217391304, 0.1728395061728395, 0.14516129032258066, 0.13432835820895522, 0.26373626373626374, 0.12318840579710146, 0.2804878048780488, 0.24324324324324326, 0.25961538461538464, 0.21428571428571427, 0.1, 0.25806451612903225, 0.2765957446808511, 0.1388888888888889, 0.26804123711340205, 0.23529411764705882, 0.1951219512195122, 0.13513513513513514, 0.22826086956521738, 0.25, 0.017857142857142856, 0.04411764705882353, 0.14457831325301204, 0.16455696202531644, 0.21686746987951808, 0.25555555555555554, 0.15454545454545454, 0.07518796992481203, 0.19540229885057472, 0.12949640287769784, 0.2736842105263158, 0.27956989247311825, 0.26732673267326734, 0.22413793103448276, 0.1728395061728395, 0.2717391304347826, 0.20652173913043478, 0.13186813186813187, 0.18072289156626506, 0.1518987341772152, 0.27472527472527475, 0.22727272727272727, 0.2079207920792079, 0.11029411764705882, 0.18556701030927836, 0.14383561643835616, 0.24271844660194175]\n",
            "\n",
            "[0.00641025641025641, 0.007575757575757576, 0.00546448087431694, 0.005434782608695652, 0.005154639175257732, 0.0058823529411764705, 0.021739130434782608, 0.0064516129032258064, 0.007407407407407408, 0.005917159763313609, 0.0058823529411764705, 0.0072992700729927005, 0.005681818181818182, 0.006024096385542169, 0.004629629629629629, 0.00558659217877095, 0.005813953488372093, 0.005681818181818182, 0.0058823529411764705, 0.00684931506849315, 0.006097560975609756, 0.006134969325153374, 0.005714285714285714, 1.0, 0.010362694300518135, 0.006944444444444444, 0.007042253521126761, 0.006622516556291391, 0.006622516556291391, 0.006711409395973154, 0.00684931506849315, 0.005263157894736842, 0.005847953216374269, 0.006172839506172839, 0.0058823529411764705, 0.007936507936507936, 0.005847953216374269, 0.006134969325153374, 0.005319148936170213, 0.006802721088435374, 0.09502262443438914, 0.06051873198847262, 0.006944444444444444, 0.006802721088435374, 0.006756756756756757, 0.005780346820809248, 0.09694793536804308, 0.010362694300518135, 0.007042253521126761, 0.006369426751592357, 0.0035087719298245615, 0.006944444444444444, 0.006896551724137931, 0.006944444444444444, 0.00684931506849315, 0.0051813471502590676, 0.0049261083743842365, 0.006024096385542169, 0.0048543689320388345, 0.00641025641025641, 0.005291005291005291, 0.005494505494505495, 0.0058823529411764705, 0.0078125, 0.005952380952380952, 0.005847953216374269, 0.007518796992481203, 0.005747126436781609, 0.00641025641025641, 0.006711409395973154, 0.007407407407407408, 0.006097560975609756, 0.006211180124223602, 0.006060606060606061, 0.0051813471502590676, 0.00684931506849315, 0.006993006993006993, 0.006578947368421052, 0.006097560975609756, 0.0056179775280898875, 0.005154639175257732, 0.0064516129032258064, 0.004807692307692308, 0.005813953488372093, 0.0058823529411764705, 0.00558659217877095, 0.0051813471502590676, 0.00684931506849315, 0.005952380952380952, 0.006172839506172839, 0.006493506493506494, 0.006711409395973154, 0.007042253521126761, 0.005988023952095809, 0.005376344086021506, 0.005780346820809248, 0.009950248756218905, 0.006024096385542169, 0.009216589861751152, 0.00558659217877095]\n",
            "\n",
            "[0.47619047619047616, 0.21951219512195122, 0.1984126984126984, 0.5670103092783505, 0.514018691588785, 0.08661417322834646, 0.16129032258064516, 0.38202247191011235, 0.2716049382716049, 0.611764705882353, 0.15966386554621848, 0.26506024096385544, 0.5824175824175825, 0.5227272727272727, 0.4263565891472868, 0.47, 0.627906976744186, 0.44, 0.6046511627906976, 0.4074074074074074, 0.5903614457831325, 0.5411764705882353, 0.20168067226890757, 0.010362694300518135, 1.0, 0.38271604938271603, 0.009174311926605505, 0.4166666666666667, 0.4, 0.4444444444444444, 0.4074074074074074, 0.5339805825242718, 0.5977011494252874, 0.5476190476190477, 0.6235294117647059, 0.13253012048192772, 0.6162790697674418, 0.5411764705882353, 0.3333333333333333, 0.008771929824561403, 0.1931216931216931, 0.09120521172638436, 0.3333333333333333, 0.008771929824561403, 0.4146341463414634, 0.23684210526315788, 0.023008849557522124, 0.6701030927835051, 0.35802469135802467, 0.4880952380952381, 0.19339622641509435, 0.38271604938271603, 0.2988505747126437, 0.009009009009009009, 0.4074074074074074, 0.18382352941176472, 0.27611940298507465, 0.5581395348837209, 0.2517985611510791, 0.5121951219512195, 0.5544554455445545, 0.5789473684210527, 0.550561797752809, 0.18518518518518517, 0.6, 0.6352941176470588, 0.23170731707317074, 0.632183908045977, 0.4939759036144578, 0.4444444444444444, 0.2716049382716049, 0.5714285714285714, 0.5542168674698795, 0.05555555555555555, 0.08053691275167785, 0.3902439024390244, 0.37037037037037035, 0.4457831325301205, 0.5714285714285714, 0.23728813559322035, 0.0945945945945946, 0.3977272727272727, 0.2222222222222222, 0.6091954022988506, 0.5681818181818182, 0.5978260869565217, 0.45045045045045046, 0.3902439024390244, 0.6385542168674698, 0.5662650602409639, 0.28421052631578947, 0.32954545454545453, 0.26436781609195403, 0.5882352941176471, 0.5247524752475248, 0.5161290322580645, 0.452991452991453, 0.5581395348837209, 0.5630252100840336, 0.5638297872340425]\n",
            "\n",
            "[0.6444444444444445, 0.5151515151515151, 0.12222222222222222, 0.43661971830985913, 0.38271604938271603, 0.011494252873563218, 0.28888888888888886, 0.5208333333333334, 0.4722222222222222, 0.5535714285714286, 0.15789473684210525, 0.4864864864864865, 0.49206349206349204, 0.5, 0.30097087378640774, 0.44776119402985076, 0.5254237288135594, 0.42424242424242425, 0.543859649122807, 0.7777777777777778, 0.5769230769230769, 0.5283018867924528, 0.1625, 0.006944444444444444, 0.38271604938271603, 1.0, 0.01694915254237288, 0.6046511627906976, 0.5681818181818182, 0.6341463414634146, 0.7297297297297297, 0.4025974025974026, 0.5084745762711864, 0.5384615384615384, 0.543859649122807, 0.29411764705882354, 0.5344827586206896, 0.5, 0.2926829268292683, 0.015625, 0.07506702412868632, 0.09195402298850575, 0.5121951219512195, 0.015625, 0.6923076923076923, 0.3382352941176471, 0.0018975332068311196, 0.36585365853658536, 0.6666666666666666, 0.5957446808510638, 0.16, 0.631578947368421, 0.5365853658536586, 0.01639344262295082, 0.7777777777777778, 0.12121212121212122, 0.2736842105263158, 0.5272727272727272, 0.27835051546391754, 0.6444444444444445, 0.40789473684210525, 0.4492753623188406, 0.5172413793103449, 0.35294117647058826, 0.5636363636363636, 0.5344827586206896, 0.5, 0.5081967213114754, 0.574468085106383, 0.8108108108108109, 0.65625, 0.6078431372549019, 0.6122448979591837, 0.012195121951219513, 0.0673076923076923, 0.7297297297297297, 0.6486486486486487, 0.5909090909090909, 0.5769230769230769, 0.17073170731707318, 0.009009009009009009, 0.5531914893617021, 0.1559633027522936, 0.5254237288135594, 0.5172413793103449, 0.4696969696969697, 0.35365853658536583, 0.7297297297297297, 0.5636363636363636, 0.6326530612244898, 0.44, 0.4888888888888889, 0.42857142857142855, 0.5454545454545454, 0.4246575342465753, 0.4918032786885246, 0.2903225806451613, 0.5849056603773585, 0.29523809523809524, 0.4696969696969697]\n",
            "\n",
            "[0.014084507042253521, 0.02127659574468085, 0.08791208791208792, 0.041666666666666664, 0.0784313725490196, 0.04878048780487805, 0.01818181818181818, 0.05970149253731343, 0.02, 0.011904761904761904, 0.011764705882352941, 0.019230769230769232, 0.01098901098901099, 0.012345679012345678, 0.06451612903225806, 0.010638297872340425, 0.011494252873563218, 0.09523809523809523, 0.011764705882352941, 0.01639344262295082, 0.012658227848101266, 0.01282051282051282, 0.011111111111111112, 0.007042253521126761, 0.009174311926605505, 0.01694915254237288, 1.0, 0.015151515151515152, 0.015151515151515152, 0.015625, 0.01639344262295082, 0.08163265306122448, 0.011627906976744186, 0.012987012987012988, 0.011764705882352941, 0.024390243902439025, 0.011627906976744186, 0.01282051282051282, 0.009708737864077669, 0.016129032258064516, 0.002512562814070352, 0.0035460992907801418, 0.01694915254237288, 0.016129032258064516, 0.015873015873015872, 0.08536585365853659, 0.0019047619047619048, 0.009174311926605505, 0.017543859649122806, 0.013888888888888888, 0.005, 0.01694915254237288, 0.016666666666666666, 0.1320754716981132, 0.01639344262295082, 0.009259259259259259, 0.00847457627118644, 0.012345679012345678, 0.07017543859649122, 0.014084507042253521, 0.039603960396039604, 0.010309278350515464, 0.011764705882352941, 0.023255813953488372, 0.012048192771084338, 0.011627906976744186, 0.020833333333333332, 0.011235955056179775, 0.014084507042253521, 0.015625, 0.02, 0.012658227848101266, 0.013157894736842105, 0.0125, 0.02830188679245283, 0.01639344262295082, 0.017241379310344827, 0.014925373134328358, 0.012658227848101266, 0.09302325581395349, 0.009174311926605505, 0.014285714285714285, 0.06896551724137931, 0.011494252873563218, 0.011764705882352941, 0.010638297872340425, 0.009259259259259259, 0.01639344262295082, 0.012048192771084338, 0.012987012987012988, 0.06060606060606061, 0.015625, 0.017543859649122806, 0.012195121951219513, 0.009900990099009901, 0.011363636363636364, 0.008547008547008548, 0.012345679012345678, 0.007518796992481203, 0.010638297872340425]\n",
            "\n",
            "[0.6530612244897959, 0.425, 0.16129032258064516, 0.5138888888888888, 0.45121951219512196, 0.05555555555555555, 0.2037037037037037, 0.45454545454545453, 0.42857142857142855, 0.5932203389830508, 0.23376623376623376, 0.37777777777777777, 0.6031746031746031, 0.5689655172413793, 0.3557692307692308, 0.5294117647058824, 0.6166666666666667, 0.4225352112676056, 0.6379310344827587, 0.5777777777777777, 0.6181818181818182, 0.6, 0.2345679012345679, 0.006622516556291391, 0.4166666666666667, 0.6046511627906976, 0.015151515151515152, 1.0, 0.6888888888888889, 0.574468085106383, 0.5777777777777777, 0.47435897435897434, 0.6, 0.5263157894736842, 0.6379310344827587, 0.21428571428571427, 0.6, 0.6, 0.34523809523809523, 0.014084507042253521, 0.0938337801608579, 0.08550185873605948, 0.40816326530612246, 0.014084507042253521, 0.6590909090909091, 0.2894736842105263, 0.007532956685499058, 0.43373493975903615, 0.5227272727272727, 0.5471698113207547, 0.17318435754189945, 0.4375, 0.4583333333333333, 0.014705882352941176, 0.5777777777777777, 0.18, 0.28, 0.5964912280701754, 0.2358490566037736, 0.6530612244897959, 0.4805194805194805, 0.5285714285714286, 0.5573770491803278, 0.2926829268292683, 0.603448275862069, 0.6271186440677966, 0.38095238095238093, 0.6229508196721312, 0.5283018867924528, 0.6086956521739131, 0.42857142857142855, 0.6481481481481481, 0.6538461538461539, 0.022727272727272728, 0.07272727272727272, 0.6136363636363636, 0.44680851063829785, 0.5714285714285714, 0.6792452830188679, 0.19767441860465115, 0.05309734513274336, 0.5686274509803921, 0.1981981981981982, 0.6166666666666667, 0.6379310344827587, 0.5757575757575758, 0.4567901234567901, 0.6511627906976745, 0.6607142857142857, 0.6415094339622641, 0.3620689655172414, 0.4230769230769231, 0.3958333333333333, 0.6428571428571429, 0.5205479452054794, 0.53125, 0.2828282828282828, 0.5964912280701754, 0.3364485981308411, 0.5757575757575758]\n",
            "\n",
            "[0.6530612244897959, 0.3902439024390244, 0.14893617021276595, 0.5138888888888888, 0.45121951219512196, 0.05555555555555555, 0.27450980392156865, 0.45454545454545453, 0.3953488372093023, 0.5666666666666667, 0.21794871794871795, 0.4090909090909091, 0.6031746031746031, 0.5423728813559322, 0.3557692307692308, 0.5294117647058824, 0.5901639344262295, 0.463768115942029, 0.6101694915254238, 0.5434782608695652, 0.6481481481481481, 0.5714285714285714, 0.20481927710843373, 0.006622516556291391, 0.4, 0.5681818181818182, 0.015151515151515152, 0.6888888888888889, 1.0, 0.574468085106383, 0.6136363636363636, 0.45569620253164556, 0.6, 0.5535714285714286, 0.6101694915254238, 0.24390243902439024, 0.6, 0.5714285714285714, 0.313953488372093, 0.014084507042253521, 0.09090909090909091, 0.07352941176470588, 0.38, 0.014084507042253521, 0.5531914893617021, 0.2727272727272727, 0.007532956685499058, 0.4, 0.4888888888888889, 0.5185185185185185, 0.16022099447513813, 0.4375, 0.4583333333333333, 0.014705882352941176, 0.5434782608695652, 0.16831683168316833, 0.26732673267326734, 0.5423728813559322, 0.22429906542056074, 0.6530612244897959, 0.4805194805194805, 0.5070422535211268, 0.532258064516129, 0.23255813953488372, 0.576271186440678, 0.6, 0.45, 0.5967741935483871, 0.5576923076923077, 0.574468085106383, 0.5, 0.6481481481481481, 0.6538461538461539, 0.022727272727272728, 0.08256880733944955, 0.5106382978723404, 0.44680851063829785, 0.6041666666666666, 0.6481481481481481, 0.19767441860465115, 0.05309734513274336, 0.5094339622641509, 0.1981981981981982, 0.5901639344262295, 0.6101694915254238, 0.5522388059701493, 0.4567901234567901, 0.6136363636363636, 0.631578947368421, 0.6111111111111112, 0.46296296296296297, 0.4230769230769231, 0.4888888888888889, 0.6428571428571429, 0.5205479452054794, 0.53125, 0.3229166666666667, 0.5689655172413793, 0.3364485981308411, 0.5522388059701493]\n",
            "\n",
            "[0.6458333333333334, 0.375, 0.1276595744680851, 0.5070422535211268, 0.4444444444444444, 0.010869565217391304, 0.26, 0.625, 0.45, 0.5862068965517241, 0.14814814814814814, 0.42857142857142855, 0.5714285714285714, 0.5614035087719298, 0.34951456310679613, 0.5223880597014925, 0.5833333333333334, 0.39436619718309857, 0.603448275862069, 0.6428571428571429, 0.6730769230769231, 0.5636363636363636, 0.18072289156626506, 0.006711409395973154, 0.4444444444444444, 0.6341463414634146, 0.015625, 0.574468085106383, 0.574468085106383, 1.0, 0.6829268292682927, 0.4675324675324675, 0.6206896551724138, 0.6037735849056604, 0.631578947368421, 0.2564102564102564, 0.6206896551724138, 0.5357142857142857, 0.32142857142857145, 0.014492753623188406, 0.0913978494623656, 0.08208955223880597, 0.4888888888888889, 0.014492753623188406, 0.6136363636363636, 0.3333333333333333, 0.0018796992481203006, 0.4444444444444444, 0.6666666666666666, 0.5686274509803921, 0.1751412429378531, 0.5952380952380952, 0.4166666666666667, 0.015151515151515152, 0.6428571428571429, 0.11538461538461539, 0.29896907216494845, 0.5614035087719298, 0.2524271844660194, 0.6458333333333334, 0.47368421052631576, 0.5217391304347826, 0.603448275862069, 0.3076923076923077, 0.5964912280701754, 0.5932203389830508, 0.47368421052631576, 0.5901639344262295, 0.6458333333333334, 0.7560975609756098, 0.5675675675675675, 0.6111111111111112, 0.6470588235294118, 0.011494252873563218, 0.07407407407407407, 0.6046511627906976, 0.6097560975609756, 0.5625, 0.6111111111111112, 0.16091954022988506, 0.008620689655172414, 0.56, 0.1592920353982301, 0.5573770491803278, 0.576271186440678, 0.5454545454545454, 0.4146341463414634, 0.6428571428571429, 0.5964912280701754, 0.6666666666666666, 0.4807692307692308, 0.46938775510204084, 0.4444444444444444, 0.5789473684210527, 0.47297297297297297, 0.5, 0.26262626262626265, 0.6792452830188679, 0.34285714285714286, 0.5454545454545454]\n",
            "\n",
            "[0.6521739130434783, 0.4444444444444444, 0.13186813186813187, 0.4647887323943662, 0.4074074074074074, 0.011235955056179775, 0.2765957446808511, 0.5957446808510638, 0.41025641025641024, 0.5892857142857143, 0.15384615384615385, 0.5405405405405406, 0.5238095238095238, 0.5636363636363636, 0.32038834951456313, 0.47761194029850745, 0.559322033898305, 0.45454545454545453, 0.5789473684210527, 0.6923076923076923, 0.6470588235294118, 0.5370370370370371, 0.1875, 0.00684931506849315, 0.4074074074074074, 0.7297297297297297, 0.01639344262295082, 0.5777777777777777, 0.6136363636363636, 0.6829268292682927, 1.0, 0.42857142857142855, 0.5689655172413793, 0.5769230769230769, 0.5789473684210527, 0.2777777777777778, 0.5689655172413793, 0.5660377358490566, 0.2857142857142857, 0.015151515151515152, 0.0891891891891892, 0.0830188679245283, 0.5238095238095238, 0.015151515151515152, 0.6190476190476191, 0.32857142857142857, 0.001890359168241966, 0.4074074074074074, 0.55, 0.6041666666666666, 0.15168539325842698, 0.5238095238095238, 0.5116279069767442, 0.015873015873015872, 0.6923076923076923, 0.1188118811881188, 0.28125, 0.5636363636363636, 0.26, 0.6888888888888889, 0.4342105263157895, 0.4782608695652174, 0.5517241379310345, 0.3333333333333333, 0.5714285714285714, 0.5689655172413793, 0.4722222222222222, 0.5409836065573771, 0.5833333333333334, 0.725, 0.6666666666666666, 0.6153846153846154, 0.6530612244897959, 0.011904761904761904, 0.0660377358490566, 0.6097560975609756, 0.5365853658536586, 0.5319148936170213, 0.6153846153846154, 0.13953488372093023, 0.008849557522123894, 0.5957446808510638, 0.13274336283185842, 0.559322033898305, 0.5517241379310345, 0.5, 0.3950617283950617, 0.7368421052631579, 0.6, 0.673469387755102, 0.48, 0.46808510638297873, 0.4090909090909091, 0.6111111111111112, 0.4520547945205479, 0.47619047619047616, 0.28421052631578947, 0.6226415094339622, 0.3142857142857143, 0.5]\n",
            "\n",
            "[0.5584415584415584, 0.24675324675324675, 0.3008849557522124, 0.7411764705882353, 0.8809523809523809, 0.11666666666666667, 0.18181818181818182, 0.45121951219512196, 0.2857142857142857, 0.7272727272727273, 0.2072072072072072, 0.2625, 0.6666666666666666, 0.625, 0.6071428571428571, 0.5543478260869565, 0.7435897435897436, 0.6470588235294118, 0.7402597402597403, 0.42857142857142855, 0.6623376623376623, 0.6493506493506493, 0.23008849557522124, 0.005263157894736842, 0.5339805825242718, 0.4025974025974026, 0.08163265306122448, 0.47435897435897434, 0.45569620253164556, 0.4675324675324675, 0.42857142857142855, 1.0, 0.7307692307692307, 0.6153846153846154, 0.6962025316455697, 0.13924050632911392, 0.7307692307692307, 0.6075949367088608, 0.38181818181818183, 0.00909090909090909, 0.13451776649746192, 0.08169934640522876, 0.35, 0.00909090909090909, 0.4358974358974359, 0.3047619047619048, 0.01592920353982301, 0.4766355140186916, 0.358974358974359, 0.49382716049382713, 0.2087378640776699, 0.38461538461538464, 0.345679012345679, 0.06930693069306931, 0.42857142857142855, 0.17164179104477612, 0.29457364341085274, 0.625, 0.328125, 0.5584415584415584, 0.7191011235955056, 0.7176470588235294, 0.6144578313253012, 0.19480519480519481, 0.6708860759493671, 0.7307692307692307, 0.2597402597402597, 0.7468354430379747, 0.5584415584415584, 0.4675324675324675, 0.2857142857142857, 0.6410256410256411, 0.6025641025641025, 0.015748031496062992, 0.08275862068965517, 0.41025641025641024, 0.38961038961038963, 0.48717948717948717, 0.620253164556962, 0.30275229357798167, 0.0821917808219178, 0.43373493975903615, 0.2740740740740741, 0.7215189873417721, 0.6962025316455697, 0.7023809523809523, 0.5544554455445545, 0.42857142857142855, 0.6923076923076923, 0.6363636363636364, 0.37209302325581395, 0.34523809523809523, 0.30864197530864196, 0.7012987012987013, 0.6129032258064516, 0.5747126436781609, 0.31746031746031744, 0.6049382716049383, 0.4330708661417323, 0.7228915662650602]\n",
            "\n",
            "[0.7413793103448276, 0.3275862068965517, 0.23076923076923078, 0.8169014084507042, 0.7160493827160493, 0.10576923076923077, 0.19718309859154928, 0.5151515151515151, 0.3559322033898305, 0.9, 0.25, 0.3442622950819672, 0.8333333333333334, 0.7903225806451613, 0.5480769230769231, 0.6533333333333333, 0.9180327868852459, 0.5921052631578947, 0.9166666666666666, 0.5166666666666667, 0.847457627118644, 0.8, 0.2631578947368421, 0.005847953216374269, 0.5977011494252874, 0.5084745762711864, 0.011627906976744186, 0.6, 0.6, 0.6206896551724138, 0.5689655172413793, 0.7307692307692307, 1.0, 0.7833333333333333, 0.8548387096774194, 0.18333333333333332, 0.9016393442622951, 0.7704918032786885, 0.44565217391304346, 0.01098901098901099, 0.13527851458885942, 0.08710801393728224, 0.43548387096774194, 0.01098901098901099, 0.55, 0.2826086956521739, 0.016483516483516484, 0.5444444444444444, 0.4745762711864407, 0.6190476190476191, 0.22340425531914893, 0.5084745762711864, 0.42857142857142855, 0.011363636363636364, 0.5423728813559322, 0.2, 0.3333333333333333, 0.7619047619047619, 0.2796610169491525, 0.711864406779661, 0.7631578947368421, 0.8142857142857143, 0.7424242424242424, 0.23728813559322035, 0.8524590163934426, 0.9016393442622951, 0.3448275862068966, 0.9193548387096774, 0.7413793103448276, 0.5932203389830508, 0.3793103448275862, 0.7868852459016393, 0.7666666666666667, 0.018518518518518517, 0.078125, 0.5166666666666667, 0.5172413793103449, 0.6166666666666667, 0.7580645161290323, 0.25510204081632654, 0.0859375, 0.5384615384615384, 0.24390243902439024, 0.9180327868852459, 0.8852459016393442, 0.8507462686567164, 0.6235294117647059, 0.5423728813559322, 0.8524590163934426, 0.7833333333333333, 0.375, 0.40298507462686567, 0.4032258064516129, 0.8983050847457628, 0.7012987012987013, 0.6619718309859155, 0.32432432432432434, 0.7619047619047619, 0.45535714285714285, 0.7971014492753623]\n",
            "\n",
            "[0.7037037037037037, 0.36, 0.20202020202020202, 0.6901408450704225, 0.6049382716049383, 0.08163265306122448, 0.22580645161290322, 0.4918032786885246, 0.36538461538461536, 0.8103448275862069, 0.21839080459770116, 0.35185185185185186, 0.7230769230769231, 0.6451612903225806, 0.47572815533980584, 0.5540540540540541, 0.8305084745762712, 0.5342465753424658, 0.8275862068965517, 0.5769230769230769, 0.8181818181818182, 0.8, 0.24719101123595505, 0.006172839506172839, 0.5476190476190477, 0.5384615384615384, 0.012987012987012988, 0.5263157894736842, 0.5535714285714286, 0.6037735849056604, 0.5769230769230769, 0.6153846153846154, 0.7833333333333333, 1.0, 0.7377049180327869, 0.21568627450980393, 0.8448275862068966, 0.8333333333333334, 0.42528735632183906, 0.012195121951219513, 0.11733333333333333, 0.08602150537634409, 0.48148148148148145, 0.012195121951219513, 0.6153846153846154, 0.32926829268292684, 0.012987012987012988, 0.4942528735632184, 0.56, 0.6909090909090909, 0.20108695652173914, 0.6, 0.42105263157894735, 0.012658227848101266, 0.6078431372549019, 0.1834862385321101, 0.34951456310679613, 0.7288135593220338, 0.2909090909090909, 0.7358490566037735, 0.6447368421052632, 0.6857142857142857, 0.6825396825396826, 0.28, 0.7627118644067796, 0.8135593220338984, 0.38, 0.8032786885245902, 0.7358490566037735, 0.6346153846153846, 0.42, 0.7543859649122807, 0.7321428571428571, 0.020202020202020204, 0.075, 0.5769230769230769, 0.58, 0.7254901960784313, 0.7857142857142857, 0.2391304347826087, 0.06557377049180328, 0.5689655172413793, 0.22033898305084745, 0.8305084745762712, 0.7666666666666667, 0.7164179104477612, 0.5357142857142857, 0.5185185185185185, 0.7931034482758621, 0.8148148148148148, 0.38461538461538464, 0.46551724137931033, 0.3684210526315789, 0.8070175438596491, 0.6266666666666667, 0.6029411764705882, 0.3269230769230769, 0.7, 0.4, 0.6911764705882353]\n",
            "\n",
            "[0.7241379310344828, 0.3333333333333333, 0.18691588785046728, 0.8028169014084507, 0.7037037037037037, 0.07547169811320754, 0.2, 0.5, 0.38596491228070173, 0.8524590163934426, 0.2127659574468085, 0.35, 0.8461538461538461, 0.6923076923076923, 0.5533980582524272, 0.684931506849315, 0.9016393442622951, 0.5384615384615384, 0.8688524590163934, 0.5789473684210527, 0.8, 0.7833333333333333, 0.26595744680851063, 0.0058823529411764705, 0.6235294117647059, 0.543859649122807, 0.011764705882352941, 0.6379310344827587, 0.6101694915254238, 0.631578947368421, 0.5789473684210527, 0.6962025316455697, 0.8548387096774194, 0.7377049180327869, 1.0, 0.16666666666666666, 0.8852459016393442, 0.7540983606557377, 0.40425531914893614, 0.011111111111111112, 0.13262599469496023, 0.08741258741258741, 0.3968253968253968, 0.011111111111111112, 0.6140350877192983, 0.2857142857142857, 0.012797074954296161, 0.5681818181818182, 0.4827586206896552, 0.6290322580645161, 0.22459893048128343, 0.5172413793103449, 0.4126984126984127, 0.011494252873563218, 0.5789473684210527, 0.17094017094017094, 0.33636363636363636, 0.8032786885245902, 0.29310344827586204, 0.7241379310344828, 0.75, 0.8, 0.78125, 0.2631578947368421, 0.8666666666666667, 0.8852459016393442, 0.3508771929824561, 0.9032258064516129, 0.7543859649122807, 0.631578947368421, 0.38596491228070173, 0.8620689655172413, 0.8421052631578947, 0.018691588785046728, 0.07874015748031496, 0.5789473684210527, 0.5, 0.6271186440677966, 0.7704918032786885, 0.22, 0.06153846153846154, 0.546875, 0.216, 0.8709677419354839, 0.8387096774193549, 0.835820895522388, 0.611764705882353, 0.5789473684210527, 0.8983050847457628, 0.7966101694915254, 0.38028169014084506, 0.4307692307692308, 0.36507936507936506, 0.85, 0.7105263157894737, 0.625, 0.35185185185185186, 0.8333333333333334, 0.48623853211009177, 0.8088235294117647]\n",
            "\n",
            "[0.21739130434782608, 0.3333333333333333, 0.09210526315789473, 0.16666666666666666, 0.14634146341463414, 0.014492753623188406, 0.2903225806451613, 0.25, 0.20689655172413793, 0.1896551724137931, 0.12903225806451613, 0.37037037037037035, 0.1875, 0.17857142857142858, 0.1262135922330097, 0.1791044776119403, 0.18032786885245902, 0.16923076923076924, 0.1864406779661017, 0.2777777777777778, 0.20754716981132076, 0.18867924528301888, 0.11940298507462686, 0.007936507936507936, 0.13253012048192772, 0.29411764705882354, 0.024390243902439025, 0.21428571428571427, 0.24390243902439024, 0.2564102564102564, 0.2777777777777778, 0.13924050632911392, 0.18333333333333332, 0.21568627450980393, 0.16666666666666666, 1.0, 0.18333333333333332, 0.16666666666666666, 0.1282051282051282, 0.021739130434782608, 0.02680965147453083, 0.038910505836575876, 0.29411764705882354, 0.021739130434782608, 0.2631578947368421, 0.1774193548387097, 0.0019646365422396855, 0.13253012048192772, 0.3548387096774194, 0.2391304347826087, 0.06321839080459771, 0.3333333333333333, 0.2857142857142857, 0.023255813953488372, 0.24324324324324326, 0.09411764705882353, 0.09574468085106383, 0.17857142857142858, 0.10416666666666667, 0.21739130434782608, 0.14102564102564102, 0.15492957746478872, 0.1864406779661017, 0.21739130434782608, 0.19298245614035087, 0.18333333333333332, 0.32, 0.1746031746031746, 0.21739130434782608, 0.2564102564102564, 0.34615384615384615, 0.20754716981132076, 0.19607843137254902, 0.015625, 0.0449438202247191, 0.2777777777777778, 0.34375, 0.2682926829268293, 0.20754716981132076, 0.09859154929577464, 0.010752688172043012, 0.2222222222222222, 0.08, 0.18032786885245902, 0.14754098360655737, 0.16176470588235295, 0.1625, 0.24324324324324326, 0.19298245614035087, 0.21568627450980393, 0.2, 0.1951219512195122, 0.2727272727272727, 0.19642857142857142, 0.16216216216216217, 0.19672131147540983, 0.12087912087912088, 0.2, 0.11320754716981132, 0.16176470588235295]\n",
            "\n",
            "[0.6833333333333333, 0.3275862068965517, 0.21904761904761905, 0.8169014084507042, 0.7160493827160493, 0.09523809523809523, 0.19718309859154928, 0.4925373134328358, 0.3793103448275862, 0.9, 0.23655913978494625, 0.3225806451612903, 0.8615384615384616, 0.7619047619047619, 0.5631067961165048, 0.6533333333333333, 0.95, 0.5714285714285714, 0.9491525423728814, 0.5689655172413793, 0.8793103448275862, 0.8305084745762712, 0.2631578947368421, 0.005847953216374269, 0.6162790697674418, 0.5344827586206896, 0.011627906976744186, 0.6, 0.6, 0.6206896551724138, 0.5689655172413793, 0.7307692307692307, 0.9016393442622951, 0.8448275862068966, 0.8852459016393442, 0.18333333333333332, 1.0, 0.7704918032786885, 0.44565217391304346, 0.01098901098901099, 0.13527851458885942, 0.08333333333333333, 0.4126984126984127, 0.01098901098901099, 0.603448275862069, 0.2967032967032967, 0.014625228519195612, 0.5617977528089888, 0.5, 0.6190476190476191, 0.22340425531914893, 0.5344827586206896, 0.40625, 0.011363636363636364, 0.5423728813559322, 0.1896551724137931, 0.34545454545454546, 0.7903225806451613, 0.2905982905982906, 0.711864406779661, 0.7631578947368421, 0.8142857142857143, 0.7692307692307693, 0.23728813559322035, 0.8833333333333333, 0.9333333333333333, 0.3448275862068966, 0.9508196721311475, 0.711864406779661, 0.6206896551724138, 0.3793103448275862, 0.8793103448275862, 0.7966101694915254, 0.018518518518518517, 0.078125, 0.5689655172413793, 0.5172413793103449, 0.6724137931034483, 0.8166666666666667, 0.24242424242424243, 0.07751937984496124, 0.5384615384615384, 0.23387096774193547, 0.9180327868852459, 0.8852459016393442, 0.8507462686567164, 0.6235294117647059, 0.5689655172413793, 0.8833333333333333, 0.8135593220338984, 0.375, 0.42424242424242425, 0.4032258064516129, 0.8666666666666667, 0.7236842105263158, 0.6619718309859155, 0.3486238532110092, 0.7903225806451613, 0.45535714285714285, 0.7971014492753623]\n",
            "\n",
            "[0.7222222222222222, 0.3269230769230769, 0.21212121212121213, 0.6805555555555556, 0.5975609756097561, 0.10309278350515463, 0.203125, 0.4603174603174603, 0.3584905660377358, 0.7966101694915254, 0.25882352941176473, 0.39622641509433965, 0.7121212121212122, 0.6349206349206349, 0.47115384615384615, 0.5064935064935064, 0.8166666666666667, 0.5694444444444444, 0.7833333333333333, 0.5370370370370371, 0.7413793103448276, 0.7857142857142857, 0.2727272727272727, 0.006134969325153374, 0.5411764705882353, 0.5, 0.01282051282051282, 0.6, 0.5714285714285714, 0.5357142857142857, 0.5660377358490566, 0.6075949367088608, 0.7704918032786885, 0.8333333333333334, 0.7540983606557377, 0.16666666666666666, 0.7704918032786885, 1.0, 0.42045454545454547, 0.012048192771084338, 0.12, 0.08571428571428572, 0.44642857142857145, 0.012048192771084338, 0.5740740740740741, 0.29411764705882354, 0.016728624535315983, 0.45555555555555555, 0.49056603773584906, 0.6785714285714286, 0.18716577540106952, 0.5, 0.3898305084745763, 0.0125, 0.5961538461538461, 0.21495327102803738, 0.3333333333333333, 0.7457627118644068, 0.2767857142857143, 0.6909090909090909, 0.6363636363636364, 0.676056338028169, 0.6461538461538462, 0.3, 0.75, 0.8, 0.37254901960784315, 0.819672131147541, 0.6909090909090909, 0.5636363636363636, 0.38461538461538464, 0.711864406779661, 0.75, 0.02, 0.08333333333333333, 0.5370370370370371, 0.48148148148148145, 0.6181818181818182, 0.7719298245614035, 0.25, 0.09166666666666666, 0.5862068965517241, 0.2288135593220339, 0.8166666666666667, 0.8135593220338984, 0.7313432835820896, 0.5476190476190477, 0.509090909090909, 0.7796610169491526, 0.7368421052631579, 0.3787878787878788, 0.43333333333333335, 0.3620689655172414, 0.8245614035087719, 0.618421052631579, 0.5942028985507246, 0.3113207547169811, 0.6612903225806451, 0.3963963963963964, 0.6811594202898551]\n",
            "\n",
            "[0.40476190476190477, 0.175, 0.17886178861788618, 0.40384615384615385, 0.3684210526315789, 0.09090909090909091, 0.13333333333333333, 0.2857142857142857, 0.19753086419753085, 0.47191011235955055, 0.2, 0.2375, 0.3939393939393939, 0.3763440860215054, 0.3088235294117647, 0.330188679245283, 0.45652173913043476, 0.33980582524271846, 0.45054945054945056, 0.30120481927710846, 0.4318181818181818, 0.45348837209302323, 0.21238938053097345, 0.005319148936170213, 0.3333333333333333, 0.2926829268292683, 0.009708737864077669, 0.34523809523809523, 0.313953488372093, 0.32142857142857145, 0.2857142857142857, 0.38181818181818183, 0.44565217391304346, 0.42528735632183906, 0.40425531914893614, 0.1282051282051282, 0.44565217391304346, 0.42045454545454547, 1.0, 0.4342105263157895, 0.09876543209876543, 0.06472491909385113, 0.2926829268292683, 0.009259259259259259, 0.30952380952380953, 0.19469026548672566, 0.015985790408525755, 0.2786885245901639, 0.2839506172839506, 0.3076923076923077, 0.14883720930232558, 0.325, 0.2159090909090909, 0.009523809523809525, 0.2857142857142857, 0.17424242424242425, 0.23134328358208955, 0.4065934065934066, 0.19148936170212766, 0.40476190476190477, 0.3853211009174312, 0.4117647058823529, 0.375, 0.16883116883116883, 0.41304347826086957, 0.46153846153846156, 0.21794871794871795, 0.44680851063829785, 0.40476190476190477, 0.35365853658536583, 0.22784810126582278, 0.38461538461538464, 0.38202247191011235, 0.016, 0.09154929577464789, 0.2857142857142857, 0.3291139240506329, 0.37349397590361444, 0.4157303370786517, 0.21739130434782608, 0.07586206896551724, 0.32954545454545453, 0.1888111888111888, 0.45652173913043476, 0.45054945054945056, 0.42424242424242425, 0.34782608695652173, 0.3333333333333333, 0.4444444444444444, 0.39325842696629215, 0.24731182795698925, 0.27586206896551724, 0.25301204819277107, 0.43333333333333335, 0.37037037037037035, 0.36363636363636365, 0.22388059701492538, 0.3333333333333333, 0.2676056338028169, 0.38235294117647056]\n",
            "\n",
            "[0.013157894736842105, 0.019230769230769232, 0.009708737864077669, 0.009615384615384616, 0.008771929824561403, 0.011111111111111112, 0.016666666666666666, 0.013333333333333334, 0.01818181818181818, 0.011235955056179775, 0.011111111111111112, 0.017543859649122806, 0.010416666666666666, 0.011627906976744186, 0.007352941176470588, 0.010101010101010102, 0.010869565217391304, 0.010416666666666666, 0.011111111111111112, 0.015151515151515152, 0.011904761904761904, 0.012048192771084338, 0.010526315789473684, 0.006802721088435374, 0.008771929824561403, 0.015625, 0.016129032258064516, 0.014084507042253521, 0.014084507042253521, 0.014492753623188406, 0.015151515151515152, 0.00909090909090909, 0.01098901098901099, 0.012195121951219513, 0.011111111111111112, 0.021739130434782608, 0.01098901098901099, 0.012048192771084338, 0.4342105263157895, 1.0, 0.01, 0.003484320557491289, 0.015625, 0.014925373134328358, 0.014705882352941176, 0.010752688172043012, 0.0018867924528301887, 0.008771929824561403, 0.016129032258064516, 0.012987012987012988, 0.004878048780487805, 0.015625, 0.015384615384615385, 0.015625, 0.015151515151515152, 0.008849557522123894, 0.008130081300813009, 0.011627906976744186, 0.007936507936507936, 0.013157894736842105, 0.009174311926605505, 0.00980392156862745, 0.011111111111111112, 0.020833333333333332, 0.011363636363636364, 0.01098901098901099, 0.018867924528301886, 0.010638297872340425, 0.013157894736842105, 0.014492753623188406, 0.01818181818181818, 0.011904761904761904, 0.012345679012345678, 0.011764705882352941, 0.03636363636363636, 0.015151515151515152, 0.015873015873015872, 0.013888888888888888, 0.011904761904761904, 0.01020408163265306, 0.008771929824561403, 0.013333333333333334, 0.0078125, 0.010869565217391304, 0.011111111111111112, 0.010101010101010102, 0.008849557522123894, 0.015151515151515152, 0.011363636363636364, 0.012195121951219513, 0.013513513513513514, 0.014492753623188406, 0.016129032258064516, 0.011494252873563218, 0.009433962264150943, 0.010752688172043012, 0.03361344537815126, 0.011627906976744186, 0.02962962962962963, 0.010101010101010102]\n",
            "\n",
            "[0.10723860589812333, 0.04851752021563342, 0.08374384236453201, 0.13659793814432988, 0.13316582914572864, 0.04914004914004914, 0.04199475065616798, 0.08136482939632546, 0.05093833780160858, 0.129973474801061, 0.05432098765432099, 0.05913978494623656, 0.13648293963254593, 0.1220159151193634, 0.14251207729468598, 0.11794871794871795, 0.14095744680851063, 0.10459183673469388, 0.1356382978723404, 0.07754010695187166, 0.128686327077748, 0.12, 0.06142506142506143, 0.09502262443438914, 0.1931216931216931, 0.07506702412868632, 0.002512562814070352, 0.0938337801608579, 0.09090909090909091, 0.0913978494623656, 0.0891891891891892, 0.13451776649746192, 0.13527851458885942, 0.11733333333333333, 0.13262599469496023, 0.02680965147453083, 0.13527851458885942, 0.12, 0.09876543209876543, 0.01, 1.0, 0.17073170731707318, 0.07219251336898395, 0.0024813895781637717, 0.08870967741935484, 0.07231920199501247, 0.18119891008174388, 0.19946808510638298, 0.06970509383378017, 0.10695187165775401, 0.0796812749003984, 0.07219251336898395, 0.06914893617021277, 0.010075566750629723, 0.08333333333333333, 0.08433734939759036, 0.08235294117647059, 0.13101604278074866, 0.08430913348946135, 0.11021505376344086, 0.14066496163682865, 0.13730569948186527, 0.12368421052631579, 0.03773584905660377, 0.12433862433862433, 0.14133333333333334, 0.045576407506702415, 0.1402116402116402, 0.10427807486631016, 0.08847184986595175, 0.05945945945945946, 0.1196808510638298, 0.11764705882352941, 0.03431372549019608, 0.0514018691588785, 0.08333333333333333, 0.06951871657754011, 0.09651474530831099, 0.12266666666666666, 0.0875, 0.05620608899297424, 0.09283819628647215, 0.09929078014184398, 0.13793103448275862, 0.12962962962962962, 0.13838120104438642, 0.13350125944584382, 0.08333333333333333, 0.13333333333333333, 0.11733333333333333, 0.0731070496083551, 0.0797872340425532, 0.061170212765957445, 0.13066666666666665, 0.1329923273657289, 0.1256544502617801, 0.18911917098445596, 0.11609498680738786, 0.20865139949109415, 0.13246753246753246]\n",
            "\n",
            "[0.09191176470588236, 0.0622568093385214, 0.03514376996805112, 0.08333333333333333, 0.08064516129032258, 0.0032258064516129032, 0.048507462686567165, 0.08424908424908426, 0.049429657794676805, 0.08771929824561403, 0.04013377926421405, 0.06513409961685823, 0.08561643835616438, 0.08480565371024736, 0.07530120481927711, 0.08108108108108109, 0.08680555555555555, 0.0782312925170068, 0.08741258741258741, 0.09125475285171103, 0.08540925266903915, 0.08571428571428572, 0.039473684210526314, 0.06051873198847262, 0.09120521172638436, 0.09195402298850575, 0.0035460992907801418, 0.08550185873605948, 0.07352941176470588, 0.08208955223880597, 0.0830188679245283, 0.08169934640522876, 0.08710801393728224, 0.08602150537634409, 0.08741258741258741, 0.038910505836575876, 0.08333333333333333, 0.08571428571428572, 0.06472491909385113, 0.003484320557491289, 0.17073170731707318, 1.0, 0.07142857142857142, 0.003484320557491289, 0.08646616541353383, 0.07534246575342465, 0.15716486902927582, 0.09120521172638436, 0.08846153846153847, 0.09157509157509157, 0.05970149253731343, 0.07954545454545454, 0.07518796992481203, 0.0035211267605633804, 0.09125475285171103, 0.037267080745341616, 0.07165109034267912, 0.08865248226950355, 0.07098765432098765, 0.08791208791208792, 0.08196721311475409, 0.08389261744966443, 0.08362369337979095, 0.05078125, 0.08421052631578947, 0.08710801393728224, 0.06201550387596899, 0.08620689655172414, 0.08394160583941605, 0.09022556390977443, 0.06976744186046512, 0.08540925266903915, 0.09025270758122744, 0.003278688524590164, 0.021406727828746176, 0.08712121212121213, 0.07984790874524715, 0.08518518518518518, 0.08540925266903915, 0.042483660130718956, 0.0029940119760479044, 0.08823529411764706, 0.04804804804804805, 0.08680555555555555, 0.0798611111111111, 0.0847457627118644, 0.07741935483870968, 0.0830188679245283, 0.0880281690140845, 0.08992805755395683, 0.06884057971014493, 0.0661764705882353, 0.0599250936329588, 0.08833922261484099, 0.08278145695364239, 0.08275862068965517, 0.071875, 0.08865248226950355, 0.08132530120481928, 0.0847457627118644]\n",
            "\n",
            "[0.45098039215686275, 0.42857142857142855, 0.16091954022988506, 0.36, 0.3176470588235294, 0.03529411764705882, 0.28888888888888886, 0.43137254901960786, 0.2619047619047619, 0.4262295081967213, 0.15789473684210525, 0.41025641025641024, 0.36231884057971014, 0.4, 0.2523364485981308, 0.3472222222222222, 0.42857142857142855, 0.34285714285714286, 0.41935483870967744, 0.4883720930232558, 0.4642857142857143, 0.4727272727272727, 0.14814814814814814, 0.006944444444444444, 0.3333333333333333, 0.5121951219512195, 0.01694915254237288, 0.40816326530612246, 0.38, 0.4888888888888889, 0.5238095238095238, 0.35, 0.43548387096774194, 0.48148148148148145, 0.3968253968253968, 0.29411764705882354, 0.4126984126984127, 0.44642857142857145, 0.2926829268292683, 0.015625, 0.07219251336898395, 0.07142857142857142, 1.0, 0.015625, 0.5, 0.3188405797101449, 0.005714285714285714, 0.3023255813953488, 0.5789473684210527, 0.5, 0.1340782122905028, 0.5897435897435898, 0.46511627906976744, 0.01639344262295082, 0.5609756097560976, 0.12121212121212122, 0.19801980198019803, 0.4482758620689655, 0.24, 0.5102040816326531, 0.3375, 0.3698630136986301, 0.3968253968253968, 0.3939393939393939, 0.43333333333333335, 0.43548387096774194, 0.4166666666666667, 0.4153846153846154, 0.45098039215686275, 0.5227272727272727, 0.5142857142857142, 0.41379310344827586, 0.4107142857142857, 0.012195121951219513, 0.0673076923076923, 0.5238095238095238, 0.6052631578947368, 0.5217391304347826, 0.4909090909090909, 0.1566265060240964, 0.027522935779816515, 0.5208333333333334, 0.1559633027522936, 0.42857142857142855, 0.3968253968253968, 0.38571428571428573, 0.3058823529411765, 0.45454545454545453, 0.4576271186440678, 0.45454545454545453, 0.38461538461538464, 0.3673469387755102, 0.36363636363636365, 0.46551724137931033, 0.3333333333333333, 0.421875, 0.25, 0.423728813559322, 0.25925925925925924, 0.38571428571428573]\n",
            "\n",
            "[0.013157894736842105, 0.019230769230769232, 0.009708737864077669, 0.009615384615384616, 0.008771929824561403, 0.011111111111111112, 0.016666666666666666, 0.013333333333333334, 0.01818181818181818, 0.011235955056179775, 0.011111111111111112, 0.017543859649122806, 0.010416666666666666, 0.011627906976744186, 0.007352941176470588, 0.010101010101010102, 0.010869565217391304, 0.010416666666666666, 0.011111111111111112, 0.015151515151515152, 0.011904761904761904, 0.012048192771084338, 0.010526315789473684, 0.006802721088435374, 0.008771929824561403, 0.015625, 0.016129032258064516, 0.014084507042253521, 0.014084507042253521, 0.014492753623188406, 0.015151515151515152, 0.00909090909090909, 0.01098901098901099, 0.012195121951219513, 0.011111111111111112, 0.021739130434782608, 0.01098901098901099, 0.012048192771084338, 0.009259259259259259, 0.014925373134328358, 0.0024813895781637717, 0.003484320557491289, 0.015625, 1.0, 0.014705882352941176, 0.010752688172043012, 0.0018867924528301887, 0.008771929824561403, 0.016129032258064516, 0.012987012987012988, 0.004878048780487805, 0.015625, 0.015384615384615385, 0.015625, 0.015151515151515152, 0.008849557522123894, 0.008130081300813009, 0.011627906976744186, 0.007936507936507936, 0.013157894736842105, 0.009174311926605505, 0.00980392156862745, 0.011111111111111112, 0.020833333333333332, 0.011363636363636364, 0.01098901098901099, 0.018867924528301886, 0.010638297872340425, 0.013157894736842105, 0.014492753623188406, 0.01818181818181818, 0.011904761904761904, 0.012345679012345678, 0.011764705882352941, 0.03636363636363636, 0.015151515151515152, 0.015873015873015872, 0.013888888888888888, 0.011904761904761904, 0.01020408163265306, 0.008771929824561403, 0.013333333333333334, 0.0078125, 0.010869565217391304, 0.011111111111111112, 0.010101010101010102, 0.008849557522123894, 0.015151515151515152, 0.011363636363636364, 0.012195121951219513, 0.013513513513513514, 0.014492753623188406, 0.016129032258064516, 0.011494252873563218, 0.009433962264150943, 0.010752688172043012, 0.03361344537815126, 0.011627906976744186, 0.007246376811594203, 0.010101010101010102]\n",
            "\n",
            "[0.56, 0.5, 0.14130434782608695, 0.49295774647887325, 0.43209876543209874, 0.022222222222222223, 0.2653061224489796, 0.4807692307692308, 0.46153846153846156, 0.5423728813559322, 0.1794871794871795, 0.40476190476190477, 0.5555555555555556, 0.5172413793103449, 0.33980582524271846, 0.463768115942029, 0.5932203389830508, 0.42028985507246375, 0.5862068965517241, 0.6585365853658537, 0.5925925925925926, 0.6346153846153846, 0.1686746987951807, 0.006756756756756757, 0.4146341463414634, 0.6923076923076923, 0.015873015873015872, 0.6590909090909091, 0.5531914893617021, 0.6136363636363636, 0.6190476190476191, 0.4358974358974359, 0.55, 0.6153846153846154, 0.6140350877192983, 0.2631578947368421, 0.603448275862069, 0.5740740740740741, 0.30952380952380953, 0.014705882352941176, 0.08870967741935484, 0.08646616541353383, 0.5, 0.014705882352941176, 1.0, 0.35714285714285715, 0.0037735849056603774, 0.43209876543209874, 0.7297297297297297, 0.6122448979591837, 0.17613636363636365, 0.65, 0.5581395348837209, 0.015384615384615385, 0.6190476190476191, 0.12745098039215685, 0.28865979381443296, 0.6296296296296297, 0.28, 0.5918367346938775, 0.4605263157894737, 0.4857142857142857, 0.559322033898305, 0.3157894736842105, 0.6363636363636364, 0.603448275862069, 0.4864864864864865, 0.5737704918032787, 0.625, 0.6511627906976745, 0.5405405405405406, 0.6862745098039216, 0.5961538461538461, 0.023529411764705882, 0.07476635514018691, 0.9428571428571428, 0.625, 0.6444444444444445, 0.6538461538461539, 0.17647058823529413, 0.017543859649122806, 0.5098039215686274, 0.18181818181818182, 0.5932203389830508, 0.559322033898305, 0.5074626865671642, 0.4024390243902439, 0.6190476190476191, 0.6363636363636364, 0.6470588235294118, 0.35714285714285715, 0.4791666666666667, 0.45454545454545453, 0.5892857142857143, 0.4594594594594595, 0.532258064516129, 0.2916666666666667, 0.6296296296296297, 0.32075471698113206, 0.5303030303030303]\n",
            "\n",
            "[0.2875, 0.2153846153846154, 0.1504424778761062, 0.297029702970297, 0.3055555555555556, 0.035398230088495575, 0.16, 0.36, 0.15492957746478872, 0.27472527472527475, 0.11428571428571428, 0.2537313432835821, 0.28125, 0.2696629213483146, 0.31451612903225806, 0.24752475247524752, 0.29347826086956524, 0.3225806451612903, 0.2857142857142857, 0.34782608695652173, 0.3058823529411765, 0.29411764705882354, 0.0990990990990991, 0.005780346820809248, 0.23684210526315788, 0.3382352941176471, 0.08536585365853659, 0.2894736842105263, 0.2727272727272727, 0.3333333333333333, 0.32857142857142857, 0.3047619047619048, 0.2826086956521739, 0.32926829268292684, 0.2857142857142857, 0.1774193548387097, 0.2967032967032967, 0.29411764705882354, 0.19469026548672566, 0.010752688172043012, 0.07231920199501247, 0.07534246575342465, 0.3188405797101449, 0.010752688172043012, 0.35714285714285715, 1.0, 0.0017985611510791368, 0.23684210526315788, 0.4126984126984127, 0.3333333333333333, 0.1262135922330097, 0.3582089552238806, 0.2777777777777778, 0.3787878787878788, 0.32857142857142857, 0.10236220472440945, 0.18110236220472442, 0.2988505747126437, 0.5773195876288659, 0.3037974683544304, 0.2830188679245283, 0.2524271844660194, 0.2857142857142857, 0.171875, 0.3068181818181818, 0.2967032967032967, 0.25, 0.2872340425531915, 0.2875, 0.3333333333333333, 0.30158730158730157, 0.3058823529411765, 0.30120481927710846, 0.009009009009009009, 0.15702479338842976, 0.36764705882352944, 0.34328358208955223, 0.3561643835616438, 0.32142857142857145, 0.1792452830188679, 0.007142857142857143, 0.3076923076923077, 0.17424242424242425, 0.29347826086956524, 0.25806451612903225, 0.26, 0.21739130434782608, 0.30985915492957744, 0.3068181818181818, 0.3132530120481928, 0.2948717948717949, 0.24675324675324675, 0.2361111111111111, 0.29545454545454547, 0.24299065420560748, 0.2765957446808511, 0.20161290322580644, 0.313953488372093, 0.1956521739130435, 0.2727272727272727]\n",
            "\n",
            "[0.009345794392523364, 0.001941747572815534, 0.016129032258064516, 0.016100178890876567, 0.015817223198594025, 0.01651376146788991, 0.0019120458891013384, 0.0018587360594795538, 0.0019305019305019305, 0.016544117647058824, 0.01651376146788991, 0.0019230769230769232, 0.010830324909747292, 0.014760147601476014, 0.015228426395939087, 0.007155635062611807, 0.016453382084095063, 0.016333938294010888, 0.014652014652014652, 0.001890359168241966, 0.012939001848428836, 0.016728624535315983, 0.016363636363636365, 0.09694793536804308, 0.023008849557522124, 0.0018975332068311196, 0.0019047619047619048, 0.007532956685499058, 0.007532956685499058, 0.0018796992481203006, 0.001890359168241966, 0.01592920353982301, 0.016483516483516484, 0.012987012987012988, 0.012797074954296161, 0.0019646365422396855, 0.014625228519195612, 0.016728624535315983, 0.015985790408525755, 0.0018867924528301887, 0.18119891008174388, 0.15716486902927582, 0.005714285714285714, 0.0018867924528301887, 0.0037735849056603774, 0.0017985611510791368, 1.0, 0.014035087719298246, 0.0019047619047619048, 0.009328358208955223, 0.007530120481927711, 0.0018975332068311196, 0.001893939393939394, 0.0018975332068311196, 0.001890359168241966, 0.01584507042253521, 0.00859106529209622, 0.014760147601476014, 0.005110732538330494, 0.013133208255159476, 0.015957446808510637, 0.01615798922800718, 0.009107468123861567, 0.0019569471624266144, 0.014705882352941176, 0.016483516483516484, 0.001937984496124031, 0.01639344262295082, 0.011235955056179775, 0.0018796992481203006, 0.0019305019305019305, 0.009208103130755065, 0.009259259259259259, 0.003656307129798903, 0.005226480836236934, 0.001890359168241966, 0.0019011406844106464, 0.009416195856873822, 0.012939001848428836, 0.0162748643761302, 0.015817223198594025, 0.0037243947858473, 0.015437392795883362, 0.016453382084095063, 0.01651376146788991, 0.016245487364620937, 0.014059753954305799, 0.001890359168241966, 0.014705882352941176, 0.0055248618784530384, 0.00186219739292365, 0.005660377358490566, 0.0057361376673040155, 0.014732965009208104, 0.012433392539964476, 0.010889292196007259, 0.010344827586206896, 0.0018214936247723133, 0.010067114093959731, 0.012589928057553957]\n",
            "\n",
            "[0.4588235294117647, 0.2345679012345679, 0.16153846153846155, 0.504950495049505, 0.4594594594594595, 0.06976744186046512, 0.17391304347826086, 0.38202247191011235, 0.2716049382716049, 0.5222222222222223, 0.13114754098360656, 0.26506024096385544, 0.5652173913043478, 0.4888888888888889, 0.40458015267175573, 0.5154639175257731, 0.5555555555555556, 0.37142857142857144, 0.550561797752809, 0.37349397590361444, 0.5172413793103449, 0.45555555555555555, 0.1532258064516129, 0.010362694300518135, 0.6701030927835051, 0.36585365853658536, 0.009174311926605505, 0.43373493975903615, 0.4, 0.4444444444444444, 0.4074074074074074, 0.4766355140186916, 0.5444444444444444, 0.4942528735632184, 0.5681818181818182, 0.13253012048192772, 0.5617977528089888, 0.45555555555555555, 0.2786885245901639, 0.008771929824561403, 0.19946808510638298, 0.09120521172638436, 0.3023255813953488, 0.008771929824561403, 0.43209876543209874, 0.23684210526315788, 0.014035087719298246, 1.0, 0.35802469135802467, 0.45348837209302323, 0.1990521327014218, 0.36585365853658536, 0.32941176470588235, 0.009009009009009009, 0.37349397590361444, 0.15, 0.26666666666666666, 0.4888888888888889, 0.22535211267605634, 0.4418604651162791, 0.5096153846153846, 0.5151515151515151, 0.5333333333333333, 0.17073170731707318, 0.5454545454545454, 0.5444444444444444, 0.24691358024691357, 0.5604395604395604, 0.4588235294117647, 0.4268292682926829, 0.2716049382716049, 0.5529411764705883, 0.5176470588235295, 0.05555555555555555, 0.07333333333333333, 0.4074074074074074, 0.35365853658536583, 0.4117647058823529, 0.5172413793103449, 0.19672131147540983, 0.06578947368421052, 0.38202247191011235, 0.19727891156462585, 0.5384615384615384, 0.5, 0.53125, 0.45045045045045046, 0.4074074074074074, 0.5454545454545454, 0.5476190476190477, 0.2978723404255319, 0.3448275862068966, 0.26436781609195403, 0.5168539325842697, 0.4807692307692308, 0.5, 0.4406779661016949, 0.5581395348837209, 0.5371900826446281, 0.53125]\n",
            "\n",
            "[0.5319148936170213, 0.45454545454545453, 0.13793103448275862, 0.4084507042253521, 0.35802469135802467, 0.011764705882352941, 0.3023255813953488, 0.5434782608695652, 0.3783783783783784, 0.46551724137931033, 0.16216216216216217, 0.4722222222222222, 0.4603174603174603, 0.43859649122807015, 0.2815533980582524, 0.39705882352941174, 0.4666666666666667, 0.373134328358209, 0.4576271186440678, 0.6756756756756757, 0.5094339622641509, 0.5192307692307693, 0.1375, 0.007042253521126761, 0.35802469135802467, 0.6666666666666666, 0.017543859649122806, 0.5227272727272727, 0.4888888888888889, 0.6666666666666666, 0.55, 0.358974358974359, 0.4745762711864407, 0.56, 0.4827586206896552, 0.3548387096774194, 0.5, 0.49056603773584906, 0.2839506172839506, 0.016129032258064516, 0.06970509383378017, 0.08846153846153847, 0.5789473684210527, 0.016129032258064516, 0.7297297297297297, 0.4126984126984127, 0.0019047619047619048, 0.35802469135802467, 1.0, 0.5869565217391305, 0.16184971098265896, 0.7647058823529411, 0.525, 0.01694915254237288, 0.631578947368421, 0.12371134020618557, 0.25263157894736843, 0.4909090909090909, 0.24489795918367346, 0.5319148936170213, 0.3815789473684211, 0.4, 0.4576271186440678, 0.375, 0.5272727272727272, 0.4745762711864407, 0.5806451612903226, 0.47540983606557374, 0.5652173913043478, 0.625, 0.59375, 0.5686274509803921, 0.54, 0.0125, 0.07920792079207921, 0.7714285714285715, 0.7352941176470589, 0.6585365853658537, 0.5384615384615384, 0.175, 0.009174311926605505, 0.5434782608695652, 0.16981132075471697, 0.4666666666666667, 0.43333333333333335, 0.417910447761194, 0.3132530120481928, 0.55, 0.5, 0.5294117647058824, 0.4, 0.4444444444444444, 0.48717948717948717, 0.48214285714285715, 0.36, 0.43548387096774194, 0.26881720430107525, 0.5471698113207547, 0.2761904761904762, 0.4393939393939394]\n",
            "\n",
            "[0.6415094339622641, 0.4, 0.17525773195876287, 0.5540540540540541, 0.4880952380952381, 0.052083333333333336, 0.26785714285714285, 0.4827586206896552, 0.375, 0.639344262295082, 0.18823529411764706, 0.3877551020408163, 0.5735294117647058, 0.5901639344262295, 0.3867924528301887, 0.4666666666666667, 0.6612903225806451, 0.5070422535211268, 0.6290322580645161, 0.6041666666666666, 0.6666666666666666, 0.6206896551724138, 0.21839080459770116, 0.006369426751592357, 0.4880952380952381, 0.5957446808510638, 0.013888888888888888, 0.5471698113207547, 0.5185185185185185, 0.5686274509803921, 0.6041666666666666, 0.49382716049382713, 0.6190476190476191, 0.6909090909090909, 0.6290322580645161, 0.2391304347826087, 0.6190476190476191, 0.6785714285714286, 0.3076923076923077, 0.012987012987012988, 0.10695187165775401, 0.09157509157509157, 0.5, 0.012987012987012988, 0.6122448979591837, 0.3333333333333333, 0.009328358208955223, 0.45348837209302323, 0.5869565217391305, 1.0, 0.18681318681318682, 0.5625, 0.49019607843137253, 0.013513513513513514, 0.6739130434782609, 0.14814814814814814, 0.2761904761904762, 0.6166666666666667, 0.29245283018867924, 0.6730769230769231, 0.5189873417721519, 0.547945205479452, 0.578125, 0.3111111111111111, 0.6229508196721312, 0.6721311475409836, 0.391304347826087, 0.640625, 0.6111111111111112, 0.6, 0.5, 0.6666666666666666, 0.6428571428571429, 0.010526315789473684, 0.06896551724137931, 0.6041666666666666, 0.5416666666666666, 0.66, 0.6964285714285714, 0.1978021978021978, 0.041666666666666664, 0.5357142857142857, 0.18803418803418803, 0.6612903225806451, 0.578125, 0.5714285714285714, 0.4588235294117647, 0.5098039215686274, 0.7068965517241379, 0.6607142857142857, 0.4166666666666667, 0.5094339622641509, 0.35185185185185186, 0.6896551724137931, 0.5, 0.5522388059701493, 0.3434343434343434, 0.6166666666666667, 0.37962962962962965, 0.5942028985507246]\n",
            "\n",
            "[0.19444444444444445, 0.09142857142857143, 0.07079646017699115, 0.22110552763819097, 0.21052631578947367, 0.022321428571428572, 0.06989247311827956, 0.16304347826086957, 0.096045197740113, 0.2127659574468085, 0.08018867924528301, 0.11363636363636363, 0.22395833333333334, 0.18421052631578946, 0.19047619047619047, 0.20202020202020202, 0.23529411764705882, 0.16336633663366337, 0.22459893048128343, 0.15168539325842698, 0.20540540540540542, 0.18716577540106952, 0.07834101382488479, 0.0035087719298245615, 0.19339622641509435, 0.16, 0.005, 0.17318435754189945, 0.16022099447513813, 0.1751412429378531, 0.15168539325842698, 0.2087378640776699, 0.22340425531914893, 0.20108695652173914, 0.22459893048128343, 0.06321839080459771, 0.22340425531914893, 0.18716577540106952, 0.14883720930232558, 0.004878048780487805, 0.0796812749003984, 0.05970149253731343, 0.1340782122905028, 0.004878048780487805, 0.17613636363636365, 0.1262135922330097, 0.007530120481927711, 0.1990521327014218, 0.16184971098265896, 0.18681318681318682, 1.0, 0.1534090909090909, 0.13333333333333333, 0.0049504950495049506, 0.16477272727272727, 0.06779661016949153, 0.12931034482758622, 0.20967741935483872, 0.1228813559322034, 0.1878453038674033, 0.21568627450980393, 0.21717171717171718, 0.22459893048128343, 0.08092485549132948, 0.22702702702702704, 0.22994652406417113, 0.10982658959537572, 0.2328042328042328, 0.1878453038674033, 0.18181818181818182, 0.12790697674418605, 0.21195652173913043, 0.1956521739130435, 0.004484304932735426, 0.037037037037037035, 0.17142857142857143, 0.14772727272727273, 0.192090395480226, 0.21195652173913043, 0.0871559633027523, 0.020161290322580645, 0.15053763440860216, 0.09876543209876543, 0.22872340425531915, 0.20526315789473684, 0.2205128205128205, 0.2, 0.17142857142857143, 0.22043010752688172, 0.20765027322404372, 0.12698412698412698, 0.14285714285714285, 0.11666666666666667, 0.20855614973262032, 0.20098039215686275, 0.20833333333333334, 0.14473684210526316, 0.21621621621621623, 0.18376068376068377, 0.2268041237113402]\n",
            "\n",
            "[0.5102040816326531, 0.47058823529411764, 0.1348314606741573, 0.43661971830985913, 0.38271604938271603, 0.011494252873563218, 0.28888888888888886, 0.5208333333333334, 0.39473684210526316, 0.5, 0.15789473684210525, 0.4864864864864865, 0.49206349206349204, 0.4482758620689655, 0.30097087378640774, 0.4057971014492754, 0.5, 0.40298507462686567, 0.4915254237288136, 0.6, 0.5471698113207547, 0.5576923076923077, 0.1625, 0.006944444444444444, 0.38271604938271603, 0.631578947368421, 0.01694915254237288, 0.4375, 0.4375, 0.5952380952380952, 0.5238095238095238, 0.38461538461538464, 0.5084745762711864, 0.6, 0.5172413793103449, 0.3333333333333333, 0.5344827586206896, 0.5, 0.325, 0.015625, 0.07219251336898395, 0.07954545454545454, 0.5897435897435898, 0.015625, 0.65, 0.3582089552238806, 0.0018975332068311196, 0.36585365853658536, 0.7647058823529411, 0.5625, 0.1534090909090909, 1.0, 0.5, 0.01639344262295082, 0.6410256410256411, 0.12121212121212122, 0.23469387755102042, 0.4482758620689655, 0.27835051546391754, 0.5102040816326531, 0.40789473684210525, 0.42857142857142855, 0.4915254237288136, 0.3939393939393939, 0.5636363636363636, 0.5084745762711864, 0.5, 0.5081967213114754, 0.6086956521739131, 0.675, 0.5142857142857142, 0.5769230769230769, 0.58, 0.012195121951219513, 0.0673076923076923, 0.6842105263157895, 0.967741935483871, 0.627906976744186, 0.5471698113207547, 0.18518518518518517, 0.009009009009009009, 0.4897959183673469, 0.17757009345794392, 0.5, 0.4666666666666667, 0.44776119402985076, 0.3373493975903614, 0.5238095238095238, 0.5357142857142857, 0.5686274509803921, 0.44, 0.4888888888888889, 0.3953488372093023, 0.5178571428571429, 0.38666666666666666, 0.46774193548387094, 0.25, 0.5849056603773585, 0.29523809523809524, 0.4696969696969697]\n",
            "\n",
            "[0.41509433962264153, 0.5, 0.13333333333333333, 0.35526315789473684, 0.32941176470588235, 0.011363636363636364, 0.22916666666666666, 0.39622641509433965, 0.35, 0.3968253968253968, 0.14102564102564102, 0.4358974358974359, 0.39705882352941174, 0.4406779661016949, 0.2980769230769231, 0.4, 0.421875, 0.417910447761194, 0.43548387096774194, 0.4772727272727273, 0.43103448275862066, 0.41379310344827586, 0.14634146341463414, 0.006896551724137931, 0.2988505747126437, 0.5365853658536586, 0.016666666666666666, 0.4583333333333333, 0.4583333333333333, 0.4166666666666667, 0.5116279069767442, 0.345679012345679, 0.42857142857142855, 0.42105263157894735, 0.4126984126984127, 0.2857142857142857, 0.40625, 0.3898305084745763, 0.2159090909090909, 0.015384615384615385, 0.06914893617021277, 0.07518796992481203, 0.46511627906976744, 0.015384615384615385, 0.5581395348837209, 0.2777777777777778, 0.001893939393939394, 0.32941176470588235, 0.525, 0.49019607843137253, 0.13333333333333333, 0.5, 1.0, 0.016129032258064516, 0.5476190476190477, 0.09803921568627451, 0.19607843137254902, 0.4406779661016949, 0.22549019607843138, 0.41509433962264153, 0.3670886075949367, 0.4027777777777778, 0.4126984126984127, 0.3055555555555556, 0.4262295081967213, 0.42857142857142855, 0.4444444444444444, 0.4090909090909091, 0.3888888888888889, 0.4782608695652174, 0.42105263157894735, 0.45614035087719296, 0.40350877192982454, 0.012048192771084338, 0.05660377358490566, 0.5853658536585366, 0.5121951219512195, 0.4489795918367347, 0.43103448275862066, 0.1411764705882353, 0.008928571428571428, 0.4230769230769231, 0.14414414414414414, 0.421875, 0.36923076923076925, 0.38028169014084506, 0.3493975903614458, 0.4772727272727273, 0.45, 0.4727272727272727, 0.35185185185185186, 0.3877551020408163, 0.4186046511627907, 0.4576271186440678, 0.34615384615384615, 0.3939393939393939, 0.24742268041237114, 0.46551724137931033, 0.25688073394495414, 0.38028169014084506]\n",
            "\n",
            "[0.0136986301369863, 0.02040816326530612, 0.07446808510638298, 0.04081632653061224, 0.06666666666666667, 0.047619047619047616, 0.017543859649122806, 0.057971014492753624, 0.019230769230769232, 0.011627906976744186, 0.011494252873563218, 0.018518518518518517, 0.010752688172043012, 0.012048192771084338, 0.10743801652892562, 0.010416666666666666, 0.011235955056179775, 0.08045977011494253, 0.011494252873563218, 0.015873015873015872, 0.012345679012345678, 0.0125, 0.010869565217391304, 0.006944444444444444, 0.009009009009009009, 0.01639344262295082, 0.1320754716981132, 0.014705882352941176, 0.014705882352941176, 0.015151515151515152, 0.015873015873015872, 0.06930693069306931, 0.011363636363636364, 0.012658227848101266, 0.011494252873563218, 0.023255813953488372, 0.011363636363636364, 0.0125, 0.009523809523809525, 0.015625, 0.010075566750629723, 0.0035211267605633804, 0.01639344262295082, 0.015625, 0.015384615384615385, 0.3787878787878788, 0.0018975332068311196, 0.009009009009009009, 0.01694915254237288, 0.013513513513513514, 0.0049504950495049506, 0.01639344262295082, 0.016129032258064516, 1.0, 0.015873015873015872, 0.00909090909090909, 0.008333333333333333, 0.012048192771084338, 0.3333333333333333, 0.0136986301369863, 0.038834951456310676, 0.010101010101010102, 0.011494252873563218, 0.022222222222222223, 0.011764705882352941, 0.011363636363636364, 0.02, 0.01098901098901099, 0.0136986301369863, 0.015151515151515152, 0.019230769230769232, 0.012345679012345678, 0.01282051282051282, 0.012195121951219513, 0.12121212121212122, 0.015873015873015872, 0.016666666666666666, 0.014492753623188406, 0.012345679012345678, 0.07865168539325842, 0.009009009009009009, 0.013888888888888888, 0.058823529411764705, 0.011235955056179775, 0.011494252873563218, 0.010416666666666666, 0.00909090909090909, 0.015873015873015872, 0.011764705882352941, 0.012658227848101266, 0.058823529411764705, 0.015151515151515152, 0.01694915254237288, 0.011904761904761904, 0.009708737864077669, 0.011111111111111112, 0.008403361344537815, 0.012048192771084338, 0.007407407407407408, 0.010416666666666666]\n",
            "\n",
            "[0.6888888888888889, 0.4857142857142857, 0.11956521739130435, 0.4647887323943662, 0.4074074074074074, 0.011235955056179775, 0.25, 0.5306122448979592, 0.41025641025641024, 0.5614035087719298, 0.13924050632911392, 0.5, 0.5238095238095238, 0.5087719298245614, 0.32038834951456313, 0.47761194029850745, 0.559322033898305, 0.4117647058823529, 0.5789473684210527, 0.7368421052631579, 0.6153846153846154, 0.5660377358490566, 0.1728395061728395, 0.00684931506849315, 0.4074074074074074, 0.7777777777777778, 0.01639344262295082, 0.5777777777777777, 0.5434782608695652, 0.6428571428571429, 0.6923076923076923, 0.42857142857142855, 0.5423728813559322, 0.6078431372549019, 0.5789473684210527, 0.24324324324324326, 0.5423728813559322, 0.5961538461538461, 0.2857142857142857, 0.015151515151515152, 0.08333333333333333, 0.09125475285171103, 0.5609756097560976, 0.015151515151515152, 0.6190476190476191, 0.32857142857142857, 0.001890359168241966, 0.37349397590361444, 0.631578947368421, 0.6739130434782609, 0.16477272727272727, 0.6410256410256411, 0.5476190476190477, 0.015873015873015872, 1.0, 0.10784313725490197, 0.24242424242424243, 0.5636363636363636, 0.2727272727272727, 0.6521739130434783, 0.4342105263157895, 0.4782608695652174, 0.5517241379310345, 0.45454545454545453, 0.5714285714285714, 0.5689655172413793, 0.5142857142857142, 0.5409836065573771, 0.5833333333333334, 0.8157894736842105, 0.6666666666666666, 0.6153846153846154, 0.6530612244897959, 0.011904761904761904, 0.0660377358490566, 0.6097560975609756, 0.6578947368421053, 0.6744186046511628, 0.5849056603773585, 0.15294117647058825, 0.008849557522123894, 0.5957446808510638, 0.15315315315315314, 0.559322033898305, 0.5254237288135594, 0.5, 0.3780487804878049, 0.65, 0.6, 0.673469387755102, 0.45098039215686275, 0.5333333333333333, 0.4090909090909091, 0.6111111111111112, 0.4520547945205479, 0.5, 0.28421052631578947, 0.6226415094339622, 0.3142857142857143, 0.5]\n",
            "\n",
            "[0.17142857142857143, 0.1, 0.1111111111111111, 0.1796875, 0.16666666666666666, 0.0873015873015873, 0.08080808080808081, 0.10909090909090909, 0.0851063829787234, 0.20353982300884957, 0.17094017094017094, 0.11827956989247312, 0.1721311475409836, 0.1875, 0.14375, 0.12307692307692308, 0.19827586206896552, 0.1721311475409836, 0.19130434782608696, 0.13, 0.18018018018018017, 0.21495327102803738, 0.14516129032258066, 0.0051813471502590676, 0.18382352941176472, 0.12121212121212122, 0.009259259259259259, 0.18, 0.16831683168316833, 0.11538461538461539, 0.1188118811881188, 0.17164179104477612, 0.2, 0.1834862385321101, 0.17094017094017094, 0.09411764705882353, 0.1896551724137931, 0.21495327102803738, 0.17424242424242425, 0.008849557522123894, 0.08433734939759036, 0.037267080745341616, 0.12121212121212122, 0.008849557522123894, 0.12745098039215685, 0.10236220472440945, 0.01584507042253521, 0.15, 0.12371134020618557, 0.14814814814814814, 0.06779661016949153, 0.12121212121212122, 0.09803921568627451, 0.00909090909090909, 0.10784313725490197, 1.0, 0.1111111111111111, 0.1981981981981982, 0.0880503144654088, 0.1941747572815534, 0.17293233082706766, 0.18253968253968253, 0.14166666666666666, 0.06741573033707865, 0.17391304347826086, 0.2, 0.1111111111111111, 0.20512820512820512, 0.17142857142857143, 0.11538461538461539, 0.10869565217391304, 0.14912280701754385, 0.16363636363636364, 0.4666666666666667, 0.03896103896103896, 0.1188118811881188, 0.12244897959183673, 0.16666666666666666, 0.19090909090909092, 0.5104166666666666, 0.594059405940594, 0.14018691588785046, 0.5909090909090909, 0.19827586206896552, 0.21238938053097345, 0.19672131147540983, 0.1678832116788321, 0.13, 0.18421052631578946, 0.1415929203539823, 0.12037037037037036, 0.1262135922330097, 0.11224489795918367, 0.19642857142857142, 0.16793893129770993, 0.15702479338842976, 0.19014084507042253, 0.11764705882352941, 0.13496932515337423, 0.168]\n",
            "\n",
            "[0.30392156862745096, 0.17204301075268819, 0.1111111111111111, 0.3089430894308943, 0.2857142857142857, 0.035211267605633804, 0.125, 0.2571428571428571, 0.19148936170212766, 0.35185185185185186, 0.12213740458015267, 0.2, 0.31896551724137934, 0.3119266055045872, 0.24516129032258063, 0.2786885245901639, 0.34234234234234234, 0.2540983606557377, 0.3486238532110092, 0.28125, 0.34285714285714286, 0.3333333333333333, 0.13432835820895522, 0.0049261083743842365, 0.27611940298507465, 0.2736842105263158, 0.00847457627118644, 0.28, 0.26732673267326734, 0.29896907216494845, 0.28125, 0.29457364341085274, 0.3333333333333333, 0.34951456310679613, 0.33636363636363636, 0.09574468085106383, 0.34545454545454546, 0.3333333333333333, 0.23134328358208955, 0.008130081300813009, 0.08235294117647059, 0.07165109034267912, 0.19801980198019803, 0.008130081300813009, 0.28865979381443296, 0.18110236220472442, 0.00859106529209622, 0.26666666666666666, 0.25263157894736843, 0.2761904761904762, 0.12931034482758622, 0.23469387755102042, 0.19607843137254902, 0.008333333333333333, 0.24242424242424243, 0.1111111111111111, 1.0, 0.3119266055045872, 0.17307692307692307, 0.31683168316831684, 0.296875, 0.3140495867768595, 0.3125, 0.12903225806451613, 0.3302752293577982, 0.34545454545454546, 0.1827956989247312, 0.336283185840708, 0.31683168316831684, 0.29896907216494845, 0.20430107526881722, 0.3177570093457944, 0.3142857142857143, 0.014285714285714285, 0.06918238993710692, 0.28125, 0.23711340206185566, 0.2647058823529412, 0.330188679245283, 0.13970588235294118, 0.030120481927710843, 0.29411764705882354, 0.12804878048780488, 0.34234234234234234, 0.3486238532110092, 0.3220338983050847, 0.26865671641791045, 0.29473684210526313, 0.3425925925925926, 0.33653846153846156, 0.22429906542056074, 0.21153846153846154, 0.19, 0.3211009174311927, 0.29365079365079366, 0.28205128205128205, 0.18543046357615894, 0.3119266055045872, 0.21875, 0.31092436974789917]\n",
            "\n",
            "[0.6551724137931034, 0.3333333333333333, 0.20588235294117646, 0.7222222222222222, 0.6341463414634146, 0.1, 0.21212121212121213, 0.46153846153846156, 0.36363636363636365, 0.7580645161290323, 0.25, 0.3508771929824561, 0.7313432835820896, 0.6825396825396826, 0.5, 0.5657894736842105, 0.8360655737704918, 0.5064935064935064, 0.8032786885245902, 0.5357142857142857, 0.7333333333333333, 0.7758620689655172, 0.26373626373626374, 0.006024096385542169, 0.5581395348837209, 0.5272727272727272, 0.012345679012345678, 0.5964912280701754, 0.5423728813559322, 0.5614035087719298, 0.5636363636363636, 0.625, 0.7619047619047619, 0.7288135593220338, 0.8032786885245902, 0.17857142857142858, 0.7903225806451613, 0.7457627118644068, 0.4065934065934066, 0.011627906976744186, 0.13101604278074866, 0.08865248226950355, 0.4482758620689655, 0.011627906976744186, 0.6296296296296297, 0.2988505747126437, 0.014760147601476014, 0.4888888888888889, 0.4909090909090909, 0.6166666666666667, 0.20967741935483872, 0.4482758620689655, 0.4406779661016949, 0.012048192771084338, 0.5636363636363636, 0.1981981981981982, 0.3119266055045872, 1.0, 0.2920353982300885, 0.7142857142857143, 0.6973684210526315, 0.7428571428571429, 0.6923076923076923, 0.2830188679245283, 0.7142857142857143, 0.85, 0.32727272727272727, 0.8095238095238095, 0.6271186440677966, 0.5614035087719298, 0.3888888888888889, 0.7049180327868853, 0.6557377049180327, 0.019417475728155338, 0.07258064516129033, 0.5925925925925926, 0.43103448275862066, 0.6428571428571429, 0.7333333333333333, 0.24210526315789474, 0.08064516129032258, 0.5573770491803278, 0.23333333333333334, 0.8064516129032258, 0.746031746031746, 0.7761194029850746, 0.5833333333333334, 0.5636363636363636, 0.8, 0.7, 0.34285714285714286, 0.4126984126984127, 0.36666666666666664, 0.7540983606557377, 0.6578947368421053, 0.5915492957746479, 0.33962264150943394, 0.6825396825396826, 0.4107142857142857, 0.7]\n",
            "\n",
            "[0.25925925925925924, 0.17894736842105263, 0.13986013986013987, 0.30158730158730157, 0.3181818181818182, 0.041666666666666664, 0.1320754716981132, 0.27358490566037735, 0.18556701030927836, 0.2956521739130435, 0.10294117647058823, 0.18181818181818182, 0.2682926829268293, 0.24786324786324787, 0.32432432432432434, 0.23255813953488372, 0.29914529914529914, 0.2892561983471074, 0.29310344827586204, 0.26, 0.2972972972972973, 0.3119266055045872, 0.12318840579710146, 0.0048543689320388345, 0.2517985611510791, 0.27835051546391754, 0.07017543859649122, 0.2358490566037736, 0.22429906542056074, 0.2524271844660194, 0.26, 0.328125, 0.2796610169491525, 0.2909090909090909, 0.29310344827586204, 0.10416666666666667, 0.2905982905982906, 0.2767857142857143, 0.19148936170212766, 0.007936507936507936, 0.08430913348946135, 0.07098765432098765, 0.24, 0.007936507936507936, 0.28, 0.5773195876288659, 0.005110732538330494, 0.22535211267605634, 0.24489795918367346, 0.29245283018867924, 0.1228813559322034, 0.27835051546391754, 0.22549019607843138, 0.3333333333333333, 0.2727272727272727, 0.0880503144654088, 0.17307692307692307, 0.2920353982300885, 1.0, 0.3076923076923077, 0.2900763358778626, 0.2755905511811024, 0.2711864406779661, 0.14893617021276595, 0.28695652173913044, 0.3017241379310345, 0.17708333333333334, 0.29411764705882354, 0.27102803738317754, 0.29, 0.18556701030927836, 0.2857142857142857, 0.2818181818181818, 0.006944444444444444, 0.12337662337662338, 0.2857142857142857, 0.28125, 0.2571428571428571, 0.3211009174311927, 0.1791044776119403, 0.017543859649122806, 0.25, 0.175, 0.29914529914529914, 0.29310344827586204, 0.28225806451612906, 0.2536231884057971, 0.26, 0.30973451327433627, 0.30275229357798167, 0.24074074074074073, 0.205607476635514, 0.1619047619047619, 0.3008849557522124, 0.25757575757575757, 0.2644628099173554, 0.18181818181818182, 0.2920353982300885, 0.2073170731707317, 0.28225806451612906]\n",
            "\n",
            "[0.7551020408163265, 0.37777777777777777, 0.18947368421052632, 0.6056338028169014, 0.5308641975308642, 0.08695652173913043, 0.25, 0.5454545454545454, 0.41304347826086957, 0.7678571428571429, 0.2345679012345679, 0.3958333333333333, 0.6060606060606061, 0.6551724137931034, 0.4174757281553398, 0.5352112676056338, 0.7288135593220338, 0.49295774647887325, 0.7241379310344828, 0.6170212765957447, 0.7735849056603774, 0.7547169811320755, 0.2804878048780488, 0.00641025641025641, 0.5121951219512195, 0.6444444444444445, 0.014084507042253521, 0.6530612244897959, 0.6530612244897959, 0.6458333333333334, 0.6888888888888889, 0.5584415584415584, 0.711864406779661, 0.7358490566037735, 0.7241379310344828, 0.21739130434782608, 0.711864406779661, 0.6909090909090909, 0.40476190476190477, 0.013157894736842105, 0.11021505376344086, 0.08791208791208792, 0.5102040816326531, 0.013157894736842105, 0.5918367346938775, 0.3037974683544304, 0.013133208255159476, 0.4418604651162791, 0.5319148936170213, 0.6730769230769231, 0.1878453038674033, 0.5102040816326531, 0.41509433962264153, 0.0136986301369863, 0.6521739130434783, 0.1941747572815534, 0.31683168316831684, 0.7142857142857143, 0.3076923076923077, 1.0, 0.5657894736842105, 0.6231884057971014, 0.5873015873015873, 0.3181818181818182, 0.6896551724137931, 0.7413793103448276, 0.4, 0.7049180327868853, 0.72, 0.6458333333333334, 0.5116279069767442, 0.6785714285714286, 0.7843137254901961, 0.021505376344086023, 0.07894736842105263, 0.5510204081632653, 0.5208333333333334, 0.673469387755102, 0.8076923076923077, 0.2558139534883721, 0.06896551724137931, 0.6346153846153846, 0.22123893805309736, 0.7288135593220338, 0.7241379310344828, 0.6515151515151515, 0.5, 0.6170212765957447, 0.7818181818181819, 0.7037037037037037, 0.4482758620689655, 0.5192307692307693, 0.38461538461538464, 0.7962962962962963, 0.5675675675675675, 0.5606060606060606, 0.32, 0.6, 0.3577981651376147, 0.6268656716417911]\n",
            "\n",
            "[0.5657894736842105, 0.25, 0.24786324786324787, 0.8148148148148148, 0.7640449438202247, 0.11764705882352941, 0.1839080459770115, 0.4567901234567901, 0.2894736842105263, 0.7368421052631579, 0.20909090909090908, 0.26582278481012656, 0.759493670886076, 0.6973684210526315, 0.5982142857142857, 0.6136363636363636, 0.7763157894736842, 0.5977011494252874, 0.75, 0.4342105263157895, 0.6710526315789473, 0.6578947368421053, 0.24324324324324326, 0.005291005291005291, 0.5544554455445545, 0.40789473684210525, 0.039603960396039604, 0.4805194805194805, 0.4805194805194805, 0.47368421052631576, 0.4342105263157895, 0.7191011235955056, 0.7631578947368421, 0.6447368421052632, 0.75, 0.14102564102564102, 0.7631578947368421, 0.6363636363636364, 0.3853211009174312, 0.009174311926605505, 0.14066496163682865, 0.08196721311475409, 0.3375, 0.009174311926605505, 0.4605263157894737, 0.2830188679245283, 0.015957446808510637, 0.5096153846153846, 0.3815789473684211, 0.5189873417721519, 0.21568627450980393, 0.40789473684210525, 0.3670886075949367, 0.038834951456310676, 0.4342105263157895, 0.17293233082706766, 0.296875, 0.6973684210526315, 0.2900763358778626, 0.5657894736842105, 1.0, 0.8125, 0.7272727272727273, 0.19736842105263158, 0.7236842105263158, 0.7631578947368421, 0.2631578947368421, 0.7792207792207793, 0.5657894736842105, 0.47368421052631576, 0.2894736842105263, 0.6710526315789473, 0.631578947368421, 0.015873015873015872, 0.08333333333333333, 0.4342105263157895, 0.39473684210526316, 0.5131578947368421, 0.6493506493506493, 0.25892857142857145, 0.08275862068965517, 0.4567901234567901, 0.2391304347826087, 0.7763157894736842, 0.7272727272727273, 0.8205128205128205, 0.625, 0.4342105263157895, 0.7236842105263158, 0.6447368421052632, 0.3764705882352941, 0.3333333333333333, 0.3125, 0.7105263157894737, 0.6741573033707865, 0.5813953488372093, 0.33064516129032256, 0.6753246753246753, 0.49586776859504134, 0.7108433734939759]\n",
            "\n",
            "[0.6231884057971014, 0.2753623188405797, 0.23008849557522124, 0.75, 0.7045454545454546, 0.09565217391304348, 0.18518518518518517, 0.44155844155844154, 0.3188405797101449, 0.8115942028985508, 0.22330097087378642, 0.2916666666666667, 0.76, 0.7428571428571429, 0.5636363636363636, 0.6071428571428571, 0.8285714285714286, 0.5903614457831325, 0.8260869565217391, 0.4782608695652174, 0.7391304347826086, 0.7246376811594203, 0.25961538461538464, 0.005494505494505495, 0.5789473684210527, 0.4492753623188406, 0.010309278350515464, 0.5285714285714286, 0.5070422535211268, 0.5217391304347826, 0.4782608695652174, 0.7176470588235294, 0.8142857142857143, 0.6857142857142857, 0.8, 0.15492957746478872, 0.8142857142857143, 0.676056338028169, 0.4117647058823529, 0.00980392156862745, 0.13730569948186527, 0.08389261744966443, 0.3698630136986301, 0.00980392156862745, 0.4857142857142857, 0.2524271844660194, 0.01615798922800718, 0.5151515151515151, 0.4, 0.547945205479452, 0.21717171717171718, 0.42857142857142855, 0.4027777777777778, 0.010101010101010102, 0.4782608695652174, 0.18253968253968253, 0.3140495867768595, 0.7428571428571429, 0.2755905511811024, 0.6231884057971014, 0.8125, 1.0, 0.8260869565217391, 0.21739130434782608, 0.7464788732394366, 0.8142857142857143, 0.2898550724637681, 0.8309859154929577, 0.6231884057971014, 0.5217391304347826, 0.3188405797101449, 0.7142857142857143, 0.6714285714285714, 0.01680672268907563, 0.07194244604316546, 0.45714285714285713, 0.43478260869565216, 0.5428571428571428, 0.6901408450704225, 0.22935779816513763, 0.07913669064748201, 0.48, 0.22388059701492538, 0.8028169014084507, 0.7746478873239436, 0.9285714285714286, 0.6195652173913043, 0.4782608695652174, 0.7714285714285715, 0.7101449275362319, 0.34146341463414637, 0.34615384615384615, 0.3424657534246575, 0.782608695652174, 0.7108433734939759, 0.5925925925925926, 0.3277310924369748, 0.6944444444444444, 0.4745762711864407, 0.7307692307692307]\n",
            "\n",
            "[0.6129032258064516, 0.3103448275862069, 0.1651376146788991, 0.6842105263157895, 0.6046511627906976, 0.045871559633027525, 0.2, 0.5, 0.3389830508474576, 0.7384615384615385, 0.17525773195876287, 0.35, 0.7647058823529411, 0.6923076923076923, 0.48148148148148145, 0.618421052631579, 0.7846153846153846, 0.4634146341463415, 0.8095238095238095, 0.5254237288135594, 0.7704918032786885, 0.6461538461538462, 0.21428571428571427, 0.0058823529411764705, 0.550561797752809, 0.5172413793103449, 0.011764705882352941, 0.5573770491803278, 0.532258064516129, 0.603448275862069, 0.5517241379310345, 0.6144578313253012, 0.7424242424242424, 0.6825396825396826, 0.78125, 0.1864406779661017, 0.7692307692307693, 0.6461538461538462, 0.375, 0.011111111111111112, 0.12368421052631579, 0.08362369337979095, 0.3968253968253968, 0.011111111111111112, 0.559322033898305, 0.2857142857142857, 0.009107468123861567, 0.5333333333333333, 0.4576271186440678, 0.578125, 0.22459893048128343, 0.4915254237288136, 0.4126984126984127, 0.011494252873563218, 0.5517241379310345, 0.14166666666666666, 0.3125, 0.6923076923076923, 0.2711864406779661, 0.5873015873015873, 0.7272727272727273, 0.8260869565217391, 1.0, 0.2631578947368421, 0.75, 0.7692307692307693, 0.3275862068965517, 0.7611940298507462, 0.639344262295082, 0.603448275862069, 0.38596491228070173, 0.7419354838709677, 0.6935483870967742, 0.009259259259259259, 0.07874015748031496, 0.5517241379310345, 0.5, 0.5737704918032787, 0.6615384615384615, 0.18446601941747573, 0.03759398496240601, 0.5, 0.1875, 0.7575757575757576, 0.7014925373134329, 0.8636363636363636, 0.5930232558139535, 0.5517241379310345, 0.75, 0.7666666666666667, 0.38028169014084506, 0.3880597014925373, 0.36507936507936506, 0.734375, 0.6883116883116883, 0.581081081081081, 0.3394495412844037, 0.7741935483870968, 0.4727272727272727, 0.7083333333333334]\n",
            "\n",
            "[0.3181818181818182, 0.25925925925925924, 0.1038961038961039, 0.2112676056338028, 0.18518518518518517, 0.014084507042253521, 0.2727272727272727, 0.32558139534883723, 0.1935483870967742, 0.26785714285714285, 0.1076923076923077, 0.39285714285714285, 0.23809523809523808, 0.23636363636363636, 0.14563106796116504, 0.208955223880597, 0.2542372881355932, 0.2, 0.2631578947368421, 0.37142857142857144, 0.2692307692307692, 0.27450980392156865, 0.1, 0.0078125, 0.18518518518518517, 0.35294117647058826, 0.023255813953488372, 0.2926829268292683, 0.23255813953488372, 0.3076923076923077, 0.3333333333333333, 0.19480519480519481, 0.23728813559322035, 0.28, 0.2631578947368421, 0.21739130434782608, 0.23728813559322035, 0.3, 0.16883116883116883, 0.020833333333333332, 0.03773584905660377, 0.05078125, 0.3939393939393939, 0.020833333333333332, 0.3157894736842105, 0.171875, 0.0019569471624266144, 0.17073170731707318, 0.375, 0.3111111111111111, 0.08092485549132948, 0.3939393939393939, 0.3055555555555556, 0.022222222222222223, 0.45454545454545453, 0.06741573033707865, 0.12903225806451613, 0.2830188679245283, 0.14893617021276595, 0.3181818181818182, 0.19736842105263158, 0.21739130434782608, 0.2631578947368421, 1.0, 0.25, 0.25862068965517243, 0.4, 0.2459016393442623, 0.28888888888888886, 0.34210526315789475, 0.37037037037037035, 0.2692307692307692, 0.3125, 0.015151515151515152, 0.05555555555555555, 0.3333333333333333, 0.40625, 0.35, 0.2692307692307692, 0.0958904109589041, 0.010526315789473684, 0.35714285714285715, 0.0891089108910891, 0.2542372881355932, 0.2413793103448276, 0.22727272727272727, 0.1875, 0.37142857142857144, 0.2727272727272727, 0.30612244897959184, 0.2727272727272727, 0.275, 0.2571428571428571, 0.2777777777777778, 0.2054794520547945, 0.20967741935483872, 0.13043478260869565, 0.2830188679245283, 0.14285714285714285, 0.22727272727272727]\n",
            "\n",
            "[0.6333333333333333, 0.34545454545454546, 0.20192307692307693, 0.7746478873239436, 0.6790123456790124, 0.07692307692307693, 0.18840579710144928, 0.49230769230769234, 0.375, 0.819672131147541, 0.21739130434782608, 0.3389830508474576, 0.8153846153846154, 0.6875, 0.5192307692307693, 0.6133333333333333, 0.8688524590163934, 0.5733333333333334, 0.8360655737704918, 0.6, 0.7966101694915254, 0.7796610169491526, 0.25806451612903225, 0.005952380952380952, 0.6, 0.5636363636363636, 0.012048192771084338, 0.603448275862069, 0.576271186440678, 0.5964912280701754, 0.5714285714285714, 0.6708860759493671, 0.8524590163934426, 0.7627118644067796, 0.8666666666666667, 0.19298245614035087, 0.8833333333333333, 0.75, 0.41304347826086957, 0.011363636363636364, 0.12433862433862433, 0.08421052631578947, 0.43333333333333335, 0.011363636363636364, 0.6363636363636364, 0.3068181818181818, 0.014705882352941176, 0.5454545454545454, 0.5272727272727272, 0.6229508196721312, 0.22702702702702704, 0.5636363636363636, 0.4262295081967213, 0.011764705882352941, 0.5714285714285714, 0.17391304347826086, 0.3302752293577982, 0.7142857142857143, 0.28695652173913044, 0.6896551724137931, 0.7236842105263158, 0.7464788732394366, 0.75, 0.25, 1.0, 0.8524590163934426, 0.36363636363636365, 0.8709677419354839, 0.6896551724137931, 0.625, 0.4, 0.8275862068965517, 0.7758620689655172, 0.01904761904761905, 0.08, 0.6, 0.5454545454545454, 0.6206896551724138, 0.7966101694915254, 0.22448979591836735, 0.0625, 0.515625, 0.21951219512195122, 0.8688524590163934, 0.8360655737704918, 0.7794117647058824, 0.5697674418604651, 0.5714285714285714, 0.8333333333333334, 0.7627118644067796, 0.37142857142857144, 0.4444444444444444, 0.4, 0.8166666666666667, 0.6410256410256411, 0.6666666666666666, 0.3584905660377358, 0.8, 0.46788990825688076, 0.7794117647058824]\n",
            "\n",
            "[0.711864406779661, 0.3275862068965517, 0.23076923076923078, 0.8169014084507042, 0.7160493827160493, 0.10576923076923077, 0.19718309859154928, 0.4925373134328358, 0.3559322033898305, 0.9, 0.25, 0.3442622950819672, 0.8333333333333334, 0.7619047619047619, 0.5631067961165048, 0.631578947368421, 0.9830508474576272, 0.5921052631578947, 0.9491525423728814, 0.5423728813559322, 0.8793103448275862, 0.8305084745762712, 0.2765957446808511, 0.005847953216374269, 0.6352941176470588, 0.5344827586206896, 0.011627906976744186, 0.6271186440677966, 0.6, 0.5932203389830508, 0.5689655172413793, 0.7307692307692307, 0.9016393442622951, 0.8135593220338984, 0.8852459016393442, 0.18333333333333332, 0.9333333333333333, 0.8, 0.46153846153846156, 0.01098901098901099, 0.14133333333333334, 0.08710801393728224, 0.43548387096774194, 0.01098901098901099, 0.603448275862069, 0.2967032967032967, 0.016483516483516484, 0.5444444444444444, 0.4745762711864407, 0.6721311475409836, 0.22994652406417113, 0.5084745762711864, 0.42857142857142855, 0.011363636363636364, 0.5689655172413793, 0.2, 0.34545454545454546, 0.85, 0.3017241379310345, 0.7413793103448276, 0.7631578947368421, 0.8142857142857143, 0.7692307692307693, 0.25862068965517243, 0.8524590163934426, 1.0, 0.3, 0.9508196721311475, 0.6833333333333333, 0.6206896551724138, 0.3793103448275862, 0.8166666666666667, 0.7666666666666667, 0.018518518518518517, 0.078125, 0.5689655172413793, 0.4915254237288136, 0.6724137931034483, 0.847457627118644, 0.25510204081632654, 0.0859375, 0.5625, 0.24390243902439024, 0.95, 0.8548387096774194, 0.8507462686567164, 0.6428571428571429, 0.5689655172413793, 0.9482758620689655, 0.8135593220338984, 0.375, 0.42424242424242425, 0.4032258064516129, 0.8983050847457628, 0.7236842105263158, 0.7101449275362319, 0.3611111111111111, 0.7619047619047619, 0.45535714285714285, 0.7971014492753623]\n",
            "\n",
            "[0.4318181818181818, 0.4444444444444444, 0.0975609756097561, 0.28169014084507044, 0.24691358024691357, 0.013157894736842105, 0.3055555555555556, 0.4090909090909091, 0.4, 0.35714285714285715, 0.14925373134328357, 0.4666666666666667, 0.31746031746031744, 0.35185185185185186, 0.1941747572815534, 0.30303030303030304, 0.31666666666666665, 0.296875, 0.3275862068965517, 0.5588235294117647, 0.33962264150943394, 0.37254901960784315, 0.1388888888888889, 0.007518796992481203, 0.23170731707317074, 0.5, 0.020833333333333332, 0.38095238095238093, 0.45, 0.47368421052631576, 0.4722222222222222, 0.2597402597402597, 0.3448275862068966, 0.38, 0.3508771929824561, 0.32, 0.3448275862068966, 0.37254901960784315, 0.21794871794871795, 0.018867924528301886, 0.045576407506702415, 0.06201550387596899, 0.4166666666666667, 0.018867924528301886, 0.4864864864864865, 0.25, 0.001937984496124031, 0.24691358024691357, 0.5806451612903226, 0.391304347826087, 0.10982658959537572, 0.5, 0.4444444444444444, 0.02, 0.5142857142857142, 0.1111111111111111, 0.1827956989247312, 0.32727272727272727, 0.17708333333333334, 0.4, 0.2631578947368421, 0.2898550724637681, 0.3275862068965517, 0.4, 0.36363636363636365, 0.3, 1.0, 0.32786885245901637, 0.46511627906976744, 0.47368421052631576, 0.6153846153846154, 0.39215686274509803, 0.4166666666666667, 0.014084507042253521, 0.06382978723404255, 0.4722222222222222, 0.5151515151515151, 0.43902439024390244, 0.33962264150943394, 0.14864864864864866, 0.01, 0.37777777777777777, 0.11650485436893204, 0.31666666666666665, 0.3508771929824561, 0.30303030303030304, 0.2345679012345679, 0.5142857142857142, 0.3157894736842105, 0.38, 0.35555555555555557, 0.4358974358974359, 0.4411764705882353, 0.34545454545454546, 0.25675675675675674, 0.2903225806451613, 0.17204301075268819, 0.37735849056603776, 0.19047619047619047, 0.30303030303030304]\n",
            "\n",
            "[0.7049180327868853, 0.3114754098360656, 0.22429906542056074, 0.8333333333333334, 0.7317073170731707, 0.102803738317757, 0.1891891891891892, 0.4927536231884058, 0.36065573770491804, 0.9180327868852459, 0.2553191489361702, 0.328125, 0.8787878787878788, 0.7538461538461538, 0.5769230769230769, 0.6493506493506493, 0.9672131147540983, 0.5897435897435898, 0.9344262295081968, 0.5409836065573771, 0.8360655737704918, 0.819672131147541, 0.26804123711340205, 0.005747126436781609, 0.632183908045977, 0.5081967213114754, 0.011235955056179775, 0.6229508196721312, 0.5967741935483871, 0.5901639344262295, 0.5409836065573771, 0.7468354430379747, 0.9193548387096774, 0.8032786885245902, 0.9032258064516129, 0.1746031746031746, 0.9508196721311475, 0.819672131147541, 0.44680851063829785, 0.010638297872340425, 0.1402116402116402, 0.08620689655172414, 0.4153846153846154, 0.010638297872340425, 0.5737704918032787, 0.2872340425531915, 0.01639344262295082, 0.5604395604395604, 0.47540983606557374, 0.640625, 0.2328042328042328, 0.5081967213114754, 0.4090909090909091, 0.01098901098901099, 0.5409836065573771, 0.20512820512820512, 0.336283185840708, 0.8095238095238095, 0.29411764705882354, 0.7049180327868853, 0.7792207792207793, 0.8309859154929577, 0.7611940298507462, 0.2459016393442623, 0.8709677419354839, 0.9508196721311475, 0.32786885245901637, 1.0, 0.7049180327868853, 0.5901639344262295, 0.36065573770491804, 0.8360655737704918, 0.7868852459016393, 0.018018018018018018, 0.07633587786259542, 0.5409836065573771, 0.4918032786885246, 0.639344262295082, 0.8360655737704918, 0.24752475247524752, 0.09230769230769231, 0.5373134328358209, 0.248, 0.9354838709677419, 0.9032258064516129, 0.8955223880597015, 0.6588235294117647, 0.5409836065573771, 0.9016393442622951, 0.8032786885245902, 0.3783783783783784, 0.4057971014492754, 0.38461538461538464, 0.8852459016393442, 0.7402597402597403, 0.6805555555555556, 0.35135135135135137, 0.8095238095238095, 0.48214285714285715, 0.8405797101449275]\n",
            "\n",
            "[0.7916666666666666, 0.37777777777777777, 0.18947368421052632, 0.6056338028169014, 0.5308641975308642, 0.07526881720430108, 0.25, 0.5178571428571429, 0.41304347826086957, 0.7678571428571429, 0.21951219512195122, 0.3958333333333333, 0.65625, 0.6, 0.4174757281553398, 0.5571428571428572, 0.7, 0.4722222222222222, 0.6949152542372882, 0.5833333333333334, 0.7407407407407407, 0.7547169811320755, 0.23529411764705882, 0.00641025641025641, 0.4939759036144578, 0.574468085106383, 0.014084507042253521, 0.5283018867924528, 0.5576923076923077, 0.6458333333333334, 0.5833333333333334, 0.5584415584415584, 0.7413793103448276, 0.7358490566037735, 0.7543859649122807, 0.21739130434782608, 0.711864406779661, 0.6909090909090909, 0.40476190476190477, 0.013157894736842105, 0.10427807486631016, 0.08394160583941605, 0.45098039215686275, 0.013157894736842105, 0.625, 0.2875, 0.011235955056179775, 0.4588235294117647, 0.5652173913043478, 0.6111111111111112, 0.1878453038674033, 0.6086956521739131, 0.3888888888888889, 0.0136986301369863, 0.5833333333333334, 0.17142857142857143, 0.31683168316831684, 0.6271186440677966, 0.27102803738317754, 0.72, 0.5657894736842105, 0.6231884057971014, 0.639344262295082, 0.28888888888888886, 0.6896551724137931, 0.6833333333333333, 0.46511627906976744, 0.7049180327868853, 1.0, 0.6458333333333334, 0.4772727272727273, 0.7735849056603774, 0.7843137254901961, 0.021505376344086023, 0.08849557522123894, 0.5833333333333334, 0.6222222222222222, 0.673469387755102, 0.6206896551724138, 0.2413793103448276, 0.05982905982905983, 0.5454545454545454, 0.21052631578947367, 0.7, 0.7241379310344828, 0.6515151515151515, 0.4819277108433735, 0.52, 0.7192982456140351, 0.7037037037037037, 0.4, 0.49056603773584906, 0.38461538461538464, 0.7321428571428571, 0.5466666666666666, 0.4927536231884058, 0.2815533980582524, 0.6271186440677966, 0.37037037037037035, 0.6268656716417911]\n",
            "\n",
            "[0.717391304347826, 0.4473684210526316, 0.1276595744680851, 0.5070422535211268, 0.4444444444444444, 0.010869565217391304, 0.26, 0.56, 0.4146341463414634, 0.6140350877192983, 0.14814814814814814, 0.5, 0.5714285714285714, 0.5084745762711864, 0.34951456310679613, 0.5223880597014925, 0.6101694915254238, 0.4142857142857143, 0.631578947368421, 0.725, 0.6730769230769231, 0.5925925925925926, 0.1951219512195122, 0.006711409395973154, 0.4444444444444444, 0.8108108108108109, 0.015625, 0.6086956521739131, 0.574468085106383, 0.7560975609756098, 0.725, 0.4675324675324675, 0.5932203389830508, 0.6346153846153846, 0.631578947368421, 0.2564102564102564, 0.6206896551724138, 0.5636363636363636, 0.35365853658536583, 0.014492753623188406, 0.08847184986595175, 0.09022556390977443, 0.5227272727272727, 0.014492753623188406, 0.6511627906976745, 0.3333333333333333, 0.0018796992481203006, 0.4268292682926829, 0.625, 0.6, 0.18181818181818182, 0.675, 0.4782608695652174, 0.015151515151515152, 0.8157894736842105, 0.11538461538461539, 0.29896907216494845, 0.5614035087719298, 0.29, 0.6458333333333334, 0.47368421052631576, 0.5217391304347826, 0.603448275862069, 0.34210526315789475, 0.625, 0.6206896551724138, 0.47368421052631576, 0.5901639344262295, 0.6458333333333334, 1.0, 0.6111111111111112, 0.6730769230769231, 0.6470588235294118, 0.011494252873563218, 0.06422018348623854, 0.6428571428571429, 0.6923076923076923, 0.6666666666666666, 0.6415094339622641, 0.1744186046511628, 0.008620689655172414, 0.56, 0.16964285714285715, 0.6101694915254238, 0.603448275862069, 0.5454545454545454, 0.4146341463414634, 0.7692307692307693, 0.6545454545454545, 0.7346938775510204, 0.4807692307692308, 0.5319148936170213, 0.41304347826086957, 0.6071428571428571, 0.4931506849315068, 0.5483870967741935, 0.2755102040816326, 0.6792452830188679, 0.34285714285714286, 0.5454545454545454]\n",
            "\n",
            "[0.5116279069767442, 0.5185185185185185, 0.10843373493975904, 0.30985915492957744, 0.2716049382716049, 0.01282051282051282, 0.2894736842105263, 0.45454545454545453, 0.375, 0.39285714285714285, 0.16176470588235295, 0.5333333333333333, 0.3492063492063492, 0.41509433962264153, 0.21359223300970873, 0.3333333333333333, 0.3728813559322034, 0.328125, 0.38596491228070173, 0.6176470588235294, 0.43137254901960786, 0.38461538461538464, 0.13513513513513514, 0.007407407407407408, 0.2716049382716049, 0.65625, 0.02, 0.42857142857142855, 0.5, 0.5675675675675675, 0.6666666666666666, 0.2857142857142857, 0.3793103448275862, 0.42, 0.38596491228070173, 0.34615384615384615, 0.3793103448275862, 0.38461538461538464, 0.22784810126582278, 0.01818181818181818, 0.05945945945945946, 0.06976744186046512, 0.5142857142857142, 0.01818181818181818, 0.5405405405405406, 0.30158730158730157, 0.0019305019305019305, 0.2716049382716049, 0.59375, 0.5, 0.12790697674418605, 0.5142857142857142, 0.42105263157894735, 0.019230769230769232, 0.6666666666666666, 0.10869565217391304, 0.20430107526881722, 0.3888888888888889, 0.18556701030927836, 0.5116279069767442, 0.2894736842105263, 0.3188405797101449, 0.38596491228070173, 0.37037037037037035, 0.4, 0.3793103448275862, 0.6153846153846154, 0.36065573770491804, 0.4772727272727273, 0.6111111111111112, 1.0, 0.43137254901960786, 0.4583333333333333, 0.0136986301369863, 0.07368421052631578, 0.5277777777777778, 0.5294117647058824, 0.525, 0.43137254901960786, 0.14473684210526316, 0.00980392156862745, 0.4222222222222222, 0.125, 0.3728813559322034, 0.3620689655172414, 0.3333333333333333, 0.25925925925925924, 0.5714285714285714, 0.4, 0.4489795918367347, 0.4318181818181818, 0.45, 0.45714285714285713, 0.4074074074074074, 0.3013698630136986, 0.3442622950819672, 0.21978021978021978, 0.41509433962264153, 0.20952380952380953, 0.3333333333333333]\n",
            "\n",
            "[0.7407407407407407, 0.37254901960784315, 0.18627450980392157, 0.7183098591549296, 0.6296296296296297, 0.058823529411764705, 0.21875, 0.5, 0.43137254901960786, 0.8135593220338984, 0.2, 0.36363636363636365, 0.8095238095238095, 0.6507936507936508, 0.49514563106796117, 0.647887323943662, 0.8333333333333334, 0.52, 0.8305084745762712, 0.6153846153846154, 0.8214285714285714, 0.7413793103448276, 0.22826086956521738, 0.006097560975609756, 0.5714285714285714, 0.6078431372549019, 0.012658227848101266, 0.6481481481481481, 0.6481481481481481, 0.6111111111111112, 0.6153846153846154, 0.6410256410256411, 0.7868852459016393, 0.7543859649122807, 0.8620689655172413, 0.20754716981132076, 0.8793103448275862, 0.711864406779661, 0.38461538461538464, 0.011904761904761904, 0.1196808510638298, 0.08540925266903915, 0.41379310344827586, 0.011904761904761904, 0.6862745098039216, 0.3058823529411765, 0.009208103130755065, 0.5529411764705883, 0.5686274509803921, 0.6666666666666666, 0.21195652173913043, 0.5769230769230769, 0.45614035087719296, 0.012345679012345678, 0.6153846153846154, 0.14912280701754385, 0.3177570093457944, 0.7049180327868853, 0.2857142857142857, 0.6785714285714286, 0.6710526315789473, 0.7142857142857143, 0.7419354838709677, 0.2692307692307692, 0.8275862068965517, 0.8166666666666667, 0.39215686274509803, 0.8360655737704918, 0.7735849056603774, 0.6730769230769231, 0.43137254901960786, 1.0, 0.8333333333333334, 0.019801980198019802, 0.08264462809917356, 0.6470588235294118, 0.5576923076923077, 0.7307692307692307, 0.7586206896551724, 0.1958762886597938, 0.047619047619047616, 0.576271186440678, 0.19672131147540983, 0.8333333333333334, 0.8, 0.746268656716418, 0.5595238095238095, 0.6153846153846154, 0.8596491228070176, 0.8181818181818182, 0.373134328358209, 0.45, 0.42857142857142855, 0.8103448275862069, 0.6533333333333333, 0.5857142857142857, 0.3592233009708738, 0.7931034482758621, 0.4444444444444444, 0.746268656716418]\n",
            "\n",
            "[0.7843137254901961, 0.3673469387755102, 0.16831683168316833, 0.676056338028169, 0.5925925925925926, 0.06060606060606061, 0.22950819672131148, 0.5789473684210527, 0.42857142857142855, 0.8245614035087719, 0.19318181818181818, 0.4117647058823529, 0.7619047619047619, 0.6833333333333333, 0.46601941747572817, 0.6056338028169014, 0.7833333333333333, 0.5416666666666666, 0.7796610169491526, 0.62, 0.8, 0.7192982456140351, 0.25, 0.006211180124223602, 0.5542168674698795, 0.6122448979591837, 0.013157894736842105, 0.6538461538461539, 0.6538461538461539, 0.6470588235294118, 0.6530612244897959, 0.6025641025641025, 0.7666666666666667, 0.7321428571428571, 0.8421052631578947, 0.19607843137254902, 0.7966101694915254, 0.75, 0.38202247191011235, 0.012345679012345678, 0.11764705882352941, 0.09025270758122744, 0.4107142857142857, 0.012345679012345678, 0.5961538461538461, 0.30120481927710846, 0.009259259259259259, 0.5176470588235295, 0.54, 0.6428571428571429, 0.1956521739130435, 0.58, 0.40350877192982454, 0.01282051282051282, 0.6530612244897959, 0.16363636363636364, 0.3142857142857143, 0.6557377049180327, 0.2818181818181818, 0.7843137254901961, 0.631578947368421, 0.6714285714285714, 0.6935483870967742, 0.3125, 0.7758620689655172, 0.7666666666666667, 0.4166666666666667, 0.7868852459016393, 0.7843137254901961, 0.6470588235294118, 0.4583333333333333, 0.8333333333333334, 1.0, 0.02040816326530612, 0.0847457627118644, 0.5576923076923077, 0.56, 0.6415094339622641, 0.7368421052631579, 0.21505376344086022, 0.04878048780487805, 0.6363636363636364, 0.19166666666666668, 0.7833333333333333, 0.75, 0.7014925373134329, 0.5238095238095238, 0.5882352941176471, 0.8070175438596491, 0.7962962962962963, 0.43548387096774194, 0.5, 0.4, 0.8214285714285714, 0.6133333333333333, 0.5882352941176471, 0.3173076923076923, 0.7413793103448276, 0.4166666666666667, 0.7014925373134329]\n",
            "\n",
            "[0.021505376344086023, 0.014285714285714285, 0.016666666666666666, 0.01652892561983471, 0.015267175572519083, 0.018691588785046728, 0.01282051282051282, 0.010752688172043012, 0.0136986301369863, 0.018867924528301886, 0.018691588785046728, 0.013333333333333334, 0.017699115044247787, 0.019417475728155338, 0.013071895424836602, 0.017241379310344827, 0.01834862385321101, 0.017699115044247787, 0.018691588785046728, 0.011904761904761904, 0.019801980198019802, 0.02, 0.017857142857142856, 0.006060606060606061, 0.05555555555555555, 0.012195121951219513, 0.0125, 0.022727272727272728, 0.022727272727272728, 0.011494252873563218, 0.011904761904761904, 0.015748031496062992, 0.018518518518518517, 0.020202020202020204, 0.018691588785046728, 0.015625, 0.018518518518518517, 0.02, 0.016, 0.011764705882352941, 0.03431372549019608, 0.003278688524590164, 0.012195121951219513, 0.011764705882352941, 0.023529411764705882, 0.009009009009009009, 0.003656307129798903, 0.05555555555555555, 0.0125, 0.010526315789473684, 0.004484304932735426, 0.012195121951219513, 0.012048192771084338, 0.012195121951219513, 0.011904761904761904, 0.4666666666666667, 0.014285714285714285, 0.019417475728155338, 0.006944444444444444, 0.021505376344086023, 0.015873015873015872, 0.01680672268907563, 0.009259259259259259, 0.015151515151515152, 0.01904761904761905, 0.018518518518518517, 0.014084507042253521, 0.018018018018018018, 0.021505376344086023, 0.011494252873563218, 0.0136986301369863, 0.019801980198019802, 0.02040816326530612, 1.0, 0.007633587786259542, 0.011904761904761904, 0.012345679012345678, 0.02247191011235955, 0.019801980198019802, 0.36046511627906974, 0.6419753086419753, 0.021739130434782608, 0.42718446601941745, 0.01834862385321101, 0.018691588785046728, 0.017241379310344827, 0.015384615384615385, 0.011904761904761904, 0.01904761904761905, 0.020202020202020204, 0.010869565217391304, 0.023255813953488372, 0.02531645569620253, 0.019230769230769232, 0.016260162601626018, 0.01818181818181818, 0.1015625, 0.009615384615384616, 0.039735099337748346, 0.017241379310344827]\n",
            "\n",
            "[0.07894736842105263, 0.05319148936170213, 0.1111111111111111, 0.08633093525179857, 0.08053691275167785, 0.0873015873015873, 0.0594059405940594, 0.07964601769911504, 0.05154639175257732, 0.07936507936507936, 0.04580152671755725, 0.061224489795918366, 0.07518796992481203, 0.07258064516129033, 0.10909090909090909, 0.06569343065693431, 0.07751937984496124, 0.08333333333333333, 0.07874015748031496, 0.0660377358490566, 0.08264462809917356, 0.08333333333333333, 0.04411764705882353, 0.0051813471502590676, 0.08053691275167785, 0.0673076923076923, 0.02830188679245283, 0.07272727272727272, 0.08256880733944955, 0.07407407407407407, 0.0660377358490566, 0.08275862068965517, 0.078125, 0.075, 0.07874015748031496, 0.0449438202247191, 0.078125, 0.08333333333333333, 0.09154929577464789, 0.03636363636363636, 0.0514018691588785, 0.021406727828746176, 0.0673076923076923, 0.03636363636363636, 0.07476635514018691, 0.15702479338842976, 0.005226480836236934, 0.07333333333333333, 0.07920792079207921, 0.06896551724137931, 0.037037037037037035, 0.0673076923076923, 0.05660377358490566, 0.12121212121212122, 0.0660377358490566, 0.03896103896103896, 0.06918238993710692, 0.07258064516129033, 0.12337662337662338, 0.07894736842105263, 0.08333333333333333, 0.07194244604316546, 0.07874015748031496, 0.05555555555555555, 0.08, 0.078125, 0.06382978723404255, 0.07633587786259542, 0.08849557522123894, 0.06422018348623854, 0.07368421052631578, 0.08264462809917356, 0.0847457627118644, 0.007633587786259542, 1.0, 0.0761904761904762, 0.06796116504854369, 0.07207207207207207, 0.07377049180327869, 0.058394160583941604, 0.0189873417721519, 0.07017543859649122, 0.05421686746987952, 0.07751937984496124, 0.07874015748031496, 0.07352941176470588, 0.06666666666666667, 0.0660377358490566, 0.08, 0.06611570247933884, 0.08035714285714286, 0.05454545454545454, 0.09, 0.08064516129032258, 0.06993006993006994, 0.06870229007633588, 0.12666666666666668, 0.064, 0.09467455621301775, 0.06569343065693431]\n",
            "\n",
            "[0.52, 0.5294117647058824, 0.13186813186813187, 0.4647887323943662, 0.4074074074074074, 0.011235955056179775, 0.2765957446808511, 0.47058823529411764, 0.4473684210526316, 0.5084745762711864, 0.16883116883116883, 0.425, 0.5238095238095238, 0.4827586206896552, 0.32038834951456313, 0.43478260869565216, 0.559322033898305, 0.391304347826087, 0.5517241379310345, 0.65, 0.5555555555555556, 0.5961538461538461, 0.14457831325301204, 0.00684931506849315, 0.3902439024390244, 0.7297297297297297, 0.01639344262295082, 0.6136363636363636, 0.5106382978723404, 0.6046511627906976, 0.6097560975609756, 0.41025641025641024, 0.5166666666666667, 0.5769230769230769, 0.5789473684210527, 0.2777777777777778, 0.5689655172413793, 0.5370370370370371, 0.2857142857142857, 0.015151515151515152, 0.08333333333333333, 0.08712121212121213, 0.5238095238095238, 0.015151515151515152, 0.9428571428571428, 0.36764705882352944, 0.001890359168241966, 0.4074074074074074, 0.7714285714285715, 0.6041666666666666, 0.17142857142857143, 0.6842105263157895, 0.5853658536585366, 0.015873015873015872, 0.6097560975609756, 0.1188118811881188, 0.28125, 0.5925925925925926, 0.2857142857142857, 0.5510204081632653, 0.4342105263157895, 0.45714285714285713, 0.5517241379310345, 0.3333333333333333, 0.6, 0.5689655172413793, 0.4722222222222222, 0.5409836065573771, 0.5833333333333334, 0.6428571428571429, 0.5277777777777778, 0.6470588235294118, 0.5576923076923077, 0.011904761904761904, 0.0761904761904762, 1.0, 0.6578947368421053, 0.6, 0.6153846153846154, 0.16666666666666666, 0.008849557522123894, 0.5, 0.1743119266055046, 0.559322033898305, 0.5254237288135594, 0.47761194029850745, 0.3780487804878049, 0.6097560975609756, 0.6, 0.6078431372549019, 0.37037037037037035, 0.4375, 0.4418604651162791, 0.5535714285714286, 0.43243243243243246, 0.5, 0.2978723404255319, 0.6226415094339622, 0.3142857142857143, 0.5]\n",
            "\n",
            "[0.5208333333333334, 0.48484848484848486, 0.13636363636363635, 0.4225352112676056, 0.37037037037037035, 0.011627906976744186, 0.29545454545454547, 0.5319148936170213, 0.40540540540540543, 0.5087719298245614, 0.16, 0.5, 0.47619047619047616, 0.45614035087719296, 0.2912621359223301, 0.4117647058823529, 0.48333333333333334, 0.3880597014925373, 0.5, 0.6153846153846154, 0.5576923076923077, 0.5686274509803921, 0.16455696202531644, 0.006993006993006993, 0.37037037037037035, 0.6486486486486487, 0.017241379310344827, 0.44680851063829785, 0.44680851063829785, 0.6097560975609756, 0.5365853658536586, 0.38961038961038963, 0.5172413793103449, 0.58, 0.5, 0.34375, 0.5172413793103449, 0.48148148148148145, 0.3291139240506329, 0.015873015873015872, 0.06951871657754011, 0.07984790874524715, 0.6052631578947368, 0.015873015873015872, 0.625, 0.34328358208955223, 0.0019011406844106464, 0.35365853658536583, 0.7352941176470589, 0.5416666666666666, 0.14772727272727273, 0.967741935483871, 0.5121951219512195, 0.016666666666666666, 0.6578947368421053, 0.12244897959183673, 0.23711340206185566, 0.43103448275862066, 0.28125, 0.5208333333333334, 0.39473684210526316, 0.43478260869565216, 0.5, 0.40625, 0.5454545454545454, 0.4915254237288136, 0.5151515151515151, 0.4918032786885246, 0.6222222222222222, 0.6923076923076923, 0.5294117647058824, 0.5576923076923077, 0.56, 0.012345679012345678, 0.06796116504854369, 0.6578947368421053, 1.0, 0.6046511627906976, 0.5283018867924528, 0.1875, 0.00909090909090909, 0.5, 0.1792452830188679, 0.48333333333333334, 0.4745762711864407, 0.45454545454545453, 0.34146341463414637, 0.5365853658536586, 0.5178571428571429, 0.58, 0.4489795918367347, 0.4666666666666667, 0.40476190476190477, 0.5272727272727272, 0.3918918918918919, 0.45161290322580644, 0.23958333333333334, 0.5660377358490566, 0.2857142857142857, 0.45454545454545453]\n",
            "\n",
            "[0.673469387755102, 0.38095238095238093, 0.18478260869565216, 0.5492957746478874, 0.48148148148148145, 0.06666666666666667, 0.24528301886792453, 0.5, 0.2978723404255319, 0.6101694915254238, 0.23076923076923078, 0.4318181818181818, 0.59375, 0.5333333333333333, 0.3786407766990291, 0.5, 0.6610169491525424, 0.43661971830985913, 0.6551724137931034, 0.6, 0.6981132075471698, 0.6481481481481481, 0.21686746987951808, 0.006578947368421052, 0.4457831325301205, 0.5909090909090909, 0.014925373134328358, 0.5714285714285714, 0.6041666666666666, 0.5625, 0.5319148936170213, 0.48717948717948717, 0.6166666666666667, 0.7254901960784313, 0.6271186440677966, 0.2682926829268293, 0.6724137931034483, 0.6181818181818182, 0.37349397590361444, 0.013888888888888888, 0.09651474530831099, 0.08518518518518518, 0.5217391304347826, 0.013888888888888888, 0.6444444444444445, 0.3561643835616438, 0.009416195856873822, 0.4117647058823529, 0.6585365853658537, 0.66, 0.192090395480226, 0.627906976744186, 0.4489795918367347, 0.014492753623188406, 0.6744186046511628, 0.16666666666666666, 0.2647058823529412, 0.6428571428571429, 0.2571428571428571, 0.673469387755102, 0.5131578947368421, 0.5428571428571428, 0.5737704918032787, 0.35, 0.6206896551724138, 0.6724137931034483, 0.43902439024390244, 0.639344262295082, 0.673469387755102, 0.6666666666666666, 0.525, 0.7307692307692307, 0.6415094339622641, 0.02247191011235955, 0.07207207207207207, 0.6, 0.6046511627906976, 1.0, 0.6666666666666666, 0.2235294117647059, 0.05263157894736842, 0.5576923076923077, 0.21818181818181817, 0.6610169491525424, 0.6, 0.5671641791044776, 0.43373493975903615, 0.6, 0.7090909090909091, 0.6296296296296297, 0.3793103448275862, 0.5, 0.4166666666666667, 0.6607142857142857, 0.5135135135135135, 0.5230769230769231, 0.30612244897959184, 0.5862068965517241, 0.3333333333333333, 0.5909090909090909]\n",
            "\n",
            "[0.6785714285714286, 0.37254901960784315, 0.19801980198019803, 0.6944444444444444, 0.6097560975609756, 0.08, 0.21875, 0.5245901639344263, 0.40384615384615385, 0.7833333333333333, 0.2413793103448276, 0.36363636363636365, 0.7272727272727273, 0.6774193548387096, 0.4807692307692308, 0.56, 0.8333333333333334, 0.5405405405405406, 0.8, 0.5555555555555556, 0.7586206896551724, 0.7719298245614035, 0.25555555555555554, 0.006097560975609756, 0.5714285714285714, 0.5769230769230769, 0.012658227848101266, 0.6792452830188679, 0.6481481481481481, 0.6111111111111112, 0.6153846153846154, 0.620253164556962, 0.7580645161290323, 0.7857142857142857, 0.7704918032786885, 0.20754716981132076, 0.8166666666666667, 0.7719298245614035, 0.4157303370786517, 0.011904761904761904, 0.12266666666666666, 0.08540925266903915, 0.4909090909090909, 0.011904761904761904, 0.6538461538461539, 0.32142857142857145, 0.012939001848428836, 0.5172413793103449, 0.5384615384615384, 0.6964285714285714, 0.21195652173913043, 0.5471698113207547, 0.43103448275862066, 0.012345679012345678, 0.5849056603773585, 0.19090909090909092, 0.330188679245283, 0.7333333333333333, 0.3211009174311927, 0.8076923076923077, 0.6493506493506493, 0.6901408450704225, 0.6615384615384615, 0.2692307692307692, 0.7966101694915254, 0.847457627118644, 0.33962264150943394, 0.8360655737704918, 0.6206896551724138, 0.6415094339622641, 0.43137254901960786, 0.7586206896551724, 0.7368421052631579, 0.019801980198019802, 0.07377049180327869, 0.6153846153846154, 0.5283018867924528, 0.6666666666666666, 1.0, 0.23404255319148937, 0.07317073170731707, 0.576271186440678, 0.23728813559322035, 0.8333333333333334, 0.8, 0.746268656716418, 0.5783132530120482, 0.6153846153846154, 0.8596491228070176, 0.7857142857142857, 0.4375, 0.4745762711864407, 0.42857142857142855, 0.8421052631578947, 0.6533333333333333, 0.6818181818181818, 0.3592233009708738, 0.7333333333333333, 0.43119266055045874, 0.7205882352941176]\n",
            "\n",
            "[0.22727272727272727, 0.13513513513513514, 0.20535714285714285, 0.25925925925925924, 0.2920353982300885, 0.12962962962962962, 0.10843373493975904, 0.18888888888888888, 0.11538461538461539, 0.2604166666666667, 0.17307692307692307, 0.15584415584415584, 0.20754716981132076, 0.2553191489361702, 0.23529411764705882, 0.1592920353982301, 0.25252525252525254, 0.30612244897959184, 0.24489795918367346, 0.16666666666666666, 0.23404255319148937, 0.2777777777777778, 0.15454545454545454, 0.0056179775280898875, 0.23728813559322035, 0.17073170731707318, 0.09302325581395349, 0.19767441860465115, 0.19767441860465115, 0.16091954022988506, 0.13953488372093023, 0.30275229357798167, 0.25510204081632654, 0.2391304347826087, 0.22, 0.09859154929577464, 0.24242424242424243, 0.25, 0.21739130434782608, 0.01020408163265306, 0.0875, 0.042483660130718956, 0.1566265060240964, 0.01020408163265306, 0.17647058823529413, 0.1792452830188679, 0.0162748643761302, 0.19672131147540983, 0.175, 0.1978021978021978, 0.0871559633027523, 0.18518518518518517, 0.1411764705882353, 0.07865168539325842, 0.15294117647058825, 0.5104166666666666, 0.13970588235294118, 0.24210526315789474, 0.1791044776119403, 0.2558139534883721, 0.25892857142857145, 0.22935779816513763, 0.18446601941747573, 0.0958904109589041, 0.22448979591836735, 0.25510204081632654, 0.14864864864864866, 0.24752475247524752, 0.2413793103448276, 0.1744186046511628, 0.14473684210526316, 0.1958762886597938, 0.21505376344086022, 0.36046511627906974, 0.058394160583941604, 0.16666666666666666, 0.1875, 0.2235294117647059, 0.23404255319148937, 1.0, 0.43137254901960786, 0.17582417582417584, 0.6494845360824743, 0.25252525252525254, 0.25773195876288657, 0.2358490566037736, 0.19834710743801653, 0.16666666666666666, 0.23711340206185566, 0.1875, 0.19101123595505617, 0.18823529411764706, 0.16049382716049382, 0.25263157894736843, 0.2, 0.20192307692307693, 0.1937984496124031, 0.14563106796116504, 0.1643835616438356, 0.2018348623853211]\n",
            "\n",
            "[0.05982905982905983, 0.010101010101010102, 0.08633093525179857, 0.07801418439716312, 0.08, 0.08661417322834646, 0.009345794392523364, 0.00819672131147541, 0.00980392156862745, 0.0873015873015873, 0.09523809523809523, 0.009615384615384616, 0.06666666666666667, 0.08943089430894309, 0.06358381502890173, 0.035211267605633804, 0.08527131782945736, 0.09090909090909091, 0.078125, 0.008849557522123894, 0.06451612903225806, 0.09166666666666666, 0.07518796992481203, 0.005154639175257732, 0.0945945945945946, 0.009009009009009009, 0.009174311926605505, 0.05309734513274336, 0.05309734513274336, 0.008620689655172414, 0.008849557522123894, 0.0821917808219178, 0.0859375, 0.06557377049180328, 0.06153846153846154, 0.010752688172043012, 0.07751937984496124, 0.09166666666666666, 0.07586206896551724, 0.008771929824561403, 0.05620608899297424, 0.0029940119760479044, 0.027522935779816515, 0.008771929824561403, 0.017543859649122806, 0.007142857142857143, 0.015817223198594025, 0.06578947368421052, 0.009174311926605505, 0.041666666666666664, 0.020161290322580645, 0.009009009009009009, 0.008928571428571428, 0.009009009009009009, 0.008849557522123894, 0.594059405940594, 0.030120481927710843, 0.08064516129032258, 0.017543859649122806, 0.06896551724137931, 0.08275862068965517, 0.07913669064748201, 0.03759398496240601, 0.010526315789473684, 0.0625, 0.0859375, 0.01, 0.09230769230769231, 0.05982905982905983, 0.008620689655172414, 0.00980392156862745, 0.047619047619047616, 0.04878048780487805, 0.6419753086419753, 0.0189873417721519, 0.008849557522123894, 0.00909090909090909, 0.05263157894736842, 0.07317073170731707, 0.43137254901960786, 1.0, 0.025, 0.6, 0.08527131782945736, 0.09523809523809523, 0.08888888888888889, 0.07333333333333333, 0.008849557522123894, 0.07086614173228346, 0.031746031746031744, 0.016666666666666666, 0.02631578947368421, 0.03773584905660377, 0.08, 0.06944444444444445, 0.05223880597014925, 0.1038961038961039, 0.015151515151515152, 0.06285714285714286, 0.06521739130434782]\n",
            "\n",
            "[0.6346153846153846, 0.35555555555555557, 0.14285714285714285, 0.4675324675324675, 0.41379310344827586, 0.03125, 0.2545454545454545, 0.5272727272727272, 0.3617021276595745, 0.5806451612903226, 0.16470588235294117, 0.4666666666666667, 0.5217391304347826, 0.5079365079365079, 0.3302752293577982, 0.4594594594594595, 0.5538461538461539, 0.3815789473684211, 0.5714285714285714, 0.5306122448979592, 0.603448275862069, 0.5333333333333333, 0.19540229885057472, 0.0064516129032258064, 0.3977272727272727, 0.5531914893617021, 0.014285714285714285, 0.5686274509803921, 0.5094339622641509, 0.56, 0.5957446808510638, 0.43373493975903615, 0.5384615384615384, 0.5689655172413793, 0.546875, 0.2222222222222222, 0.5384615384615384, 0.5862068965517241, 0.32954545454545453, 0.013333333333333334, 0.09283819628647215, 0.08823529411764706, 0.5208333333333334, 0.013333333333333334, 0.5098039215686274, 0.3076923076923077, 0.0037243947858473, 0.38202247191011235, 0.5434782608695652, 0.5357142857142857, 0.15053763440860216, 0.4897959183673469, 0.4230769230769231, 0.013888888888888888, 0.5957446808510638, 0.14018691588785046, 0.29411764705882354, 0.5573770491803278, 0.25, 0.6346153846153846, 0.4567901234567901, 0.48, 0.5, 0.35714285714285715, 0.515625, 0.5625, 0.37777777777777777, 0.5373134328358209, 0.5454545454545454, 0.56, 0.4222222222222222, 0.576271186440678, 0.6363636363636364, 0.021739130434782608, 0.07017543859649122, 0.5, 0.5, 0.5576923076923077, 0.576271186440678, 0.17582417582417584, 0.025, 1.0, 0.15126050420168066, 0.5538461538461539, 0.5230769230769231, 0.5, 0.40229885057471265, 0.5625, 0.5901639344262295, 0.625, 0.4067796610169492, 0.41818181818181815, 0.39215686274509803, 0.6, 0.45569620253164556, 0.4782608695652174, 0.28431372549019607, 0.5573770491803278, 0.32432432432432434, 0.5]\n",
            "\n",
            "[0.2, 0.11764705882352941, 0.17857142857142858, 0.24812030075187969, 0.26618705035971224, 0.10144927536231885, 0.0990990990990991, 0.17094017094017094, 0.08333333333333333, 0.22764227642276422, 0.15151515151515152, 0.12264150943396226, 0.2153846153846154, 0.2231404958677686, 0.22981366459627328, 0.16666666666666666, 0.24193548387096775, 0.25396825396825395, 0.23577235772357724, 0.15315315315315314, 0.21666666666666667, 0.2608695652173913, 0.12949640287769784, 0.004807692307692308, 0.2222222222222222, 0.1559633027522936, 0.06896551724137931, 0.1981981981981982, 0.1981981981981982, 0.1592920353982301, 0.13274336283185842, 0.2740740740740741, 0.24390243902439024, 0.22033898305084745, 0.216, 0.08, 0.23387096774193547, 0.2288135593220339, 0.1888111888111888, 0.0078125, 0.09929078014184398, 0.04804804804804805, 0.1559633027522936, 0.0078125, 0.18181818181818182, 0.17424242424242425, 0.015437392795883362, 0.19727891156462585, 0.16981132075471697, 0.18803418803418803, 0.09876543209876543, 0.17757009345794392, 0.14414414414414414, 0.058823529411764705, 0.15315315315315314, 0.5909090909090909, 0.12804878048780488, 0.23333333333333334, 0.175, 0.22123893805309736, 0.2391304347826087, 0.22388059701492538, 0.1875, 0.0891089108910891, 0.21951219512195122, 0.24390243902439024, 0.11650485436893204, 0.248, 0.21052631578947367, 0.16964285714285715, 0.125, 0.19672131147540983, 0.19166666666666668, 0.42718446601941745, 0.05421686746987952, 0.1743119266055046, 0.1792452830188679, 0.21818181818181817, 0.23728813559322035, 0.6494845360824743, 0.6, 0.15126050420168066, 1.0, 0.24193548387096775, 0.2459016393442623, 0.23846153846153847, 0.20689655172413793, 0.15315315315315314, 0.22950819672131148, 0.18032786885245902, 0.1826086956521739, 0.14912280701754385, 0.14814814814814814, 0.24166666666666667, 0.20863309352517986, 0.20155038759689922, 0.21052631578947367, 0.16535433070866143, 0.17647058823529413, 0.21052631578947367]\n",
            "\n",
            "[0.7288135593220338, 0.3220338983050847, 0.22857142857142856, 0.8309859154929577, 0.7283950617283951, 0.10476190476190476, 0.19444444444444445, 0.4852941176470588, 0.35, 0.9166666666666666, 0.24731182795698925, 0.3387096774193548, 0.8484848484848485, 0.7230769230769231, 0.5576923076923077, 0.6233766233766234, 0.9666666666666667, 0.5844155844155844, 0.9333333333333333, 0.5333333333333333, 0.8333333333333334, 0.8166666666666667, 0.2736842105263158, 0.005813953488372093, 0.6091954022988506, 0.5254237288135594, 0.011494252873563218, 0.6166666666666667, 0.5901639344262295, 0.5573770491803278, 0.559322033898305, 0.7215189873417721, 0.9180327868852459, 0.8305084745762712, 0.8709677419354839, 0.18032786885245902, 0.9180327868852459, 0.8166666666666667, 0.45652173913043476, 0.010869565217391304, 0.13793103448275862, 0.08680555555555555, 0.42857142857142855, 0.010869565217391304, 0.5932203389830508, 0.29347826086956524, 0.016453382084095063, 0.5384615384615384, 0.4666666666666667, 0.6612903225806451, 0.22872340425531915, 0.5, 0.421875, 0.011235955056179775, 0.559322033898305, 0.19827586206896552, 0.34234234234234234, 0.8064516129032258, 0.29914529914529914, 0.7288135593220338, 0.7763157894736842, 0.8028169014084507, 0.7575757575757576, 0.2542372881355932, 0.8688524590163934, 0.95, 0.31666666666666665, 0.9354838709677419, 0.7, 0.6101694915254238, 0.3728813559322034, 0.8333333333333334, 0.7833333333333333, 0.01834862385321101, 0.07751937984496124, 0.559322033898305, 0.48333333333333334, 0.6610169491525424, 0.8333333333333334, 0.25252525252525254, 0.08527131782945736, 0.5538461538461539, 0.24193548387096775, 1.0, 0.9016393442622951, 0.8382352941176471, 0.6352941176470588, 0.559322033898305, 0.9322033898305084, 0.8305084745762712, 0.3698630136986301, 0.417910447761194, 0.3968253968253968, 0.9152542372881356, 0.7142857142857143, 0.676056338028169, 0.3577981651376147, 0.7777777777777778, 0.4642857142857143, 0.8115942028985508]\n",
            "\n",
            "[0.6949152542372882, 0.3103448275862069, 0.20952380952380953, 0.7777777777777778, 0.6829268292682927, 0.10679611650485436, 0.18309859154929578, 0.45588235294117646, 0.38596491228070173, 0.8833333333333333, 0.26666666666666666, 0.32786885245901637, 0.8181818181818182, 0.6923076923076923, 0.5238095238095238, 0.5974025974025974, 0.8709677419354839, 0.5384615384615384, 0.8688524590163934, 0.5517241379310345, 0.8, 0.8448275862068966, 0.27956989247311825, 0.0058823529411764705, 0.5681818181818182, 0.5172413793103449, 0.011764705882352941, 0.6379310344827587, 0.6101694915254238, 0.576271186440678, 0.5517241379310345, 0.6962025316455697, 0.8852459016393442, 0.7666666666666667, 0.8387096774193549, 0.14754098360655737, 0.8852459016393442, 0.8135593220338984, 0.45054945054945056, 0.011111111111111112, 0.12962962962962962, 0.0798611111111111, 0.3968253968253968, 0.011111111111111112, 0.559322033898305, 0.25806451612903225, 0.01651376146788991, 0.5, 0.43333333333333335, 0.578125, 0.20526315789473684, 0.4666666666666667, 0.36923076923076925, 0.011494252873563218, 0.5254237288135594, 0.21238938053097345, 0.3486238532110092, 0.746031746031746, 0.29310344827586204, 0.7241379310344828, 0.7272727272727273, 0.7746478873239436, 0.7014925373134329, 0.2413793103448276, 0.8360655737704918, 0.8548387096774194, 0.3508771929824561, 0.9032258064516129, 0.7241379310344828, 0.603448275862069, 0.3620689655172414, 0.8, 0.75, 0.018691588785046728, 0.07874015748031496, 0.5254237288135594, 0.4745762711864407, 0.6, 0.8, 0.25773195876288657, 0.09523809523809523, 0.5230769230769231, 0.2459016393442623, 0.9016393442622951, 1.0, 0.835820895522388, 0.611764705882353, 0.5789473684210527, 0.8360655737704918, 0.7666666666666667, 0.38028169014084506, 0.4090909090909091, 0.36507936507936506, 0.85, 0.6883116883116883, 0.6027397260273972, 0.32727272727272727, 0.746031746031746, 0.44642857142857145, 0.782608695652174]\n",
            "\n",
            "[0.6515151515151515, 0.2878787878787879, 0.21428571428571427, 0.7792207792207793, 0.6896551724137931, 0.09821428571428571, 0.17721518987341772, 0.4594594594594595, 0.3333333333333333, 0.8484848484848485, 0.24242424242424243, 0.30434782608695654, 0.8169014084507042, 0.7761194029850746, 0.5504587155963303, 0.6296296296296297, 0.8656716417910447, 0.5357142857142857, 0.8636363636363636, 0.5, 0.7727272727272727, 0.7575757575757576, 0.26732673267326734, 0.00558659217877095, 0.5978260869565217, 0.4696969696969697, 0.010638297872340425, 0.5757575757575758, 0.5522388059701493, 0.5454545454545454, 0.5, 0.7023809523809523, 0.8507462686567164, 0.7164179104477612, 0.835820895522388, 0.16176470588235295, 0.8507462686567164, 0.7313432835820896, 0.42424242424242425, 0.010101010101010102, 0.13838120104438642, 0.0847457627118644, 0.38571428571428573, 0.010101010101010102, 0.5074626865671642, 0.26, 0.016245487364620937, 0.53125, 0.417910447761194, 0.5714285714285714, 0.2205128205128205, 0.44776119402985076, 0.38028169014084506, 0.010416666666666666, 0.5, 0.19672131147540983, 0.3220338983050847, 0.7761194029850746, 0.28225806451612906, 0.6515151515151515, 0.8205128205128205, 0.9285714285714286, 0.8636363636363636, 0.22727272727272727, 0.7794117647058824, 0.8507462686567164, 0.30303030303030304, 0.8955223880597015, 0.6515151515151515, 0.5454545454545454, 0.3333333333333333, 0.746268656716418, 0.7014925373134329, 0.017241379310344827, 0.07352941176470588, 0.47761194029850745, 0.45454545454545453, 0.5671641791044776, 0.746268656716418, 0.2358490566037736, 0.08888888888888889, 0.5, 0.23846153846153847, 0.8382352941176471, 0.835820895522388, 1.0, 0.6590909090909091, 0.5, 0.8059701492537313, 0.7424242424242424, 0.35443037974683544, 0.36, 0.35714285714285715, 0.8181818181818182, 0.759493670886076, 0.6153846153846154, 0.33620689655172414, 0.75, 0.48695652173913045, 0.7837837837837838]\n",
            "\n",
            "[0.5, 0.2222222222222222, 0.18110236220472442, 0.6413043478260869, 0.5784313725490197, 0.07874015748031496, 0.18888888888888888, 0.35555555555555557, 0.25925925925925924, 0.6190476190476191, 0.20175438596491227, 0.2839506172839506, 0.6627906976744186, 0.5465116279069767, 0.6788990825688074, 0.7380952380952381, 0.6547619047619048, 0.4444444444444444, 0.6506024096385542, 0.3614457831325301, 0.5975609756097561, 0.5476190476190477, 0.22413793103448276, 0.0051813471502590676, 0.45045045045045046, 0.35365853658536583, 0.009259259259259259, 0.4567901234567901, 0.4567901234567901, 0.4146341463414634, 0.3950617283950617, 0.5544554455445545, 0.6235294117647059, 0.5357142857142857, 0.611764705882353, 0.1625, 0.6235294117647059, 0.5476190476190477, 0.34782608695652173, 0.008849557522123894, 0.13350125944584382, 0.07741935483870968, 0.3058823529411765, 0.008849557522123894, 0.4024390243902439, 0.21739130434782608, 0.014059753954305799, 0.45045045045045046, 0.3132530120481928, 0.4588235294117647, 0.2, 0.3373493975903614, 0.3493975903614458, 0.00909090909090909, 0.3780487804878049, 0.1678832116788321, 0.26865671641791045, 0.5833333333333334, 0.2536231884057971, 0.5, 0.625, 0.6195652173913043, 0.5930232558139535, 0.1875, 0.5697674418604651, 0.6428571428571429, 0.2345679012345679, 0.6588235294117647, 0.4819277108433735, 0.4146341463414634, 0.25925925925925924, 0.5595238095238095, 0.5238095238095238, 0.015384615384615385, 0.06666666666666667, 0.3780487804878049, 0.34146341463414637, 0.43373493975903615, 0.5783132530120482, 0.19834710743801653, 0.07333333333333333, 0.40229885057471265, 0.20689655172413793, 0.6352941176470588, 0.611764705882353, 0.6590909090909091, 1.0, 0.4125, 0.6071428571428571, 0.573170731707317, 0.3595505617977528, 0.3488372093023256, 0.2976190476190476, 0.6144578313253012, 0.6451612903225806, 0.5730337078651685, 0.3203125, 0.5647058823529412, 0.43410852713178294, 0.6043956043956044]\n",
            "\n",
            "[0.6170212765957447, 0.40540540540540543, 0.11956521739130435, 0.4647887323943662, 0.4074074074074074, 0.011235955056179775, 0.25, 0.5625, 0.4473684210526316, 0.5614035087719298, 0.16883116883116883, 0.5405405405405406, 0.5238095238095238, 0.5087719298245614, 0.32038834951456313, 0.47761194029850745, 0.559322033898305, 0.4117647058823529, 0.5789473684210527, 0.6923076923076923, 0.5849056603773585, 0.509090909090909, 0.1728395061728395, 0.00684931506849315, 0.3902439024390244, 0.7297297297297297, 0.01639344262295082, 0.6511627906976745, 0.6136363636363636, 0.6428571428571429, 0.7368421052631579, 0.42857142857142855, 0.5423728813559322, 0.5185185185185185, 0.5789473684210527, 0.24324324324324326, 0.5689655172413793, 0.509090909090909, 0.3333333333333333, 0.015151515151515152, 0.08333333333333333, 0.0830188679245283, 0.45454545454545453, 0.015151515151515152, 0.6190476190476191, 0.30985915492957744, 0.001890359168241966, 0.4074074074074074, 0.55, 0.5098039215686274, 0.17142857142857143, 0.5238095238095238, 0.4772727272727273, 0.015873015873015872, 0.65, 0.13, 0.29473684210526313, 0.5636363636363636, 0.26, 0.6170212765957447, 0.4342105263157895, 0.4782608695652174, 0.5517241379310345, 0.37142857142857144, 0.5714285714285714, 0.5689655172413793, 0.5142857142857142, 0.5409836065573771, 0.52, 0.7692307692307693, 0.5714285714285714, 0.6153846153846154, 0.5882352941176471, 0.011904761904761904, 0.0660377358490566, 0.6097560975609756, 0.5365853658536586, 0.6, 0.6153846153846154, 0.16666666666666666, 0.008849557522123894, 0.5625, 0.15315315315315314, 0.559322033898305, 0.5789473684210527, 0.5, 0.4125, 1.0, 0.6, 0.64, 0.48, 0.5, 0.4418604651162791, 0.5535714285714286, 0.4520547945205479, 0.5, 0.28421052631578947, 0.6226415094339622, 0.3142857142857143, 0.5]\n",
            "\n",
            "[0.7192982456140351, 0.34545454545454546, 0.21359223300970873, 0.7746478873239436, 0.6790123456790124, 0.08737864077669903, 0.20588235294117646, 0.515625, 0.375, 0.8813559322033898, 0.23076923076923078, 0.3620689655172414, 0.7878787878787878, 0.7142857142857143, 0.5339805825242718, 0.6351351351351351, 0.9322033898305084, 0.5733333333333334, 0.8983050847457628, 0.5714285714285714, 0.8596491228070176, 0.8103448275862069, 0.2717391304347826, 0.005952380952380952, 0.6385542168674698, 0.5636363636363636, 0.012048192771084338, 0.6607142857142857, 0.631578947368421, 0.5964912280701754, 0.6, 0.6923076923076923, 0.8524590163934426, 0.7931034482758621, 0.8983050847457628, 0.19298245614035087, 0.8833333333333333, 0.7796610169491526, 0.4444444444444444, 0.011363636363636364, 0.13333333333333333, 0.0880281690140845, 0.4576271186440678, 0.011363636363636364, 0.6363636363636364, 0.3068181818181818, 0.014705882352941176, 0.5454545454545454, 0.5, 0.7068965517241379, 0.22043010752688172, 0.5357142857142857, 0.45, 0.011764705882352941, 0.6, 0.18421052631578946, 0.3425925925925926, 0.8, 0.30973451327433627, 0.7818181818181819, 0.7236842105263158, 0.7714285714285715, 0.75, 0.2727272727272727, 0.8333333333333334, 0.9482758620689655, 0.3157894736842105, 0.9016393442622951, 0.7192982456140351, 0.6545454545454545, 0.4, 0.8596491228070176, 0.8070175438596491, 0.01904761904761905, 0.08, 0.6, 0.5178571428571429, 0.7090909090909091, 0.8596491228070176, 0.23711340206185566, 0.07086614173228346, 0.5901639344262295, 0.22950819672131148, 0.9322033898305084, 0.8360655737704918, 0.8059701492537313, 0.6071428571428571, 0.6, 1.0, 0.8245614035087719, 0.391304347826087, 0.4444444444444444, 0.4, 0.9122807017543859, 0.7066666666666667, 0.6666666666666666, 0.37142857142857144, 0.7704918032786885, 0.45454545454545453, 0.7794117647058824]\n",
            "\n",
            "[0.7692307692307693, 0.36, 0.16666666666666666, 0.6901408450704225, 0.6049382716049383, 0.0392156862745098, 0.22580645161290322, 0.5689655172413793, 0.42, 0.8421052631578947, 0.16483516483516483, 0.40384615384615385, 0.7777777777777778, 0.6451612903225806, 0.47572815533980584, 0.6428571428571429, 0.8305084745762712, 0.5135135135135135, 0.8596491228070176, 0.64, 0.8181818181818182, 0.7068965517241379, 0.20652173913043478, 0.006172839506172839, 0.5662650602409639, 0.6326530612244898, 0.012987012987012988, 0.6415094339622641, 0.6111111111111112, 0.6666666666666666, 0.673469387755102, 0.6363636363636364, 0.7833333333333333, 0.8148148148148148, 0.7966101694915254, 0.21568627450980393, 0.8135593220338984, 0.7368421052631579, 0.39325842696629215, 0.012195121951219513, 0.11733333333333333, 0.08992805755395683, 0.45454545454545453, 0.012195121951219513, 0.6470588235294118, 0.3132530120481928, 0.0055248618784530384, 0.5476190476190477, 0.5294117647058824, 0.6607142857142857, 0.20765027322404372, 0.5686274509803921, 0.4727272727272727, 0.012658227848101266, 0.673469387755102, 0.1415929203539823, 0.33653846153846156, 0.7, 0.30275229357798167, 0.7037037037037037, 0.6447368421052632, 0.7101449275362319, 0.7666666666666667, 0.30612244897959184, 0.7627118644067796, 0.8135593220338984, 0.38, 0.8032786885245902, 0.7037037037037037, 0.7346938775510204, 0.4489795918367347, 0.8181818181818182, 0.7962962962962963, 0.020202020202020204, 0.06611570247933884, 0.6078431372549019, 0.58, 0.6296296296296297, 0.7857142857142857, 0.1875, 0.031746031746031744, 0.625, 0.18032786885245902, 0.8305084745762712, 0.7666666666666667, 0.7424242424242424, 0.573170731707317, 0.64, 0.8245614035087719, 1.0, 0.42857142857142855, 0.46551724137931033, 0.41818181818181815, 0.8392857142857143, 0.6712328767123288, 0.6268656716417911, 0.33980582524271846, 0.8214285714285714, 0.4392523364485981, 0.7164179104477612]\n",
            "\n",
            "[0.423728813559322, 0.30434782608695654, 0.15625, 0.4177215189873418, 0.3707865168539326, 0.0425531914893617, 0.3076923076923077, 0.509090909090909, 0.2857142857142857, 0.38571428571428573, 0.12643678160919541, 0.4444444444444444, 0.38666666666666666, 0.38235294117647056, 0.34579439252336447, 0.40789473684210525, 0.3698630136986301, 0.38666666666666666, 0.38028169014084506, 0.4230769230769231, 0.4153846153846154, 0.3582089552238806, 0.13186813186813187, 0.006493506493506494, 0.28421052631578947, 0.44, 0.06060606060606061, 0.3620689655172414, 0.46296296296296297, 0.4807692307692308, 0.48, 0.37209302325581395, 0.375, 0.38461538461538464, 0.38028169014084506, 0.2, 0.375, 0.3787878787878788, 0.24731182795698925, 0.013513513513513514, 0.0731070496083551, 0.06884057971014493, 0.38461538461538464, 0.013513513513513514, 0.35714285714285715, 0.2948717948717949, 0.00186219739292365, 0.2978723404255319, 0.4, 0.4166666666666667, 0.12698412698412698, 0.44, 0.35185185185185186, 0.058823529411764705, 0.45098039215686275, 0.12037037037037036, 0.22429906542056074, 0.34285714285714286, 0.24074074074074073, 0.4482758620689655, 0.3764705882352941, 0.34146341463414637, 0.38028169014084506, 0.2727272727272727, 0.37142857142857144, 0.375, 0.35555555555555557, 0.3783783783783784, 0.4, 0.4807692307692308, 0.4318181818181818, 0.373134328358209, 0.43548387096774194, 0.010869565217391304, 0.08035714285714286, 0.37037037037037035, 0.4489795918367347, 0.3793103448275862, 0.4375, 0.19101123595505617, 0.016666666666666666, 0.4067796610169492, 0.1826086956521739, 0.3698630136986301, 0.38028169014084506, 0.35443037974683544, 0.3595505617977528, 0.48, 0.391304347826087, 0.42857142857142855, 1.0, 0.5714285714285714, 0.34615384615384615, 0.39705882352941174, 0.425, 0.463768115942029, 0.2621359223300971, 0.42424242424242425, 0.32727272727272727, 0.35443037974683544]\n",
            "\n",
            "[0.49056603773584906, 0.34146341463414637, 0.10416666666666667, 0.3717948717948718, 0.32954545454545453, 0.03333333333333333, 0.26, 0.39285714285714285, 0.3488372093023256, 0.4153846153846154, 0.14814814814814814, 0.4634146341463415, 0.39436619718309857, 0.4126984126984127, 0.29906542056074764, 0.4166666666666667, 0.417910447761194, 0.3561643835616438, 0.4090909090909091, 0.4375, 0.45, 0.4098360655737705, 0.18072289156626506, 0.006711409395973154, 0.32954545454545453, 0.4888888888888889, 0.015625, 0.4230769230769231, 0.4230769230769231, 0.46938775510204084, 0.46808510638297873, 0.34523809523809523, 0.40298507462686567, 0.46551724137931033, 0.4307692307692308, 0.1951219512195122, 0.42424242424242425, 0.43333333333333335, 0.27586206896551724, 0.014492753623188406, 0.0797872340425532, 0.0661764705882353, 0.3673469387755102, 0.014492753623188406, 0.4791666666666667, 0.24675324675324675, 0.005660377358490566, 0.3448275862068966, 0.4444444444444444, 0.5094339622641509, 0.14285714285714285, 0.4888888888888889, 0.3877551020408163, 0.015151515151515152, 0.5333333333333333, 0.1262135922330097, 0.21153846153846154, 0.4126984126984127, 0.205607476635514, 0.5192307692307693, 0.3333333333333333, 0.34615384615384615, 0.3880597014925373, 0.275, 0.4444444444444444, 0.42424242424242425, 0.4358974358974359, 0.4057971014492754, 0.49056603773584906, 0.5319148936170213, 0.45, 0.45, 0.5, 0.023255813953488372, 0.05454545454545454, 0.4375, 0.4666666666666667, 0.5, 0.4745762711864407, 0.18823529411764706, 0.02631578947368421, 0.41818181818181815, 0.14912280701754385, 0.417910447761194, 0.4090909090909091, 0.36, 0.3488372093023256, 0.5, 0.4444444444444444, 0.46551724137931033, 0.5714285714285714, 1.0, 0.3541666666666667, 0.42857142857142855, 0.3974358974358974, 0.5, 0.26262626262626265, 0.4126984126984127, 0.3055555555555556, 0.3783783783783784]\n",
            "\n",
            "[0.44, 0.4117647058823529, 0.16470588235294117, 0.3333333333333333, 0.29411764705882354, 0.04878048780487805, 0.21739130434782608, 0.36538461538461536, 0.3076923076923077, 0.39344262295081966, 0.19444444444444445, 0.358974358974359, 0.373134328358209, 0.41379310344827586, 0.2336448598130841, 0.3194444444444444, 0.3968253968253968, 0.3333333333333333, 0.4098360655737705, 0.4090909090909091, 0.40350877192982454, 0.38596491228070173, 0.1518987341772152, 0.007042253521126761, 0.26436781609195403, 0.42857142857142855, 0.017543859649122806, 0.3958333333333333, 0.4888888888888889, 0.4444444444444444, 0.4090909090909091, 0.30864197530864196, 0.4032258064516129, 0.3684210526315789, 0.36507936507936506, 0.2727272727272727, 0.4032258064516129, 0.3620689655172414, 0.25301204819277107, 0.016129032258064516, 0.061170212765957445, 0.0599250936329588, 0.36363636363636365, 0.016129032258064516, 0.45454545454545453, 0.2361111111111111, 0.0057361376673040155, 0.26436781609195403, 0.48717948717948717, 0.35185185185185186, 0.11666666666666667, 0.3953488372093023, 0.4186046511627907, 0.01694915254237288, 0.4090909090909091, 0.11224489795918367, 0.19, 0.36666666666666664, 0.1619047619047619, 0.38461538461538464, 0.3125, 0.3424657534246575, 0.36507936507936506, 0.2571428571428571, 0.4, 0.4032258064516129, 0.4411764705882353, 0.38461538461538464, 0.38461538461538464, 0.41304347826086957, 0.45714285714285713, 0.42857142857142855, 0.4, 0.02531645569620253, 0.09, 0.4418604651162791, 0.40476190476190477, 0.4166666666666667, 0.42857142857142855, 0.16049382716049382, 0.03773584905660377, 0.39215686274509803, 0.14814814814814814, 0.3968253968253968, 0.36507936507936506, 0.35714285714285715, 0.2976190476190476, 0.4418604651162791, 0.4, 0.41818181818181815, 0.34615384615384615, 0.3541666666666667, 1.0, 0.43103448275862066, 0.3246753246753247, 0.36923076923076925, 0.20408163265306123, 0.36666666666666664, 0.19642857142857142, 0.3194444444444444]\n",
            "\n",
            "[0.7636363636363637, 0.35185185185185186, 0.22772277227722773, 0.7605633802816901, 0.6666666666666666, 0.09900990099009901, 0.208955223880597, 0.5238095238095238, 0.35714285714285715, 0.896551724137931, 0.24719101123595505, 0.3684210526315789, 0.7727272727272727, 0.7540983606557377, 0.5242718446601942, 0.6216216216216216, 0.9152542372881356, 0.581081081081081, 0.9137931034482759, 0.5535714285714286, 0.8421052631578947, 0.8245614035087719, 0.27472527472527475, 0.005988023952095809, 0.5882352941176471, 0.5454545454545454, 0.012195121951219513, 0.6428571428571429, 0.6428571428571429, 0.5789473684210527, 0.6111111111111112, 0.7012987012987013, 0.8983050847457628, 0.8070175438596491, 0.85, 0.19642857142857142, 0.8666666666666667, 0.8245614035087719, 0.43333333333333335, 0.011494252873563218, 0.13066666666666665, 0.08833922261484099, 0.46551724137931033, 0.011494252873563218, 0.5892857142857143, 0.29545454545454547, 0.014732965009208104, 0.5168539325842697, 0.48214285714285715, 0.6896551724137931, 0.20855614973262032, 0.5178571428571429, 0.4576271186440678, 0.011904761904761904, 0.6111111111111112, 0.19642857142857142, 0.3211009174311927, 0.7540983606557377, 0.3008849557522124, 0.7962962962962963, 0.7105263157894737, 0.782608695652174, 0.734375, 0.2777777777777778, 0.8166666666666667, 0.8983050847457628, 0.34545454545454546, 0.8852459016393442, 0.7321428571428571, 0.6071428571428571, 0.4074074074074074, 0.8103448275862069, 0.8214285714285714, 0.019230769230769232, 0.08064516129032258, 0.5535714285714286, 0.5272727272727272, 0.6607142857142857, 0.8421052631578947, 0.25263157894736843, 0.08, 0.6, 0.24166666666666667, 0.9152542372881356, 0.85, 0.8181818181818182, 0.6144578313253012, 0.5535714285714286, 0.9122807017543859, 0.8392857142857143, 0.39705882352941174, 0.42857142857142855, 0.43103448275862066, 1.0, 0.7162162162162162, 0.6521739130434783, 0.3490566037735849, 0.7258064516129032, 0.43243243243243246, 0.7391304347826086]\n",
            "\n",
            "[0.5675675675675675, 0.2602739726027397, 0.18181818181818182, 0.7349397590361446, 0.6382978723404256, 0.0743801652892562, 0.20481927710843373, 0.4024390243902439, 0.28378378378378377, 0.6973684210526315, 0.2037037037037037, 0.3108108108108108, 0.7435897435897436, 0.6363636363636364, 0.6, 0.6547619047619048, 0.7368421052631579, 0.4782608695652174, 0.7567567567567568, 0.43243243243243246, 0.6756756756756757, 0.618421052631579, 0.22727272727272727, 0.005376344086021506, 0.5247524752475248, 0.4246575342465753, 0.009900990099009901, 0.5205479452054794, 0.5205479452054794, 0.47297297297297297, 0.4520547945205479, 0.6129032258064516, 0.7012987012987013, 0.6266666666666667, 0.7105263157894737, 0.16216216216216217, 0.7236842105263158, 0.618421052631579, 0.37037037037037035, 0.009433962264150943, 0.1329923273657289, 0.08278145695364239, 0.3333333333333333, 0.009433962264150943, 0.4594594594594595, 0.24299065420560748, 0.012433392539964476, 0.4807692307692308, 0.36, 0.5, 0.20098039215686275, 0.38666666666666666, 0.34615384615384615, 0.009708737864077669, 0.4520547945205479, 0.16793893129770993, 0.29365079365079366, 0.6578947368421053, 0.25757575757575757, 0.5675675675675675, 0.6741573033707865, 0.7108433734939759, 0.6883116883116883, 0.2054794520547945, 0.6410256410256411, 0.7236842105263158, 0.25675675675675674, 0.7402597402597403, 0.5466666666666666, 0.4931506849315068, 0.3013698630136986, 0.6533333333333333, 0.6133333333333333, 0.016260162601626018, 0.06993006993006994, 0.43243243243243246, 0.3918918918918919, 0.5135135135135135, 0.6533333333333333, 0.2, 0.06944444444444445, 0.45569620253164556, 0.20863309352517986, 0.7142857142857143, 0.6883116883116883, 0.759493670886076, 0.6451612903225806, 0.4520547945205479, 0.7066666666666667, 0.6712328767123288, 0.425, 0.3974358974358974, 0.3246753246753247, 0.7162162162162162, 1.0, 0.6419753086419753, 0.35, 0.6578947368421053, 0.5478260869565217, 0.6547619047619048]\n",
            "\n",
            "[0.5606060606060606, 0.31666666666666665, 0.16071428571428573, 0.6794871794871795, 0.5842696629213483, 0.06363636363636363, 0.2608695652173913, 0.43661971830985913, 0.3225806451612903, 0.6338028169014085, 0.18181818181818182, 0.3770491803278688, 0.6621621621621622, 0.5694444444444444, 0.5092592592592593, 0.5949367088607594, 0.7, 0.5185185185185185, 0.6714285714285714, 0.453125, 0.6323529411764706, 0.5942028985507246, 0.2079207920792079, 0.005780346820809248, 0.5161290322580645, 0.4918032786885246, 0.011363636363636364, 0.53125, 0.53125, 0.5, 0.47619047619047616, 0.5747126436781609, 0.6619718309859155, 0.6029411764705882, 0.625, 0.19672131147540983, 0.6619718309859155, 0.5942028985507246, 0.36363636363636365, 0.010752688172043012, 0.1256544502617801, 0.08275862068965517, 0.421875, 0.010752688172043012, 0.532258064516129, 0.2765957446808511, 0.010889292196007259, 0.5, 0.43548387096774194, 0.5522388059701493, 0.20833333333333334, 0.46774193548387094, 0.3939393939393939, 0.011111111111111112, 0.5, 0.15702479338842976, 0.28205128205128205, 0.5915492957746479, 0.2644628099173554, 0.5606060606060606, 0.5813953488372093, 0.5925925925925926, 0.581081081081081, 0.20967741935483872, 0.6666666666666666, 0.7101449275362319, 0.2903225806451613, 0.6805555555555556, 0.4927536231884058, 0.5483870967741935, 0.3442622950819672, 0.5857142857142857, 0.5882352941176471, 0.01818181818181818, 0.06870229007633588, 0.5, 0.45161290322580644, 0.5230769230769231, 0.6818181818181818, 0.20192307692307693, 0.05223880597014925, 0.4782608695652174, 0.20155038759689922, 0.676056338028169, 0.6027397260273972, 0.6153846153846154, 0.5730337078651685, 0.5, 0.6666666666666666, 0.6268656716417911, 0.463768115942029, 0.5, 0.36923076923076925, 0.6521739130434783, 0.6419753086419753, 1.0, 0.3925233644859813, 0.6142857142857143, 0.4864864864864865, 0.6153846153846154]\n",
            "\n",
            "[0.29411764705882354, 0.16129032258064516, 0.1357142857142857, 0.3559322033898305, 0.328125, 0.057971014492753624, 0.1485148514851485, 0.2358490566037736, 0.18085106382978725, 0.3302752293577982, 0.11450381679389313, 0.20212765957446807, 0.36936936936936937, 0.30275229357798167, 0.28859060402684567, 0.34782608695652173, 0.3577981651376147, 0.288135593220339, 0.3394495412844037, 0.2978723404255319, 0.3333333333333333, 0.3238095238095238, 0.11029411764705882, 0.009950248756218905, 0.452991452991453, 0.2903225806451613, 0.008547008547008548, 0.2828282828282828, 0.3229166666666667, 0.26262626262626265, 0.28421052631578947, 0.31746031746031744, 0.32432432432432434, 0.3269230769230769, 0.35185185185185186, 0.12087912087912088, 0.3486238532110092, 0.3113207547169811, 0.22388059701492538, 0.03361344537815126, 0.18911917098445596, 0.071875, 0.25, 0.03361344537815126, 0.2916666666666667, 0.20161290322580644, 0.010344827586206896, 0.4406779661016949, 0.26881720430107525, 0.3434343434343434, 0.14473684210526316, 0.25, 0.24742268041237114, 0.008403361344537815, 0.28421052631578947, 0.19014084507042253, 0.18543046357615894, 0.33962264150943394, 0.18181818181818182, 0.32, 0.33064516129032256, 0.3277310924369748, 0.3394495412844037, 0.13043478260869565, 0.3584905660377358, 0.3611111111111111, 0.17204301075268819, 0.35135135135135137, 0.2815533980582524, 0.2755102040816326, 0.21978021978021978, 0.3592233009708738, 0.3173076923076923, 0.1015625, 0.12666666666666668, 0.2978723404255319, 0.23958333333333334, 0.30612244897959184, 0.3592233009708738, 0.1937984496124031, 0.1038961038961039, 0.28431372549019607, 0.21052631578947367, 0.3577981651376147, 0.32727272727272727, 0.33620689655172414, 0.3203125, 0.28421052631578947, 0.37142857142857144, 0.33980582524271846, 0.2621359223300971, 0.26262626262626265, 0.20408163265306123, 0.3490566037735849, 0.35, 0.3925233644859813, 1.0, 0.33962264150943394, 0.6302521008403361, 0.33620689655172414]\n",
            "\n",
            "[0.6271186440677966, 0.3584905660377358, 0.12844036697247707, 0.7222222222222222, 0.6341463414634146, 0.009174311926605505, 0.21212121212121213, 0.5573770491803278, 0.41509433962264153, 0.7301587301587301, 0.14583333333333334, 0.375, 0.8412698412698413, 0.6060606060606061, 0.4857142857142857, 0.6527777777777778, 0.7777777777777778, 0.46835443037974683, 0.7741935483870968, 0.6226415094339622, 0.7333333333333333, 0.6349206349206349, 0.18556701030927836, 0.006024096385542169, 0.5581395348837209, 0.5849056603773585, 0.012345679012345678, 0.5964912280701754, 0.5689655172413793, 0.6792452830188679, 0.6226415094339622, 0.6049382716049383, 0.7619047619047619, 0.7, 0.8333333333333334, 0.2, 0.7903225806451613, 0.6612903225806451, 0.3333333333333333, 0.011627906976744186, 0.11609498680738786, 0.08865248226950355, 0.423728813559322, 0.011627906976744186, 0.6296296296296297, 0.313953488372093, 0.0018214936247723133, 0.5581395348837209, 0.5471698113207547, 0.6166666666666667, 0.21621621621621623, 0.5849056603773585, 0.46551724137931033, 0.012048192771084338, 0.6226415094339622, 0.11764705882352941, 0.3119266055045872, 0.6825396825396826, 0.2920353982300885, 0.6, 0.6753246753246753, 0.6944444444444444, 0.7741935483870968, 0.2830188679245283, 0.8, 0.7619047619047619, 0.37735849056603776, 0.8095238095238095, 0.6271186440677966, 0.6792452830188679, 0.41509433962264153, 0.7931034482758621, 0.7413793103448276, 0.009615384615384616, 0.064, 0.6226415094339622, 0.5660377358490566, 0.5862068965517241, 0.7333333333333333, 0.14563106796116504, 0.015151515151515152, 0.5573770491803278, 0.16535433070866143, 0.7777777777777778, 0.746031746031746, 0.75, 0.5647058823529412, 0.6226415094339622, 0.7704918032786885, 0.8214285714285714, 0.42424242424242425, 0.4126984126984127, 0.36666666666666664, 0.7258064516129032, 0.6578947368421053, 0.6142857142857143, 0.33962264150943394, 1.0, 0.5047619047619047, 0.803030303030303]\n",
            "\n",
            "[0.37037037037037035, 0.18095238095238095, 0.1437908496732026, 0.5042735042735043, 0.4645669291338583, 0.05194805194805195, 0.17857142857142858, 0.3008849557522124, 0.20952380952380953, 0.4375, 0.11724137931034483, 0.22857142857142856, 0.5272727272727272, 0.38596491228070173, 0.4444444444444444, 0.46153846153846156, 0.4642857142857143, 0.344, 0.44642857142857145, 0.3142857142857143, 0.41818181818181815, 0.38392857142857145, 0.14383561643835616, 0.009216589861751152, 0.5630252100840336, 0.29523809523809524, 0.007518796992481203, 0.3364485981308411, 0.3364485981308411, 0.34285714285714286, 0.3142857142857143, 0.4330708661417323, 0.45535714285714285, 0.4, 0.48623853211009177, 0.11320754716981132, 0.45535714285714285, 0.3963963963963964, 0.2676056338028169, 0.02962962962962963, 0.20865139949109415, 0.08132530120481928, 0.25925925925925924, 0.007246376811594203, 0.32075471698113206, 0.1956521739130435, 0.010067114093959731, 0.5371900826446281, 0.2761904761904762, 0.37962962962962965, 0.18376068376068377, 0.29523809523809524, 0.25688073394495414, 0.007407407407407408, 0.3142857142857143, 0.13496932515337423, 0.21875, 0.4107142857142857, 0.2073170731707317, 0.3577981651376147, 0.49586776859504134, 0.4745762711864407, 0.4727272727272727, 0.14285714285714285, 0.46788990825688076, 0.45535714285714285, 0.19047619047619047, 0.48214285714285715, 0.37037037037037035, 0.34285714285714286, 0.20952380952380953, 0.4444444444444444, 0.4166666666666667, 0.039735099337748346, 0.09467455621301775, 0.3142857142857143, 0.2857142857142857, 0.3333333333333333, 0.43119266055045874, 0.1643835616438356, 0.06285714285714286, 0.32432432432432434, 0.17647058823529413, 0.4642857142857143, 0.44642857142857145, 0.48695652173913045, 0.43410852713178294, 0.3142857142857143, 0.45454545454545453, 0.4392523364485981, 0.32727272727272727, 0.3055555555555556, 0.19642857142857142, 0.43243243243243246, 0.5478260869565217, 0.4864864864864865, 0.6302521008403361, 0.5047619047619047, 1.0, 0.48695652173913045]\n",
            "\n",
            "[0.6268656716417911, 0.2878787878787879, 0.1826086956521739, 0.7564102564102564, 0.7710843373493976, 0.06956521739130435, 0.17721518987341772, 0.4594594594594595, 0.3333333333333333, 0.7681159420289855, 0.20588235294117646, 0.30434782608695654, 0.8169014084507042, 0.6301369863013698, 0.5225225225225225, 0.6296296296296297, 0.8115942028985508, 0.5, 0.782608695652174, 0.5, 0.746268656716418, 0.6811594202898551, 0.24271844660194175, 0.00558659217877095, 0.5638297872340425, 0.4696969696969697, 0.010638297872340425, 0.5757575757575758, 0.5522388059701493, 0.5454545454545454, 0.5, 0.7228915662650602, 0.7971014492753623, 0.6911764705882353, 0.8088235294117647, 0.16176470588235295, 0.7971014492753623, 0.6811594202898551, 0.38235294117647056, 0.010101010101010102, 0.13246753246753246, 0.0847457627118644, 0.38571428571428573, 0.010101010101010102, 0.5303030303030303, 0.2727272727272727, 0.012589928057553957, 0.53125, 0.4393939393939394, 0.5942028985507246, 0.2268041237113402, 0.4696969696969697, 0.38028169014084506, 0.010416666666666666, 0.5, 0.168, 0.31092436974789917, 0.7, 0.28225806451612906, 0.6268656716417911, 0.7108433734939759, 0.7307692307692307, 0.7083333333333334, 0.22727272727272727, 0.7794117647058824, 0.7971014492753623, 0.30303030303030304, 0.8405797101449275, 0.6268656716417911, 0.5454545454545454, 0.3333333333333333, 0.746268656716418, 0.7014925373134329, 0.017241379310344827, 0.06569343065693431, 0.5, 0.45454545454545453, 0.5909090909090909, 0.7205882352941176, 0.2018348623853211, 0.06521739130434782, 0.5, 0.21052631578947367, 0.8115942028985508, 0.782608695652174, 0.7837837837837838, 0.6043956043956044, 0.5, 0.7794117647058824, 0.7164179104477612, 0.35443037974683544, 0.3783783783783784, 0.3194444444444444, 0.7391304347826086, 0.6547619047619048, 0.6153846153846154, 0.33620689655172414, 0.803030303030303, 0.48695652173913045, 1.0]\n",
            "\n"
          ],
          "name": "stdout"
        }
      ]
    },
    {
      "cell_type": "code",
      "metadata": {
        "id": "qnltbADdq007",
        "colab_type": "code",
        "outputId": "4ffa1bcb-db4a-406a-af7c-997b52f35fb7",
        "colab": {
          "base_uri": "https://localhost:8080/",
          "height": 221
        }
      },
      "source": [
        "pip install seaborn"
      ],
      "execution_count": 0,
      "outputs": [
        {
          "output_type": "stream",
          "text": [
            "Requirement already satisfied: seaborn in /usr/local/lib/python3.6/dist-packages (0.9.0)\n",
            "Requirement already satisfied: matplotlib>=1.4.3 in /usr/local/lib/python3.6/dist-packages (from seaborn) (3.1.1)\n",
            "Requirement already satisfied: numpy>=1.9.3 in /usr/local/lib/python3.6/dist-packages (from seaborn) (1.17.4)\n",
            "Requirement already satisfied: pandas>=0.15.2 in /usr/local/lib/python3.6/dist-packages (from seaborn) (0.25.3)\n",
            "Requirement already satisfied: scipy>=0.14.0 in /usr/local/lib/python3.6/dist-packages (from seaborn) (1.3.2)\n",
            "Requirement already satisfied: python-dateutil>=2.1 in /usr/local/lib/python3.6/dist-packages (from matplotlib>=1.4.3->seaborn) (2.6.1)\n",
            "Requirement already satisfied: kiwisolver>=1.0.1 in /usr/local/lib/python3.6/dist-packages (from matplotlib>=1.4.3->seaborn) (1.1.0)\n",
            "Requirement already satisfied: pyparsing!=2.0.4,!=2.1.2,!=2.1.6,>=2.0.1 in /usr/local/lib/python3.6/dist-packages (from matplotlib>=1.4.3->seaborn) (2.4.5)\n",
            "Requirement already satisfied: cycler>=0.10 in /usr/local/lib/python3.6/dist-packages (from matplotlib>=1.4.3->seaborn) (0.10.0)\n",
            "Requirement already satisfied: pytz>=2017.2 in /usr/local/lib/python3.6/dist-packages (from pandas>=0.15.2->seaborn) (2018.9)\n",
            "Requirement already satisfied: six>=1.5 in /usr/local/lib/python3.6/dist-packages (from python-dateutil>=2.1->matplotlib>=1.4.3->seaborn) (1.12.0)\n",
            "Requirement already satisfied: setuptools in /usr/local/lib/python3.6/dist-packages (from kiwisolver>=1.0.1->matplotlib>=1.4.3->seaborn) (41.4.0)\n"
          ],
          "name": "stdout"
        }
      ]
    },
    {
      "cell_type": "code",
      "metadata": {
        "id": "lfTXO8cxxiB3",
        "colab_type": "code",
        "colab": {}
      },
      "source": [
        "import seaborn as sb\n",
        "import matplotlib.pyplot as plt\n",
        "import numpy as np"
      ],
      "execution_count": 0,
      "outputs": []
    },
    {
      "cell_type": "markdown",
      "metadata": {
        "id": "mQYNPaxH0AFF",
        "colab_type": "text"
      },
      "source": [
        "i. Diagonal heatmap of Jaccard similarity"
      ]
    },
    {
      "cell_type": "code",
      "metadata": {
        "id": "ZGJ0I8txyfdu",
        "colab_type": "code",
        "outputId": "96a6b72e-bc86-4c4a-df70-093156258427",
        "colab": {
          "base_uri": "https://localhost:8080/",
          "height": 286
        }
      },
      "source": [
        "heatmap = sb.heatmap(jaccard_similarity_list)\n",
        "heatmap.set_ylabel('Documents')\n",
        "heatmap.set_xlabel('Documents')\n",
        "plt.show()"
      ],
      "execution_count": 0,
      "outputs": [
        {
          "output_type": "display_data",
          "data": {
            "image/png": "[encoded data removed]",
            "text/plain": [
              "<Figure size 432x288 with 2 Axes>"
            ]
          },
          "metadata": {
            "tags": []
          }
        }
      ]
    },
    {
      "cell_type": "code",
      "metadata": {
        "id": "wNpPaD7eTpJU",
        "colab_type": "code",
        "colab": {}
      },
      "source": [
        "doc_final = []\n",
        "for elem in doc_list_new:\n",
        "  doc_final.append(elem[0])\n",
        "\n",
        "doc_np = np.asarray(doc_final)"
      ],
      "execution_count": 0,
      "outputs": []
    },
    {
      "cell_type": "code",
      "metadata": {
        "id": "l76_JxmgUBic",
        "colab_type": "code",
        "colab": {}
      },
      "source": [
        ""
      ],
      "execution_count": 0,
      "outputs": []
    },
    {
      "cell_type": "markdown",
      "metadata": {
        "id": "-O11t5_x6Upg",
        "colab_type": "text"
      },
      "source": [
        "b) Storing the number of times specific term has appeared"
      ]
    },
    {
      "cell_type": "code",
      "metadata": {
        "id": "NGbdNlRqovCc",
        "colab_type": "code",
        "colab": {}
      },
      "source": [
        "import pandas as pd\n",
        "from sklearn.feature_extraction.text import CountVectorizer\n",
        "\n",
        "vec = CountVectorizer()\n",
        "X = vec.fit_transform(doc_final)\n"
      ],
      "execution_count": 0,
      "outputs": []
    },
    {
      "cell_type": "markdown",
      "metadata": {
        "id": "bzFK9QyBjHCm",
        "colab_type": "text"
      },
      "source": [
        "i. Rows as terms, columns as document vectors"
      ]
    },
    {
      "cell_type": "code",
      "metadata": {
        "id": "CNsB9BUpzC_t",
        "colab_type": "code",
        "outputId": "fb5142c2-d15d-4b8c-9f2a-fb9d67fe51e2",
        "colab": {
          "base_uri": "https://localhost:8080/",
          "height": 255
        }
      },
      "source": [
        "df = pd.DataFrame(X.toarray(), columns=vec.get_feature_names())\n",
        "df = df.transpose()\n",
        "print(df)"
      ],
      "execution_count": 0,
      "outputs": [
        {
          "output_type": "stream",
          "text": [
            "           0   1   2   3   4   5   6   7   ...  92  93  94  95  96  97  98  99\n",
            "00          0   0   0   0   0   0   0   0  ...   0   1   0   0   0   0   0   0\n",
            "000         0   0   3   4  22   1   0   0  ...   0   0   0   0   2   0   1   0\n",
            "000க        0   0   0   0   0   0   0   0  ...   0   0   0   0   0   0   0   0\n",
            "000公頃       0   0   0   0   0   0   0   0  ...   0   0   0   0   0   0   0   0\n",
            "004         0   0   0   0   0   0   0   0  ...   0   0   0   0   0   0   0   0\n",
            "...        ..  ..  ..  ..  ..  ..  ..  ..  ...  ..  ..  ..  ..  ..  ..  ..  ..\n",
            "𐍃𐌹𐌺𐌷𐌹𐍃𐌼𐌿𐍃   0   0   0   0   0   0   0   0  ...   0   0   0   0   0   0   0   0\n",
            "𐍃𐌹𐌽𐌰        0   0   0   0   0   0   0   0  ...   0   0   0   0   0   0   0   0\n",
            "𐍃𐌹𐌽𐌳        0   0   0   0   0   0   0   0  ...   0   0   0   0   0   0   0   0\n",
            "𐍃𐌿𐌽𐌸𐍂𐌰      0   0   0   0   0   0   0   0  ...   0   0   0   0   0   0   0   0\n",
            "𐍃𐍂𐌹         0   0   0   0   0   0   0   0  ...   0   0   0   0   0   0   0   0\n",
            "\n",
            "[25620 rows x 100 columns]\n"
          ],
          "name": "stdout"
        }
      ]
    },
    {
      "cell_type": "markdown",
      "metadata": {
        "id": "uF7-_6GFjETD",
        "colab_type": "text"
      },
      "source": [
        "ii. 20 permutations and their signatures"
      ]
    },
    {
      "cell_type": "code",
      "metadata": {
        "id": "weZLwrZBYHak",
        "colab_type": "code",
        "colab": {}
      },
      "source": [
        "import random\n",
        "permutation = []\n",
        "\n",
        "for i in range(20):\n",
        "  permutation.append(random.sample(range(0, len(df)), len(df)))\n",
        "  \n",
        "\n"
      ],
      "execution_count": 0,
      "outputs": []
    },
    {
      "cell_type": "code",
      "metadata": {
        "id": "nzg3V1NHZcqi",
        "colab_type": "code",
        "colab": {}
      },
      "source": [
        "signature_doc = []\n",
        "for i in range(20):\n",
        "    perm_i = permutation[i]\n",
        "    doc_l_i = []\n",
        "    for d in range(df.shape[1]):\n",
        "        for j in perm_i:\n",
        "            if(df.iloc[[j],[d]].values > 0):\n",
        "                doc_l_i.append(j)\n",
        "                break\n",
        "    signature_doc.append(doc_l_i)\n",
        "\n",
        "    \n"
      ],
      "execution_count": 0,
      "outputs": []
    },
    {
      "cell_type": "code",
      "metadata": {
        "id": "aZblA34BrMHQ",
        "colab_type": "code",
        "colab": {}
      },
      "source": [
        "s_docs = np.array(signature_doc)"
      ],
      "execution_count": 0,
      "outputs": []
    },
    {
      "cell_type": "code",
      "metadata": {
        "id": "sGjXjF2KKU2y",
        "colab_type": "code",
        "outputId": "8ef0cfd0-1f64-4a89-8b24-e8a0a65f735f",
        "colab": {
          "base_uri": "https://localhost:8080/",
          "height": 34
        }
      },
      "source": [
        "len(s_docs)"
      ],
      "execution_count": 0,
      "outputs": [
        {
          "output_type": "execute_result",
          "data": {
            "text/plain": [
              "20"
            ]
          },
          "metadata": {
            "tags": []
          },
          "execution_count": 49
        }
      ]
    },
    {
      "cell_type": "markdown",
      "metadata": {
        "id": "6qkfWpDwjXEM",
        "colab_type": "text"
      },
      "source": [
        "iii. Jaccard similarity of signatures"
      ]
    },
    {
      "cell_type": "code",
      "metadata": {
        "id": "wI58nTpCJJo5",
        "colab_type": "code",
        "colab": {}
      },
      "source": [
        "jaccard_signature = []\n",
        "\n",
        "for i in range(len(s_docs[0])):\n",
        "  document1 = s_docs[:,i]\n",
        "  vector_for_each_doc = []\n",
        "  for j in range(len(s_docs[0])):\n",
        "    document2 = s_docs[:,j]\n",
        "    vector_for_each_doc.append(jaccard_similarity(document1,document2))\n",
        "  jaccard_signature.append(vector_for_each_doc)"
      ],
      "execution_count": 0,
      "outputs": []
    },
    {
      "cell_type": "markdown",
      "metadata": {
        "id": "zrZi-LCyjed0",
        "colab_type": "text"
      },
      "source": [
        "iv. Diagonal heatmap of signatures"
      ]
    },
    {
      "cell_type": "code",
      "metadata": {
        "id": "fqOefxUrK_Q6",
        "colab_type": "code",
        "outputId": "3b221c34-c842-4ca1-eaf4-f5f702e05fb1",
        "colab": {
          "base_uri": "https://localhost:8080/",
          "height": 286
        }
      },
      "source": [
        "heatmap = sb.heatmap(jaccard_signature)\n",
        "heatmap.set_ylabel('Documents')\n",
        "heatmap.set_xlabel('Documents')\n",
        "plt.show()"
      ],
      "execution_count": 0,
      "outputs": [
        {
          "output_type": "display_data",
          "data": {
            "image/png": "[encoded data removed]",
            "text/plain": [
              "<Figure size 432x288 with 2 Axes>"
            ]
          },
          "metadata": {
            "tags": []
          }
        }
      ]
    },
    {
      "cell_type": "code",
      "metadata": {
        "id": "qtJAl5nqaSIY",
        "colab_type": "code",
        "colab": {}
      },
      "source": [
        ""
      ],
      "execution_count": 0,
      "outputs": []
    },
    {
      "cell_type": "markdown",
      "metadata": {
        "id": "22JhSr-qaRi1",
        "colab_type": "text"
      },
      "source": [
        "#TASK 3: Link Analysis"
      ]
    },
    {
      "cell_type": "markdown",
      "metadata": {
        "id": "dNceBmEtj9vh",
        "colab_type": "text"
      },
      "source": [
        "a) PageRank = number of incoming links"
      ]
    },
    {
      "cell_type": "code",
      "metadata": {
        "id": "6uuZn01nbcC2",
        "colab_type": "code",
        "colab": {}
      },
      "source": [
        "incoming_link = {}\n",
        "\n",
        "for i,j in graph.edges:\n",
        "    if j not in incoming_link:\n",
        "        incoming_link[j] = 1\n",
        "    else:\n",
        "        incoming_link[j] +=1"
      ],
      "execution_count": 0,
      "outputs": []
    },
    {
      "cell_type": "code",
      "metadata": {
        "id": "dcIo4_EXbppd",
        "colab_type": "code",
        "colab": {}
      },
      "source": [
        "ordered_inc_link = [(j,i) for i,j in incoming_link.items()]\n",
        "#sorted(ordered_inc_link,reverse=True)\n",
        "x = [j for i,j in ordered_inc_link]\n",
        "y = [i for i,j in ordered_inc_link]"
      ],
      "execution_count": 0,
      "outputs": []
    },
    {
      "cell_type": "code",
      "metadata": {
        "id": "ySnGnVmObra7",
        "colab_type": "code",
        "outputId": "84a2b5e5-a67e-4edd-ffc7-fa3dce5e8e3e",
        "colab": {
          "base_uri": "https://localhost:8080/",
          "height": 268
        }
      },
      "source": [
        "import matplotlib.pyplot as plt\n",
        "plt.title(\"PAGERANK CALCULATED VIA INCOMING HYPERLINKS\")\n",
        "plt.plot(x,y)\n",
        "plt.gca().axes.get_xaxis().set_visible(False)\n",
        "plt.show()"
      ],
      "execution_count": 0,
      "outputs": [
        {
          "output_type": "display_data",
          "data": {
            "image/png": "[encoded data removed]",
            "text/plain": [
              "<Figure size 432x288 with 1 Axes>"
            ]
          },
          "metadata": {
            "tags": []
          }
        }
      ]
    },
    {
      "cell_type": "markdown",
      "metadata": {
        "id": "2aVkoOyJ4cAJ",
        "colab_type": "text"
      },
      "source": [
        "##ITERATIVE METHOD"
      ]
    },
    {
      "cell_type": "code",
      "metadata": {
        "id": "E2tInW-84UaM",
        "colab_type": "code",
        "colab": {}
      },
      "source": [
        "outgoing_links = {}\n",
        "backlinks = {}"
      ],
      "execution_count": 0,
      "outputs": []
    },
    {
      "cell_type": "markdown",
      "metadata": {
        "id": "igC_2LdZkPc-",
        "colab_type": "text"
      },
      "source": [
        "b) Iterative method with no teleporting"
      ]
    },
    {
      "cell_type": "code",
      "metadata": {
        "id": "I3IQ3aHj4iBL",
        "colab_type": "code",
        "colab": {}
      },
      "source": [
        "for i,j in graph.edges:\n",
        "    if i not in outgoing_links:\n",
        "        outgoing_links[i] = 1\n",
        "    else:\n",
        "        outgoing_links[i] +=1\n",
        "    if j not in backlinks:\n",
        "        backlinks[j] = []\n",
        "        backlinks[j].append(i)\n",
        "    else:\n",
        "        backlinks[j].append(i)"
      ],
      "execution_count": 0,
      "outputs": []
    },
    {
      "cell_type": "code",
      "metadata": {
        "id": "u1DDAlKG5SpU",
        "colab_type": "code",
        "colab": {}
      },
      "source": [
        "iterative_page_rank = {}\n",
        "total_link_list = []"
      ],
      "execution_count": 0,
      "outputs": []
    },
    {
      "cell_type": "code",
      "metadata": {
        "id": "QTTkcSYW5hS0",
        "colab_type": "code",
        "colab": {}
      },
      "source": [
        "for i in outgoing_links:\n",
        "    total_link_list.append(i)\n",
        "for i in backlinks:\n",
        "    if i not in total_link_list:\n",
        "        total_link_list.append(i)\n",
        "for i in total_link_list:\n",
        "    iterative_page_rank[i] = 0"
      ],
      "execution_count": 0,
      "outputs": []
    },
    {
      "cell_type": "code",
      "metadata": {
        "id": "LvoRRrgu5w_M",
        "colab_type": "code",
        "colab": {}
      },
      "source": [
        "d = 0.85"
      ],
      "execution_count": 0,
      "outputs": []
    },
    {
      "cell_type": "code",
      "metadata": {
        "id": "4g1LDpBB4-6z",
        "colab_type": "code",
        "colab": {}
      },
      "source": [
        "for i in range(3):\n",
        "    for j in total_link_list:\n",
        "        if j not in backlinks:\n",
        "            iterative_page_rank[j] = 1-d\n",
        "            continue\n",
        "        s = 0\n",
        "        for inc in backlinks[j]:\n",
        "            if inc not in outgoing_links:\n",
        "                continue\n",
        "            else:\n",
        "                s += (iterative_page_rank[inc]*1.0)/outgoing_links[inc]\n",
        "        iterative_page_rank[j] = 1-d + d*s\n",
        "\n",
        "\n"
      ],
      "execution_count": 0,
      "outputs": []
    },
    {
      "cell_type": "code",
      "metadata": {
        "id": "66I4yDT88XKM",
        "colab_type": "code",
        "colab": {}
      },
      "source": [
        "k_list = [i for i,j in iterative_page_rank.items()]\n",
        "v_list = [j for i,j in iterative_page_rank.items()]\n"
      ],
      "execution_count": 0,
      "outputs": []
    },
    {
      "cell_type": "code",
      "metadata": {
        "id": "nB3l-qWU5AEL",
        "colab_type": "code",
        "outputId": "4def7718-2609-4793-c9df-5f179db1dc51",
        "colab": {
          "base_uri": "https://localhost:8080/",
          "height": 268
        }
      },
      "source": [
        "plt.title(\"ITERATIVE PAGERANK WITH n=3\")\n",
        "plt.plot(k_list, v_list)\n",
        "plt.gca().axes.get_xaxis().set_visible(False)\n",
        "plt.show()"
      ],
      "execution_count": 0,
      "outputs": [
        {
          "output_type": "display_data",
          "data": {
            "image/png": "[encoded data removed]",
            "text/plain": [
              "<Figure size 432x288 with 1 Axes>"
            ]
          },
          "metadata": {
            "tags": []
          }
        }
      ]
    },
    {
      "cell_type": "code",
      "metadata": {
        "id": "teOGlHOH7mPC",
        "colab_type": "code",
        "colab": {}
      },
      "source": [
        "removed_total_link_list = []\n",
        "for link in total_link_list:\n",
        "    if link in outgoing_links:\n",
        "        removed_total_link_list.append(link)"
      ],
      "execution_count": 0,
      "outputs": []
    },
    {
      "cell_type": "code",
      "metadata": {
        "id": "eu2GN2OkMt0O",
        "colab_type": "code",
        "colab": {}
      },
      "source": [
        "removed_iterative_page_rank = {}\n",
        "for i in removed_total_link_list:\n",
        "    removed_iterative_page_rank[i] = 0"
      ],
      "execution_count": 0,
      "outputs": []
    },
    {
      "cell_type": "markdown",
      "metadata": {
        "id": "czEQ-QZckUHl",
        "colab_type": "text"
      },
      "source": [
        "c) Re-computing PageRank after discarding nodes with no outgoing edges"
      ]
    },
    {
      "cell_type": "code",
      "metadata": {
        "id": "T8i6RgAkNTfo",
        "colab_type": "code",
        "colab": {}
      },
      "source": [
        "removed_backlinks = {}\n",
        "removed_outgoing_links = {}\n",
        "\n",
        "for i,j in graph.edges:\n",
        "    if i not in removed_total_link_list:\n",
        "         print(\"CANT BE \",i)\n",
        "    if j not in removed_total_link_list:\n",
        "            continue\n",
        "\n",
        "    if i not in removed_outgoing_links:\n",
        "        removed_outgoing_links[i] = 1\n",
        "    else:\n",
        "        removed_outgoing_links[i] += 1\n",
        "    \n",
        "    if j not in removed_backlinks:\n",
        "        removed_backlinks[j] = []\n",
        "        removed_backlinks[j].append(i)\n",
        "    else:\n",
        "        removed_backlinks[j].append(i)\n",
        "    \n",
        "    "
      ],
      "execution_count": 0,
      "outputs": []
    },
    {
      "cell_type": "code",
      "metadata": {
        "id": "UHMU1WVrMx7m",
        "colab_type": "code",
        "colab": {}
      },
      "source": [
        "for i in range(3):\n",
        "    for j in removed_total_link_list:\n",
        "        if j not in removed_backlinks:\n",
        "            removed_iterative_page_rank[j] = 1-d\n",
        "            continue\n",
        "        s = 0\n",
        "        for inc in removed_backlinks[j]:\n",
        "            if inc not in removed_outgoing_links:\n",
        "                continue\n",
        "            else:\n",
        "                s += (removed_iterative_page_rank[inc]*1.0)/removed_outgoing_links[inc]\n",
        "        removed_iterative_page_rank[j] = 1-d + d*s"
      ],
      "execution_count": 0,
      "outputs": []
    },
    {
      "cell_type": "code",
      "metadata": {
        "id": "2Otmyb2aPSav",
        "colab_type": "code",
        "colab": {}
      },
      "source": [
        "k_list2 = [i for i,j in removed_iterative_page_rank.items()]\n",
        "v_list2 = [j for i,j in removed_iterative_page_rank.items()]"
      ],
      "execution_count": 0,
      "outputs": []
    },
    {
      "cell_type": "code",
      "metadata": {
        "id": "cpqNbKoiPY5X",
        "colab_type": "code",
        "outputId": "158108ff-5de9-4339-c7f1-db14413448b1",
        "colab": {
          "base_uri": "https://localhost:8080/",
          "height": 268
        }
      },
      "source": [
        "plt.title(\"ITERATIVE PAGERANK WITH NODES WITHOUT OUTGOING EDGES REMOVED\")\n",
        "plt.plot(k_list, v_list)\n",
        "plt.gca().axes.get_xaxis().set_visible(False)\n",
        "plt.show()"
      ],
      "execution_count": 0,
      "outputs": [
        {
          "output_type": "display_data",
          "data": {
            "image/png": "[encoded data removed]",
            "text/plain": [
              "<Figure size 432x288 with 1 Axes>"
            ]
          },
          "metadata": {
            "tags": []
          }
        }
      ]
    },
    {
      "cell_type": "code",
      "metadata": {
        "id": "MZzOj2YRPcUX",
        "colab_type": "code",
        "colab": {}
      },
      "source": [
        "common_k = []\n",
        "common_v = []\n",
        "\n",
        "for link in removed_total_link_list:\n",
        "    \n",
        "    common_k.append(link)\n",
        "    common_v.append(iterative_page_rank[link])"
      ],
      "execution_count": 0,
      "outputs": []
    },
    {
      "cell_type": "markdown",
      "metadata": {
        "colab_type": "text",
        "id": "_4Ri8Fb9ws6-"
      },
      "source": [
        "3d) Line graph comparing results of 3(b) and 3(c) as \n",
        "\n",
        "common = values of page rank for the links which are common between 3b and 3c so that we can compare them in a line graph"
      ]
    },
    {
      "cell_type": "code",
      "metadata": {
        "id": "66mq-xL1Pwbm",
        "colab_type": "code",
        "outputId": "c6debbab-c8e5-45c4-c62b-c7903a39e801",
        "colab": {
          "base_uri": "https://localhost:8080/",
          "height": 268
        }
      },
      "source": [
        "plt.title(\"COMPARISION BETWEEN PAGERANK VALUES BEFORE AND AFTER REMOVING NODES WITH NO OUTGOING EDGES. RED -> AFTER REMOVAL. BLUE -> BEFORE REMOVAL\")\n",
        "plt.plot(common_k, common_v,'b')\n",
        "plt.plot(k_list2, v_list2, 'r')\n",
        "plt.gca().axes.get_xaxis().set_visible(False)\n",
        "plt.show()"
      ],
      "execution_count": 0,
      "outputs": [
        {
          "output_type": "display_data",
          "data": {
            "image/png": "[encoded data removed]",
            "text/plain": [
              "<Figure size 432x288 with 1 Axes>"
            ]
          },
          "metadata": {
            "tags": []
          }
        }
      ]
    },
    {
      "cell_type": "markdown",
      "metadata": {
        "colab_type": "text",
        "id": "x2gswM5ewtfz"
      },
      "source": [
        "There is a significant increase in PageRank after removing sink nodes (red) as compared to the value with sink nodes (blue). This is because these nodes did not contribute to the PageRank of other nodes, while reducing the contribution of nodes that had outgoing links to the sink nodes, which in turn lowered the PageRank of all other nodes. Upon removing the sink nodes, the contribution of the nodes that previously had outgoing edges to sink nodes increased due to the decrease in out degree, which increases the PageRank of the nodes still connected to them. "
      ]
    },
    {
      "cell_type": "code",
      "metadata": {
        "id": "MQhQR2uZPy9m",
        "colab_type": "code",
        "colab": {}
      },
      "source": [
        ""
      ],
      "execution_count": 0,
      "outputs": []
    },
    {
      "cell_type": "markdown",
      "metadata": {
        "id": "7Yy_K8WtQRjD",
        "colab_type": "text"
      },
      "source": [
        "##MATRIX MULTIPLICATION"
      ]
    },
    {
      "cell_type": "code",
      "metadata": {
        "id": "SMyKumTQQUrG",
        "colab_type": "code",
        "colab": {}
      },
      "source": [
        "transition_matrix = np.zeros((len(total_link_list),len(total_link_list)))"
      ],
      "execution_count": 0,
      "outputs": []
    },
    {
      "cell_type": "code",
      "metadata": {
        "id": "4n2YWtAMQ0zK",
        "colab_type": "code",
        "colab": {}
      },
      "source": [
        ""
      ],
      "execution_count": 0,
      "outputs": []
    },
    {
      "cell_type": "markdown",
      "metadata": {
        "id": "4vUn-P2zxmeG",
        "colab_type": "text"
      },
      "source": [
        "e) Implementation of the matrix multiplication method"
      ]
    },
    {
      "cell_type": "code",
      "metadata": {
        "id": "b4h7dVYsQ5S2",
        "colab_type": "code",
        "colab": {}
      },
      "source": [
        "#Make the stochastic adjacency matrix\n",
        "\n",
        "for i in range(len(total_link_list)):\n",
        "    for j in range(len(total_link_list)):\n",
        "        if total_link_list[i] not in backlinks:\n",
        "            continue\n",
        "        if total_link_list[j] in backlinks[total_link_list[i]]:\n",
        "            transition_matrix[i][j] = 1.0/outgoing_links[total_link_list[j]] "
      ],
      "execution_count": 0,
      "outputs": []
    },
    {
      "cell_type": "code",
      "metadata": {
        "id": "U4E7UAfjR3Ln",
        "colab_type": "code",
        "colab": {}
      },
      "source": [
        "pagerank_vector = np.ones(len(total_link_list))"
      ],
      "execution_count": 0,
      "outputs": []
    },
    {
      "cell_type": "code",
      "metadata": {
        "id": "drzI0MwUT0GX",
        "colab_type": "code",
        "colab": {}
      },
      "source": [
        "for i in range(3):\n",
        "    pagerank_vector = transition_matrix.dot(pagerank_vector)"
      ],
      "execution_count": 0,
      "outputs": []
    },
    {
      "cell_type": "code",
      "metadata": {
        "id": "J1ehHER0dh1B",
        "colab_type": "code",
        "colab": {}
      },
      "source": [
        ""
      ],
      "execution_count": 0,
      "outputs": []
    },
    {
      "cell_type": "code",
      "metadata": {
        "id": "6lESV_9EU_mG",
        "colab_type": "code",
        "outputId": "257641f8-cd94-4fac-9be3-e2a6f654f505",
        "colab": {
          "base_uri": "https://localhost:8080/",
          "height": 281
        }
      },
      "source": [
        "plt.title(\"PAGERANK CALCULATED BY THE MATRIX MULTIPLICATION METHOD\")\n",
        "plt.plot(pagerank_vector)\n",
        "plt.show()"
      ],
      "execution_count": 0,
      "outputs": [
        {
          "output_type": "display_data",
          "data": {
            "image/png": "[encoded data removed]",
            "text/plain": [
              "<Figure size 432x288 with 1 Axes>"
            ]
          },
          "metadata": {
            "tags": []
          }
        }
      ]
    },
    {
      "cell_type": "code",
      "metadata": {
        "id": "wapLOb_LVOVF",
        "colab_type": "code",
        "colab": {}
      },
      "source": [
        "transition_matrix_removed = np.zeros((len(removed_total_link_list),len(removed_total_link_list)))"
      ],
      "execution_count": 0,
      "outputs": []
    },
    {
      "cell_type": "markdown",
      "metadata": {
        "id": "DnEtQhO2xxgd",
        "colab_type": "text"
      },
      "source": [
        "f) Matrix multiplication after removing sink nodes"
      ]
    },
    {
      "cell_type": "code",
      "metadata": {
        "id": "dUiIO7F4Vp1G",
        "colab_type": "code",
        "colab": {}
      },
      "source": [
        "for i in range(len(removed_total_link_list)):\n",
        "    for j in range(len(removed_total_link_list)):\n",
        "        if removed_total_link_list[i] not in removed_backlinks:\n",
        "            continue\n",
        "        if removed_total_link_list[j] in removed_backlinks[removed_total_link_list[i]]:\n",
        "            transition_matrix_removed[i][j] = 1.0/removed_outgoing_links[removed_total_link_list[j]] "
      ],
      "execution_count": 0,
      "outputs": []
    },
    {
      "cell_type": "code",
      "metadata": {
        "id": "BiMCc15IV-6V",
        "colab_type": "code",
        "colab": {}
      },
      "source": [
        "pagerank_vector_removed = np.ones(len(removed_total_link_list))"
      ],
      "execution_count": 0,
      "outputs": []
    },
    {
      "cell_type": "code",
      "metadata": {
        "id": "upCkiAxKWGUF",
        "colab_type": "code",
        "colab": {}
      },
      "source": [
        "for i in range(3):\n",
        "    pagerank_vector_removed = transition_matrix_removed.dot(pagerank_vector_removed)"
      ],
      "execution_count": 0,
      "outputs": []
    },
    {
      "cell_type": "code",
      "metadata": {
        "id": "Sx_PuNkmWPc1",
        "colab_type": "code",
        "outputId": "d7a94700-210a-4b14-d4b5-d5e5498d7244",
        "colab": {
          "base_uri": "https://localhost:8080/",
          "height": 281
        }
      },
      "source": [
        "plt.title(\"PAGERANK USING MATRIX MULTIPLICATION METHOD AFTER REMOVING NODES WITH NO OUTGOING EDGES\")\n",
        "plt.plot(pagerank_vector_removed)\n",
        "plt.show()"
      ],
      "execution_count": 0,
      "outputs": [
        {
          "output_type": "display_data",
          "data": {
            "image/png": "[encoded data removed]",
            "text/plain": [
              "<Figure size 432x288 with 1 Axes>"
            ]
          },
          "metadata": {
            "tags": []
          }
        }
      ]
    },
    {
      "cell_type": "code",
      "metadata": {
        "id": "ygBo1DKXWTHF",
        "colab_type": "code",
        "colab": {}
      },
      "source": [
        "common = []\n",
        "\n",
        "for i in removed_total_link_list:\n",
        "    \n",
        "    idx2 = total_link_list.index(i)\n",
        "    common.append(pagerank_vector[idx2])\n",
        "    "
      ],
      "execution_count": 0,
      "outputs": []
    },
    {
      "cell_type": "markdown",
      "metadata": {
        "id": "1bROO8YDx5CB",
        "colab_type": "text"
      },
      "source": [
        "g) Line chart of common"
      ]
    },
    {
      "cell_type": "code",
      "metadata": {
        "id": "uE4Hm6H5XvCL",
        "colab_type": "code",
        "outputId": "f5c61ba1-a3a4-4c1a-b559-9ea96378b9da",
        "colab": {
          "base_uri": "https://localhost:8080/",
          "height": 281
        }
      },
      "source": [
        "plt.title(\"COMPARISION OF VALUES IN THE TWO PARTS BEFORE AND AFTER REMOVAL OF NODES WITH NO OUTEDGES. RED -> AFTER REMOVAL. BLUE -> BEFORE REMOVAL\")\n",
        "plt.plot(pagerank_vector_removed,'r')\n",
        "plt.plot(common,'b')\n",
        "plt.show()"
      ],
      "execution_count": 0,
      "outputs": [
        {
          "output_type": "display_data",
          "data": {
            "image/png": "[encoded data removed]",
            "text/plain": [
              "<Figure size 432x288 with 1 Axes>"
            ]
          },
          "metadata": {
            "tags": []
          }
        }
      ]
    },
    {
      "cell_type": "markdown",
      "metadata": {
        "id": "WGkwVm260Ybj",
        "colab_type": "text"
      },
      "source": [
        "There is a sharp increase in PageRank after the removal of sink nodes (red) compared to the value before removal (blue). This is because the contribution of the remaining vertices increased drastically after removal of sink vertices in part 3f, which reduces the out degree of remaining vertices and increases the PageRank across the network, similar to 3d."
      ]
    },
    {
      "cell_type": "code",
      "metadata": {
        "id": "27WTg11sXxHl",
        "colab_type": "code",
        "colab": {}
      },
      "source": [
        ""
      ],
      "execution_count": 0,
      "outputs": []
    }
  ]
}